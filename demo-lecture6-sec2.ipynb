{
 "cells": [
  {
   "cell_type": "code",
   "execution_count": 1,
   "metadata": {},
   "outputs": [],
   "source": [
    "import numpy as np\n",
    "import math"
   ]
  },
  {
   "cell_type": "code",
   "execution_count": 3,
   "metadata": {},
   "outputs": [],
   "source": [
    "M = np.matrix([\n",
    "    [4,-2,1,8],\n",
    "    [1,1,1,-13],\n",
    "    [9,3,1,3]\n",
    "])"
   ]
  },
  {
   "cell_type": "code",
   "execution_count": 4,
   "metadata": {},
   "outputs": [
    {
     "data": {
      "text/plain": [
       "matrix([[  4,  -2,   1,   8],\n",
       "        [  1,   1,   1, -13],\n",
       "        [  9,   3,   1,   3]])"
      ]
     },
     "execution_count": 4,
     "metadata": {},
     "output_type": "execute_result"
    }
   ],
   "source": [
    "M"
   ]
  },
  {
   "cell_type": "code",
   "execution_count": 5,
   "metadata": {},
   "outputs": [
    {
     "data": {
      "text/plain": [
       "1"
      ]
     },
     "execution_count": 5,
     "metadata": {},
     "output_type": "execute_result"
    }
   ],
   "source": [
    "M[1,1]"
   ]
  },
  {
   "cell_type": "code",
   "execution_count": 6,
   "metadata": {},
   "outputs": [
    {
     "data": {
      "text/plain": [
       "4"
      ]
     },
     "execution_count": 6,
     "metadata": {},
     "output_type": "execute_result"
    }
   ],
   "source": [
    "M[0,0]"
   ]
  },
  {
   "cell_type": "code",
   "execution_count": 8,
   "metadata": {},
   "outputs": [
    {
     "data": {
      "text/plain": [
       "matrix([[3, 1]])"
      ]
     },
     "execution_count": 8,
     "metadata": {},
     "output_type": "execute_result"
    }
   ],
   "source": [
    "M[2,1:3]"
   ]
  },
  {
   "cell_type": "code",
   "execution_count": 9,
   "metadata": {},
   "outputs": [
    {
     "data": {
      "text/plain": [
       "matrix([[9, 3, 1, 3]])"
      ]
     },
     "execution_count": 9,
     "metadata": {},
     "output_type": "execute_result"
    }
   ],
   "source": [
    "M[2,:]"
   ]
  },
  {
   "cell_type": "code",
   "execution_count": 10,
   "metadata": {},
   "outputs": [
    {
     "data": {
      "text/plain": [
       "matrix([[-2],\n",
       "        [ 1],\n",
       "        [ 3]])"
      ]
     },
     "execution_count": 10,
     "metadata": {},
     "output_type": "execute_result"
    }
   ],
   "source": [
    "M[:,1]"
   ]
  },
  {
   "cell_type": "code",
   "execution_count": 15,
   "metadata": {},
   "outputs": [],
   "source": [
    "# first row - second row ---> eq4\n",
    "eq4 = M[0,:] - M[1,:]"
   ]
  },
  {
   "cell_type": "code",
   "execution_count": 16,
   "metadata": {},
   "outputs": [
    {
     "data": {
      "text/plain": [
       "matrix([[ 3, -3,  0, 21]])"
      ]
     },
     "execution_count": 16,
     "metadata": {},
     "output_type": "execute_result"
    }
   ],
   "source": [
    "eq4"
   ]
  },
  {
   "cell_type": "code",
   "execution_count": 17,
   "metadata": {},
   "outputs": [
    {
     "data": {
      "text/plain": [
       "matrix([[ 8,  2,  0, 16]])"
      ]
     },
     "execution_count": 17,
     "metadata": {},
     "output_type": "execute_result"
    }
   ],
   "source": [
    "eq5 = M[2,:] - M[1,:]\n",
    "eq5"
   ]
  },
  {
   "cell_type": "code",
   "execution_count": 18,
   "metadata": {},
   "outputs": [
    {
     "data": {
      "text/plain": [
       "matrix([[ 1., -1.,  0.,  7.]])"
      ]
     },
     "execution_count": 18,
     "metadata": {},
     "output_type": "execute_result"
    }
   ],
   "source": [
    "eq4 = eq4/3\n",
    "eq4"
   ]
  },
  {
   "cell_type": "code",
   "execution_count": 19,
   "metadata": {},
   "outputs": [
    {
     "data": {
      "text/plain": [
       "matrix([[4., 1., 0., 8.]])"
      ]
     },
     "execution_count": 19,
     "metadata": {},
     "output_type": "execute_result"
    }
   ],
   "source": [
    "eq5 = eq5/2\n",
    "eq5"
   ]
  },
  {
   "cell_type": "code",
   "execution_count": 20,
   "metadata": {},
   "outputs": [
    {
     "data": {
      "text/plain": [
       "matrix([[ 5.,  0.,  0., 15.]])"
      ]
     },
     "execution_count": 20,
     "metadata": {},
     "output_type": "execute_result"
    }
   ],
   "source": [
    "eq6 = eq4 + eq5\n",
    "eq6"
   ]
  },
  {
   "cell_type": "code",
   "execution_count": 21,
   "metadata": {},
   "outputs": [],
   "source": [
    "eq6 = eq6/5"
   ]
  },
  {
   "cell_type": "code",
   "execution_count": 22,
   "metadata": {},
   "outputs": [
    {
     "data": {
      "text/plain": [
       "matrix([[1., 0., 0., 3.]])"
      ]
     },
     "execution_count": 22,
     "metadata": {},
     "output_type": "execute_result"
    }
   ],
   "source": [
    "eq6"
   ]
  },
  {
   "cell_type": "code",
   "execution_count": 23,
   "metadata": {},
   "outputs": [
    {
     "data": {
      "text/plain": [
       "matrix([[ 1., -1.,  0.,  7.]])"
      ]
     },
     "execution_count": 23,
     "metadata": {},
     "output_type": "execute_result"
    }
   ],
   "source": [
    "eq4"
   ]
  },
  {
   "cell_type": "code",
   "execution_count": 24,
   "metadata": {},
   "outputs": [
    {
     "data": {
      "text/plain": [
       "matrix([[ 0.,  1.,  0., -4.]])"
      ]
     },
     "execution_count": 24,
     "metadata": {},
     "output_type": "execute_result"
    }
   ],
   "source": [
    "eq7 = eq6 - eq4\n",
    "eq7"
   ]
  },
  {
   "cell_type": "code",
   "execution_count": 26,
   "metadata": {},
   "outputs": [
    {
     "data": {
      "text/plain": [
       "matrix([[  1,   1,   1, -13]])"
      ]
     },
     "execution_count": 26,
     "metadata": {},
     "output_type": "execute_result"
    }
   ],
   "source": [
    "M[1,:]"
   ]
  },
  {
   "cell_type": "code",
   "execution_count": 27,
   "metadata": {},
   "outputs": [
    {
     "data": {
      "text/plain": [
       "matrix([[  0.,   0.,   1., -12.]])"
      ]
     },
     "execution_count": 27,
     "metadata": {},
     "output_type": "execute_result"
    }
   ],
   "source": [
    "eq8 = M[1,:] - eq6 - eq7\n",
    "eq8"
   ]
  },
  {
   "cell_type": "code",
   "execution_count": 30,
   "metadata": {},
   "outputs": [
    {
     "data": {
      "text/plain": [
       "matrix([[1., 0., 0., 3.]])"
      ]
     },
     "execution_count": 30,
     "metadata": {},
     "output_type": "execute_result"
    }
   ],
   "source": [
    "R = eq6\n",
    "R"
   ]
  },
  {
   "cell_type": "code",
   "execution_count": 31,
   "metadata": {},
   "outputs": [
    {
     "data": {
      "text/plain": [
       "matrix([[ 1.,  0.,  0.,  3.],\n",
       "        [ 0.,  1.,  0., -4.]])"
      ]
     },
     "execution_count": 31,
     "metadata": {},
     "output_type": "execute_result"
    }
   ],
   "source": [
    "R = np.append(R,eq7, axis=0)\n",
    "R"
   ]
  },
  {
   "cell_type": "code",
   "execution_count": 32,
   "metadata": {},
   "outputs": [
    {
     "data": {
      "text/plain": [
       "matrix([[  1.,   0.,   0.,   3.],\n",
       "        [  0.,   1.,   0.,  -4.],\n",
       "        [  0.,   0.,   1., -12.]])"
      ]
     },
     "execution_count": 32,
     "metadata": {},
     "output_type": "execute_result"
    }
   ],
   "source": [
    "R = np.append(R, eq8, axis=0)\n",
    "R"
   ]
  },
  {
   "cell_type": "code",
   "execution_count": 42,
   "metadata": {},
   "outputs": [],
   "source": [
    "A = np.matrix([\n",
    "    [4,-2,1],\n",
    "    [1,1,1],\n",
    "    [9,3,1]\n",
    "])\n",
    "\n",
    "B = np.matrix([\n",
    "    [8],[-13],[3]\n",
    "])"
   ]
  },
  {
   "cell_type": "code",
   "execution_count": 43,
   "metadata": {},
   "outputs": [
    {
     "data": {
      "text/plain": [
       "matrix([[ 4, -2,  1],\n",
       "        [ 1,  1,  1],\n",
       "        [ 9,  3,  1]])"
      ]
     },
     "execution_count": 43,
     "metadata": {},
     "output_type": "execute_result"
    }
   ],
   "source": [
    "A"
   ]
  },
  {
   "cell_type": "code",
   "execution_count": 44,
   "metadata": {},
   "outputs": [
    {
     "data": {
      "text/plain": [
       "matrix([[  8],\n",
       "        [-13],\n",
       "        [  3]])"
      ]
     },
     "execution_count": 44,
     "metadata": {},
     "output_type": "execute_result"
    }
   ],
   "source": [
    "B"
   ]
  },
  {
   "cell_type": "code",
   "execution_count": 45,
   "metadata": {},
   "outputs": [
    {
     "data": {
      "text/plain": [
       "(3, 1)"
      ]
     },
     "execution_count": 45,
     "metadata": {},
     "output_type": "execute_result"
    }
   ],
   "source": [
    "B.shape"
   ]
  },
  {
   "cell_type": "code",
   "execution_count": 46,
   "metadata": {},
   "outputs": [
    {
     "data": {
      "text/plain": [
       "(3, 3)"
      ]
     },
     "execution_count": 46,
     "metadata": {},
     "output_type": "execute_result"
    }
   ],
   "source": [
    "A.shape"
   ]
  },
  {
   "cell_type": "code",
   "execution_count": 47,
   "metadata": {},
   "outputs": [
    {
     "data": {
      "text/plain": [
       "matrix([[ 0.06666667, -0.16666667,  0.1       ],\n",
       "        [-0.26666667,  0.16666667,  0.1       ],\n",
       "        [ 0.2       ,  1.        , -0.2       ]])"
      ]
     },
     "execution_count": 47,
     "metadata": {},
     "output_type": "execute_result"
    }
   ],
   "source": [
    "inv_A = np.linalg.inv(A)\n",
    "inv_A"
   ]
  },
  {
   "cell_type": "code",
   "execution_count": 48,
   "metadata": {},
   "outputs": [
    {
     "data": {
      "text/plain": [
       "matrix([[ 1.00000000e+00,  0.00000000e+00, -1.11022302e-16],\n",
       "        [ 0.00000000e+00,  1.00000000e+00, -2.77555756e-17],\n",
       "        [-2.77555756e-17,  0.00000000e+00,  1.00000000e+00]])"
      ]
     },
     "execution_count": 48,
     "metadata": {},
     "output_type": "execute_result"
    }
   ],
   "source": [
    "np.dot(A,inv_A)"
   ]
  },
  {
   "cell_type": "code",
   "execution_count": 49,
   "metadata": {},
   "outputs": [
    {
     "data": {
      "text/plain": [
       "matrix([[ 1.00000000e+00, -1.11022302e-16,  0.00000000e+00],\n",
       "        [-8.32667268e-17,  1.00000000e+00, -2.77555756e-17],\n",
       "        [ 1.66533454e-16, -1.66533454e-16,  1.00000000e+00]])"
      ]
     },
     "execution_count": 49,
     "metadata": {},
     "output_type": "execute_result"
    }
   ],
   "source": [
    "np.dot(inv_A, A)"
   ]
  },
  {
   "cell_type": "code",
   "execution_count": 50,
   "metadata": {},
   "outputs": [
    {
     "data": {
      "text/plain": [
       "matrix([[  3.],\n",
       "        [ -4.],\n",
       "        [-12.]])"
      ]
     },
     "execution_count": 50,
     "metadata": {},
     "output_type": "execute_result"
    }
   ],
   "source": [
    "x = np.dot(inv_A,B)\n",
    "x"
   ]
  },
  {
   "cell_type": "code",
   "execution_count": 51,
   "metadata": {},
   "outputs": [
    {
     "data": {
      "text/plain": [
       "matrix([[ 4, -2,  1],\n",
       "        [ 1,  1,  1],\n",
       "        [ 9,  3,  1]])"
      ]
     },
     "execution_count": 51,
     "metadata": {},
     "output_type": "execute_result"
    }
   ],
   "source": [
    "A"
   ]
  },
  {
   "cell_type": "code",
   "execution_count": 52,
   "metadata": {},
   "outputs": [
    {
     "data": {
      "text/plain": [
       "matrix([[  8],\n",
       "        [-13],\n",
       "        [  3]])"
      ]
     },
     "execution_count": 52,
     "metadata": {},
     "output_type": "execute_result"
    }
   ],
   "source": [
    "B"
   ]
  },
  {
   "cell_type": "code",
   "execution_count": 53,
   "metadata": {},
   "outputs": [
    {
     "data": {
      "text/plain": [
       "matrix([[  8,  -2,   1],\n",
       "        [-13,   1,   1],\n",
       "        [  3,   3,   1]])"
      ]
     },
     "execution_count": 53,
     "metadata": {},
     "output_type": "execute_result"
    }
   ],
   "source": [
    "# Cramer's Rule\n",
    "\n",
    "Ax1 = A.copy()\n",
    "Ax1[:,0] = B\n",
    "Ax1"
   ]
  },
  {
   "cell_type": "code",
   "execution_count": 54,
   "metadata": {},
   "outputs": [
    {
     "data": {
      "text/plain": [
       "2.9999999999999996"
      ]
     },
     "execution_count": 54,
     "metadata": {},
     "output_type": "execute_result"
    }
   ],
   "source": [
    "# Cramer's Rule\n",
    "x1 = np.linalg.det(Ax1)/np.linalg.det(A)\n",
    "x1"
   ]
  },
  {
   "cell_type": "code",
   "execution_count": 55,
   "metadata": {},
   "outputs": [
    {
     "data": {
      "text/plain": [
       "matrix([[  4,   8,   1],\n",
       "        [  1, -13,   1],\n",
       "        [  9,   3,   1]])"
      ]
     },
     "execution_count": 55,
     "metadata": {},
     "output_type": "execute_result"
    }
   ],
   "source": [
    "Ax2 = A.copy()\n",
    "Ax2[:,1] = B\n",
    "Ax2"
   ]
  },
  {
   "cell_type": "code",
   "execution_count": 56,
   "metadata": {},
   "outputs": [
    {
     "data": {
      "text/plain": [
       "-4.000000000000003"
      ]
     },
     "execution_count": 56,
     "metadata": {},
     "output_type": "execute_result"
    }
   ],
   "source": [
    "# Cramer's Rule\n",
    "x2 = np.linalg.det(Ax2)/np.linalg.det(A)\n",
    "x2"
   ]
  },
  {
   "cell_type": "code",
   "execution_count": 57,
   "metadata": {},
   "outputs": [
    {
     "data": {
      "text/plain": [
       "matrix([[  4,  -2,   8],\n",
       "        [  1,   1, -13],\n",
       "        [  9,   3,   3]])"
      ]
     },
     "execution_count": 57,
     "metadata": {},
     "output_type": "execute_result"
    }
   ],
   "source": [
    "Ax3 = A.copy()\n",
    "Ax3[:,2] = B\n",
    "Ax3"
   ]
  },
  {
   "cell_type": "code",
   "execution_count": 58,
   "metadata": {},
   "outputs": [
    {
     "data": {
      "text/plain": [
       "-12.0"
      ]
     },
     "execution_count": 58,
     "metadata": {},
     "output_type": "execute_result"
    }
   ],
   "source": [
    "# Cramer's Rule\n",
    "x3 = np.linalg.det(Ax3)/np.linalg.det(A)\n",
    "x3"
   ]
  },
  {
   "cell_type": "code",
   "execution_count": 63,
   "metadata": {},
   "outputs": [],
   "source": [
    "# Gauss Elimination\n",
    "M = np.matrix([\n",
    "    [4.0, -2.0, 1.0, 8.0],\n",
    "    [1.0, 1.0, 1.0, -13.0],\n",
    "    [9.0, 3.0, 1.0, 3.0]\n",
    "])"
   ]
  },
  {
   "cell_type": "code",
   "execution_count": 64,
   "metadata": {},
   "outputs": [
    {
     "data": {
      "text/plain": [
       "matrix([[  4.,  -2.,   1.,   8.],\n",
       "        [  1.,   1.,   1., -13.],\n",
       "        [  9.,   3.,   1.,   3.]])"
      ]
     },
     "execution_count": 64,
     "metadata": {},
     "output_type": "execute_result"
    }
   ],
   "source": [
    "Ab = M.copy()\n",
    "Ab"
   ]
  },
  {
   "cell_type": "code",
   "execution_count": 65,
   "metadata": {},
   "outputs": [
    {
     "data": {
      "text/plain": [
       "matrix([[  4.  ,  -2.  ,   1.  ,   8.  ],\n",
       "        [  0.  ,   1.5 ,   0.75, -15.  ],\n",
       "        [  9.  ,   3.  ,   1.  ,   3.  ]])"
      ]
     },
     "execution_count": 65,
     "metadata": {},
     "output_type": "execute_result"
    }
   ],
   "source": [
    "# Gauss elimination: (iteration 1: i = 1)\n",
    "# Step 1: Remove the 1st coefficient out of row 2 - N\n",
    "\n",
    "# row 2\n",
    "row_factor = Ab[1,0]/Ab[0,0]\n",
    "Ab[1,:] = Ab[1,:] - row_factor*Ab[0,:]\n",
    "Ab"
   ]
  },
  {
   "cell_type": "code",
   "execution_count": 66,
   "metadata": {},
   "outputs": [
    {
     "data": {
      "text/plain": [
       "matrix([[  4.  ,  -2.  ,   1.  ,   8.  ],\n",
       "        [  0.  ,   1.5 ,   0.75, -15.  ],\n",
       "        [  0.  ,   7.5 ,  -1.25, -15.  ]])"
      ]
     },
     "execution_count": 66,
     "metadata": {},
     "output_type": "execute_result"
    }
   ],
   "source": [
    "# row 3\n",
    "row_factor = Ab[2,0]/Ab[0,0]\n",
    "Ab[2,:] = Ab[2,:] - row_factor*Ab[0,:]\n",
    "Ab"
   ]
  },
  {
   "cell_type": "code",
   "execution_count": 67,
   "metadata": {},
   "outputs": [
    {
     "data": {
      "text/plain": [
       "matrix([[  4.  ,  -2.  ,   1.  ,   8.  ],\n",
       "        [  0.  ,   1.5 ,   0.75, -15.  ],\n",
       "        [  0.  ,   0.  ,  -5.  ,  60.  ]])"
      ]
     },
     "execution_count": 67,
     "metadata": {},
     "output_type": "execute_result"
    }
   ],
   "source": [
    "# Next iteration (i = 2)\n",
    "# remove the 2nd term starting from row 3 to N\n",
    "\n",
    "# row 3\n",
    "row_factor = Ab[2,1]/Ab[1,1]\n",
    "Ab[2,:] = Ab[2,:] - row_factor*Ab[1,:]\n",
    "Ab"
   ]
  },
  {
   "cell_type": "code",
   "execution_count": 84,
   "metadata": {},
   "outputs": [],
   "source": [
    "def fwd_elim_3x3_v1(Ab):\n",
    "    [nr,nc] = Ab.shape\n",
    "    Ab_re = Ab.copy()\n",
    "    \n",
    "    # this is a hard-coded function written to support 3x4 matrix only\n",
    "    # Gauss elimination: (iteration 1: i = 1)\n",
    "    # Step 1: Remove the 1st coefficient out of row 2 - N\n",
    "    \n",
    "    # row 2\n",
    "    row_factor = Ab_re[1,0]/Ab_re[0,0]\n",
    "    print('row 2: row_factor = {}'.format(row_factor))\n",
    "    Ab_re[1,:] = Ab_re[1,:] - row_factor*Ab_re[0,:]\n",
    "    print(Ab_re)\n",
    "    \n",
    "    # row 3\n",
    "    row_factor = Ab_re[2,0]/Ab_re[0,0]\n",
    "    print('row 3: row_factor = {}'.format(row_factor))\n",
    "    Ab_re[2,:] = Ab_re[2,:] - row_factor*Ab_re[0,:]\n",
    "    \n",
    "    return Ab_re\n",
    "#end function"
   ]
  },
  {
   "cell_type": "code",
   "execution_count": 85,
   "metadata": {},
   "outputs": [
    {
     "data": {
      "text/plain": [
       "matrix([[  4.,  -2.,   1.,   8.],\n",
       "        [  1.,   1.,   1., -13.],\n",
       "        [  9.,   3.,   1.,   3.]])"
      ]
     },
     "execution_count": 85,
     "metadata": {},
     "output_type": "execute_result"
    }
   ],
   "source": [
    "Ab"
   ]
  },
  {
   "cell_type": "code",
   "execution_count": 86,
   "metadata": {},
   "outputs": [
    {
     "data": {
      "text/plain": [
       "matrix([[  4.,  -2.,   1.,   8.],\n",
       "        [  1.,   1.,   1., -13.],\n",
       "        [  9.,   3.,   1.,   3.]])"
      ]
     },
     "execution_count": 86,
     "metadata": {},
     "output_type": "execute_result"
    }
   ],
   "source": [
    "M"
   ]
  },
  {
   "cell_type": "code",
   "execution_count": 87,
   "metadata": {},
   "outputs": [],
   "source": [
    "Ab = M.copy()"
   ]
  },
  {
   "cell_type": "code",
   "execution_count": 88,
   "metadata": {},
   "outputs": [
    {
     "name": "stdout",
     "output_type": "stream",
     "text": [
      "row 2: row_factor = 0.25\n",
      "[[  4.    -2.     1.     8.  ]\n",
      " [  0.     1.5    0.75 -15.  ]\n",
      " [  9.     3.     1.     3.  ]]\n",
      "row 3: row_factor = 2.25\n"
     ]
    },
    {
     "data": {
      "text/plain": [
       "matrix([[  4.  ,  -2.  ,   1.  ,   8.  ],\n",
       "        [  0.  ,   1.5 ,   0.75, -15.  ],\n",
       "        [  0.  ,   7.5 ,  -1.25, -15.  ]])"
      ]
     },
     "execution_count": 88,
     "metadata": {},
     "output_type": "execute_result"
    }
   ],
   "source": [
    "fwd_elim_3x3_v1(Ab)"
   ]
  },
  {
   "cell_type": "code",
   "execution_count": 91,
   "metadata": {},
   "outputs": [],
   "source": [
    "def fwd_elim_3x3_v2(Ab):\n",
    "    [nr,nc] = Ab.shape\n",
    "    Ab_re = Ab.copy()\n",
    "    \n",
    "    # this is a hard-coded completed function written to support 3x4 matrix only\n",
    "    # Gauss elimination: (iteration 1: i = 1)\n",
    "    # Step 1: Remove the 1st coefficient out of row 2 - N\n",
    "    \n",
    "    # row 2\n",
    "    row_factor = Ab_re[1,0]/Ab_re[0,0]\n",
    "    # print('row 2: row_factor = {}'.format(row_factor))\n",
    "    Ab_re[1,:] = Ab_re[1,:] - row_factor*Ab_re[0,:]\n",
    "    # print(Ab_re)\n",
    "    \n",
    "    # row 3\n",
    "    row_factor = Ab_re[2,0]/Ab_re[0,0]\n",
    "    # print('row 3: row_factor = {}'.format(row_factor))\n",
    "    Ab_re[2,:] = Ab_re[2,:] - row_factor*Ab_re[0,:]\n",
    "    \n",
    "    # Next iteration (i = 2)\n",
    "    # remove the 2nd term starting from row 3 to N\n",
    "\n",
    "    # row 3\n",
    "    row_factor = Ab_re[2,1]/Ab_re[1,1]\n",
    "    Ab_re[2,:] = Ab_re[2,:] - row_factor*Ab_re[1,:]\n",
    "    \n",
    "    return Ab_re\n",
    "#end function"
   ]
  },
  {
   "cell_type": "code",
   "execution_count": 92,
   "metadata": {},
   "outputs": [
    {
     "data": {
      "text/plain": [
       "matrix([[  4.  ,  -2.  ,   1.  ,   8.  ],\n",
       "        [  0.  ,   1.5 ,   0.75, -15.  ],\n",
       "        [  0.  ,   0.  ,  -5.  ,  60.  ]])"
      ]
     },
     "execution_count": 92,
     "metadata": {},
     "output_type": "execute_result"
    }
   ],
   "source": [
    "Ab = M.copy()\n",
    "fwd_elim_3x3_v2(Ab)"
   ]
  },
  {
   "cell_type": "code",
   "execution_count": 102,
   "metadata": {},
   "outputs": [],
   "source": [
    "def fwd_elim(Ab):\n",
    "    [nr,nc] = Ab.shape\n",
    "    Ab_re = Ab.copy()\n",
    "    \n",
    "    # this is a hard-coded completed function written to support 3x4 matrix only\n",
    "    # Gauss elimination: (iteration 1: i = 1)\n",
    "    # Step 1: Remove the 1st coefficient out of row 2 - N\n",
    "    \n",
    "    for i in range(1,nr):\n",
    "        print('Iteration #{}:'.format(i))\n",
    "        # r is row_index running from i+1 until nr\n",
    "        for r in range(i+1,nr+1):\n",
    "            print('Working on row #{}'.format(r))\n",
    "            row_factor = Ab_re[r-1,i-1]/Ab_re[i-1,i-1]\n",
    "            Ab_re[r-1,:] = Ab_re[r-1,:] - row_factor*Ab_re[i-1,:]\n",
    "            print(Ab_re)\n",
    "        #end for\n",
    "    #end\n",
    "    \n",
    "    '''\n",
    "    \n",
    "    # row 2\n",
    "    row_factor = Ab_re[1,0]/Ab_re[0,0]\n",
    "    # print('row 2: row_factor = {}'.format(row_factor))\n",
    "    Ab_re[1,:] = Ab_re[1,:] - row_factor*Ab_re[0,:]\n",
    "    # print(Ab_re)\n",
    "    \n",
    "    # row 3\n",
    "    row_factor = Ab_re[2,0]/Ab_re[0,0]\n",
    "    # print('row 3: row_factor = {}'.format(row_factor))\n",
    "    Ab_re[2,:] = Ab_re[2,:] - row_factor*Ab_re[0,:]\n",
    "    \n",
    "    # Next iteration (i = 2)\n",
    "    # remove the 2nd term starting from row 3 to N\n",
    "\n",
    "    # row 3\n",
    "    row_factor = Ab_re[2,1]/Ab_re[1,1]\n",
    "    Ab_re[2,:] = Ab_re[2,:] - row_factor*Ab_re[1,:]\n",
    "\n",
    "    '''\n",
    "    \n",
    "    return Ab_re\n",
    "#end function"
   ]
  },
  {
   "cell_type": "code",
   "execution_count": 104,
   "metadata": {},
   "outputs": [
    {
     "name": "stdout",
     "output_type": "stream",
     "text": [
      "Iteration #1:\n",
      "Working on row #2\n",
      "[[  4.    -2.     1.     8.  ]\n",
      " [  0.     1.5    0.75 -15.  ]\n",
      " [  9.     3.     1.     3.  ]]\n",
      "Working on row #3\n",
      "[[  4.    -2.     1.     8.  ]\n",
      " [  0.     1.5    0.75 -15.  ]\n",
      " [  0.     7.5   -1.25 -15.  ]]\n",
      "Iteration #2:\n",
      "Working on row #3\n",
      "[[  4.    -2.     1.     8.  ]\n",
      " [  0.     1.5    0.75 -15.  ]\n",
      " [  0.     0.    -5.    60.  ]]\n"
     ]
    }
   ],
   "source": [
    "Ab = M.copy()\n",
    "Ab_re = fwd_elim(Ab)"
   ]
  },
  {
   "cell_type": "code",
   "execution_count": 105,
   "metadata": {},
   "outputs": [
    {
     "data": {
      "text/plain": [
       "matrix([[  4.  ,  -2.  ,   1.  ,   8.  ],\n",
       "        [  0.  ,   1.5 ,   0.75, -15.  ],\n",
       "        [  0.  ,   0.  ,  -5.  ,  60.  ]])"
      ]
     },
     "execution_count": 105,
     "metadata": {},
     "output_type": "execute_result"
    }
   ],
   "source": [
    "Ab_re"
   ]
  },
  {
   "cell_type": "code",
   "execution_count": 106,
   "metadata": {},
   "outputs": [
    {
     "data": {
      "text/plain": [
       "-12.0"
      ]
     },
     "execution_count": 106,
     "metadata": {},
     "output_type": "execute_result"
    }
   ],
   "source": [
    "x3 = Ab_re[2,3]/Ab_re[2,2]\n",
    "x3"
   ]
  },
  {
   "cell_type": "code",
   "execution_count": 110,
   "metadata": {},
   "outputs": [
    {
     "data": {
      "text/plain": [
       "-4.0"
      ]
     },
     "execution_count": 110,
     "metadata": {},
     "output_type": "execute_result"
    }
   ],
   "source": [
    "x2 = (Ab_re[1,3]-(Ab_re[1,2]*x3))/Ab_re[1,1]\n",
    "x2"
   ]
  },
  {
   "cell_type": "code",
   "execution_count": 111,
   "metadata": {},
   "outputs": [
    {
     "data": {
      "text/plain": [
       "3.0"
      ]
     },
     "execution_count": 111,
     "metadata": {},
     "output_type": "execute_result"
    }
   ],
   "source": [
    "x1 = (Ab_re[0,3]-(Ab_re[0,1]*x2 + Ab_re[0,2]*x3))/Ab_re[0,0]\n",
    "x1"
   ]
  },
  {
   "cell_type": "code",
   "execution_count": 18,
   "metadata": {},
   "outputs": [],
   "source": [
    "def backsub(Ab_re):\n",
    "    [nr,nc] = Ab.shape\n",
    "    x = np.empty(nr)\n",
    "    \n",
    "    x[nr-1] = Ab_re[nr-1,nc-1]/Ab_re[nr-1,nr-1]\n",
    "    print('x[{}] = {}'.format(nr-1,x[nr-1]))\n",
    "    \n",
    "    for r in range(nr-2,-1,-1):\n",
    "        # range (1,-1,-1) will give i = 1,0\n",
    "        # sum_of_products = sum of products of coeff of x[i+1] and x[i+1]\n",
    "        # before this\n",
    "        sum_of_products = 0\n",
    "        for c in range(r+1, nr):\n",
    "            product = Ab_re[r,c]*x[c]\n",
    "            sum_of_products = sum_of_products + product\n",
    "        #end for\n",
    "        x[r] = (Ab_re[r,nc-1] - sum_of_products)/Ab_re[r,r]\n",
    "    #end for\n",
    "    return x\n",
    "#end function"
   ]
  },
  {
   "cell_type": "code",
   "execution_count": 137,
   "metadata": {},
   "outputs": [
    {
     "data": {
      "text/plain": [
       "array([ 3.,  4., 12.])"
      ]
     },
     "execution_count": 137,
     "metadata": {},
     "output_type": "execute_result"
    }
   ],
   "source": [
    "x = np.empty(3)\n",
    "x"
   ]
  },
  {
   "cell_type": "code",
   "execution_count": 138,
   "metadata": {},
   "outputs": [
    {
     "name": "stdout",
     "output_type": "stream",
     "text": [
      "x[2] = -12.0\n"
     ]
    },
    {
     "data": {
      "text/plain": [
       "array([  3.,  -4., -12.])"
      ]
     },
     "execution_count": 138,
     "metadata": {},
     "output_type": "execute_result"
    }
   ],
   "source": [
    "backsub(Ab_re)"
   ]
  },
  {
   "cell_type": "code",
   "execution_count": 2,
   "metadata": {},
   "outputs": [],
   "source": [
    "A = np.matrix([\n",
    "    [4,-2,1],\n",
    "    [1,1,1],\n",
    "    [9,3,1]\n",
    "])\n",
    "A = A*1.0\n",
    "\n",
    "B = np.matrix([\n",
    "    [8],[-13],[3]\n",
    "])\n",
    "B = B*1.0"
   ]
  },
  {
   "cell_type": "code",
   "execution_count": 3,
   "metadata": {},
   "outputs": [
    {
     "name": "stdout",
     "output_type": "stream",
     "text": [
      "[[  4.  -2.   1.   8.]\n",
      " [  1.   1.   1. -13.]\n",
      " [  9.   3.   1.   3.]]\n"
     ]
    }
   ],
   "source": [
    "Ab = np.append(A,B,axis=1)\n",
    "print(Ab)"
   ]
  },
  {
   "cell_type": "code",
   "execution_count": 13,
   "metadata": {},
   "outputs": [],
   "source": [
    "def fwd_elim_recurse(Ab):\n",
    "    [nr,nc] = Ab.shape\n",
    "    \n",
    "    # partial or complete pivoting\n",
    "    # 1. check whether we have 0 in the element Ab[0,0]\n",
    "    # 2.    if Ab[0,0] == 0, then\n",
    "    # 3.        swap rows or columns\n",
    "    #           Task 5: swap the rows such that the coefficients in the first column\n",
    "    #           are ordered from highest to lowest\n",
    "    #\n",
    "    \n",
    "    Abx = Ab.copy() # to make sure that we don't touch Ab\n",
    "    print('Abx = ')\n",
    "    print(Abx)\n",
    "    \n",
    "    if (nr == 1):\n",
    "        # then don't do anything\n",
    "        pass\n",
    "    else:\n",
    "        # For each iteration, remove the front coefficient from row 2 to row N\n",
    "        for r in range(1,nr):\n",
    "            print('working on row index {}'.format(r))\n",
    "            row_factor = Abx[r,0]/Abx[0,0]\n",
    "            Abx[r,:] = Abx[r,:] - Abx[0,:]*row_factor\n",
    "        #end for\n",
    "        red_box = Abx[1:nr,1:nc]\n",
    "        transformed_red_box = fwd_elim_recurse(red_box)\n",
    "        Abx[1:nr,1:nc] = transformed_red_box\n",
    "    #end if\n",
    "    \n",
    "    return(Abx)\n",
    "\n",
    "#end function"
   ]
  },
  {
   "cell_type": "code",
   "execution_count": 14,
   "metadata": {},
   "outputs": [
    {
     "name": "stdout",
     "output_type": "stream",
     "text": [
      "Abx = \n",
      "[[  4.  -2.   1.   8.]\n",
      " [  1.   1.   1. -13.]\n",
      " [  9.   3.   1.   3.]]\n",
      "working on row index 1\n",
      "working on row index 2\n",
      "Abx = \n",
      "[[  1.5    0.75 -15.  ]\n",
      " [  7.5   -1.25 -15.  ]]\n",
      "working on row index 1\n",
      "Abx = \n",
      "[[-5. 60.]]\n"
     ]
    }
   ],
   "source": [
    "Ab_re = fwd_elim_recurse(Ab)"
   ]
  },
  {
   "cell_type": "code",
   "execution_count": 15,
   "metadata": {},
   "outputs": [
    {
     "name": "stdout",
     "output_type": "stream",
     "text": [
      "[[  4.    -2.     1.     8.  ]\n",
      " [  0.     1.5    0.75 -15.  ]\n",
      " [  0.     0.    -5.    60.  ]]\n"
     ]
    }
   ],
   "source": [
    "print(Ab_re)"
   ]
  },
  {
   "cell_type": "code",
   "execution_count": 20,
   "metadata": {},
   "outputs": [
    {
     "name": "stdout",
     "output_type": "stream",
     "text": [
      "x[2] = -12.0\n"
     ]
    },
    {
     "data": {
      "text/plain": [
       "array([  3.,  -4., -12.])"
      ]
     },
     "execution_count": 20,
     "metadata": {},
     "output_type": "execute_result"
    }
   ],
   "source": [
    "backsub(Ab_re)"
   ]
  },
  {
   "cell_type": "code",
   "execution_count": 21,
   "metadata": {},
   "outputs": [
    {
     "name": "stdout",
     "output_type": "stream",
     "text": [
      "[[0. 2. 5. 1.]\n",
      " [2. 1. 1. 1.]\n",
      " [3. 1. 0. 2.]]\n"
     ]
    }
   ],
   "source": [
    "A = np.array([\n",
    "    [0,2,5],\n",
    "    [2,1,1],\n",
    "    [3,1,0]\n",
    "])\n",
    "A = A*1.0\n",
    "b = np.array([\n",
    "    [1],\n",
    "    [1],\n",
    "    [2]\n",
    "])\n",
    "b = b*1.0\n",
    "Ab = np.append(A,b,axis=1)\n",
    "print(Ab)"
   ]
  },
  {
   "cell_type": "code",
   "execution_count": 22,
   "metadata": {},
   "outputs": [
    {
     "name": "stdout",
     "output_type": "stream",
     "text": [
      "[[-2.]\n",
      " [ 8.]\n",
      " [-3.]]\n"
     ]
    }
   ],
   "source": [
    "inv_A = np.linalg.inv(A)\n",
    "x = np.dot(inv_A,b)\n",
    "print(x)"
   ]
  },
  {
   "cell_type": "code",
   "execution_count": 23,
   "metadata": {},
   "outputs": [
    {
     "name": "stdout",
     "output_type": "stream",
     "text": [
      "Abx = \n",
      "[[0. 2. 5. 1.]\n",
      " [2. 1. 1. 1.]\n",
      " [3. 1. 0. 2.]]\n",
      "working on row index 1\n",
      "working on row index 2\n",
      "Abx = \n",
      "[[-inf -inf -inf]\n",
      " [-inf -inf -inf]]\n",
      "working on row index 1\n",
      "Abx = \n",
      "[[nan nan]]\n"
     ]
    },
    {
     "name": "stderr",
     "output_type": "stream",
     "text": [
      "c:\\program files\\python37\\lib\\site-packages\\ipykernel_launcher.py:14: RuntimeWarning: divide by zero encountered in double_scalars\n",
      "  \n",
      "c:\\program files\\python37\\lib\\site-packages\\ipykernel_launcher.py:15: RuntimeWarning: invalid value encountered in multiply\n",
      "  from ipykernel import kernelapp as app\n",
      "c:\\program files\\python37\\lib\\site-packages\\ipykernel_launcher.py:14: RuntimeWarning: invalid value encountered in double_scalars\n",
      "  \n"
     ]
    }
   ],
   "source": [
    "Ab_re = fwd_elim_recurse(Ab)"
   ]
  },
  {
   "cell_type": "code",
   "execution_count": 24,
   "metadata": {},
   "outputs": [
    {
     "name": "stdout",
     "output_type": "stream",
     "text": [
      "[[0. 2. 5. 1.]\n",
      " [2. 1. 1. 1.]\n",
      " [3. 1. 0. 2.]]\n"
     ]
    }
   ],
   "source": [
    "print(Ab)"
   ]
  },
  {
   "cell_type": "code",
   "execution_count": 25,
   "metadata": {},
   "outputs": [
    {
     "name": "stdout",
     "output_type": "stream",
     "text": [
      "[[3. 1. 0. 2.]\n",
      " [2. 1. 1. 1.]\n",
      " [0. 2. 5. 1.]]\n"
     ]
    }
   ],
   "source": [
    "temp = Ab[0,:].copy()\n",
    "Ab[0,:] = Ab[2,:].copy()\n",
    "Ab[2,:] = temp\n",
    "print(Ab)"
   ]
  },
  {
   "cell_type": "code",
   "execution_count": 26,
   "metadata": {},
   "outputs": [
    {
     "name": "stdout",
     "output_type": "stream",
     "text": [
      "Abx = \n",
      "[[3. 1. 0. 2.]\n",
      " [2. 1. 1. 1.]\n",
      " [0. 2. 5. 1.]]\n",
      "working on row index 1\n",
      "working on row index 2\n",
      "Abx = \n",
      "[[ 0.33333333  1.         -0.33333333]\n",
      " [ 2.          5.          1.        ]]\n",
      "working on row index 1\n",
      "Abx = \n",
      "[[-1.  3.]]\n"
     ]
    }
   ],
   "source": [
    "Ab_re = fwd_elim_recurse(Ab)"
   ]
  },
  {
   "cell_type": "code",
   "execution_count": 27,
   "metadata": {},
   "outputs": [
    {
     "name": "stdout",
     "output_type": "stream",
     "text": [
      "[[ 3.          1.          0.          2.        ]\n",
      " [ 0.          0.33333333  1.         -0.33333333]\n",
      " [ 0.          0.         -1.          3.        ]]\n"
     ]
    }
   ],
   "source": [
    "print(Ab_re)"
   ]
  },
  {
   "cell_type": "code",
   "execution_count": 28,
   "metadata": {},
   "outputs": [
    {
     "name": "stdout",
     "output_type": "stream",
     "text": [
      "x[2] = -3.0000000000000018\n"
     ]
    },
    {
     "data": {
      "text/plain": [
       "array([-2.,  8., -3.])"
      ]
     },
     "execution_count": 28,
     "metadata": {},
     "output_type": "execute_result"
    }
   ],
   "source": [
    "backsub(Ab_re)"
   ]
  },
  {
   "cell_type": "code",
   "execution_count": 29,
   "metadata": {},
   "outputs": [
    {
     "name": "stdout",
     "output_type": "stream",
     "text": [
      "[[3. 1. 0. 2.]\n",
      " [2. 1. 1. 1.]\n",
      " [0. 2. 5. 1.]]\n"
     ]
    }
   ],
   "source": [
    "print(Ab)"
   ]
  },
  {
   "cell_type": "code",
   "execution_count": 30,
   "metadata": {},
   "outputs": [
    {
     "name": "stdout",
     "output_type": "stream",
     "text": [
      "[[0. 2. 5. 1.]\n",
      " [2. 1. 1. 1.]\n",
      " [3. 1. 0. 2.]]\n"
     ]
    }
   ],
   "source": [
    "A = np.array([\n",
    "    [0,2,5],\n",
    "    [2,1,1],\n",
    "    [3,1,0]\n",
    "])\n",
    "A = A*1.0\n",
    "b = np.array([\n",
    "    [1],\n",
    "    [1],\n",
    "    [2]\n",
    "])\n",
    "b = b*1.0\n",
    "Ab = np.append(A,b,axis=1)\n",
    "print(Ab)"
   ]
  },
  {
   "cell_type": "code",
   "execution_count": 31,
   "metadata": {},
   "outputs": [
    {
     "name": "stdout",
     "output_type": "stream",
     "text": [
      "[[2. 0. 5. 1.]\n",
      " [1. 2. 1. 1.]\n",
      " [1. 3. 0. 2.]]\n"
     ]
    }
   ],
   "source": [
    "temp = Ab[:,0].copy()\n",
    "Ab[:,0] = Ab[:,1].copy()\n",
    "Ab[:,1] = temp\n",
    "print(Ab)"
   ]
  },
  {
   "cell_type": "code",
   "execution_count": 32,
   "metadata": {},
   "outputs": [
    {
     "name": "stdout",
     "output_type": "stream",
     "text": [
      "Abx = \n",
      "[[2. 0. 5. 1.]\n",
      " [1. 2. 1. 1.]\n",
      " [1. 3. 0. 2.]]\n",
      "working on row index 1\n",
      "working on row index 2\n",
      "Abx = \n",
      "[[ 2.  -1.5  0.5]\n",
      " [ 3.  -2.5  1.5]]\n",
      "working on row index 1\n",
      "Abx = \n",
      "[[-0.25  0.75]]\n"
     ]
    }
   ],
   "source": [
    "Ab_re = fwd_elim_recurse(Ab)"
   ]
  },
  {
   "cell_type": "code",
   "execution_count": 33,
   "metadata": {},
   "outputs": [
    {
     "name": "stdout",
     "output_type": "stream",
     "text": [
      "x[2] = -3.0\n"
     ]
    },
    {
     "data": {
      "text/plain": [
       "array([ 8., -2., -3.])"
      ]
     },
     "execution_count": 33,
     "metadata": {},
     "output_type": "execute_result"
    }
   ],
   "source": [
    "backsub(Ab_re)"
   ]
  },
  {
   "cell_type": "code",
   "execution_count": null,
   "metadata": {},
   "outputs": [],
   "source": []
  }
 ],
 "metadata": {
  "kernelspec": {
   "display_name": "Python 3",
   "language": "python",
   "name": "python3"
  },
  "language_info": {
   "codemirror_mode": {
    "name": "ipython",
    "version": 3
   },
   "file_extension": ".py",
   "mimetype": "text/x-python",
   "name": "python",
   "nbconvert_exporter": "python",
   "pygments_lexer": "ipython3",
   "version": "3.8.3"
  }
 },
 "nbformat": 4,
 "nbformat_minor": 4
}
