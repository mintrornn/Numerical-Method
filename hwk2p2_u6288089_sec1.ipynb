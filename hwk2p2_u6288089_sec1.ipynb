{
 "cells": [
  {
   "cell_type": "code",
   "execution_count": 207,
   "metadata": {},
   "outputs": [
    {
     "name": "stdout",
     "output_type": "stream",
     "text": [
      "[[1 2 3]\n",
      " [4 5 6]\n",
      " [7 8 9]]\n"
     ]
    }
   ],
   "source": [
    "import numpy as np\n",
    "A = np.matrix([\n",
    "    [1,2,3],\n",
    "    [4,5,6],\n",
    "    [7,8,9]\n",
    "])\n",
    "print(A)"
   ]
  },
  {
   "cell_type": "code",
   "execution_count": 208,
   "metadata": {},
   "outputs": [
    {
     "name": "stdout",
     "output_type": "stream",
     "text": [
      "[[1 2 3]\n",
      " [4 5 6]\n",
      " [7 8 9]] is a square matrix.\n"
     ]
    }
   ],
   "source": [
    "#Task5\n",
    "\n",
    "def is_square(A):\n",
    "    (nrows, ncoln) = A.shape\n",
    "    if(nrows == ncoln):\n",
    "        print('{} is a square matrix.'.format(A))\n",
    "    else:\n",
    "        print('{} is not a square matrix.'.format(A))\n",
    "        \n",
    "(is_square(A))"
   ]
  },
  {
   "cell_type": "code",
   "execution_count": 209,
   "metadata": {},
   "outputs": [
    {
     "name": "stdout",
     "output_type": "stream",
     "text": [
      "[[1 2 3]\n",
      " [4 5 6]\n",
      " [7 8 9]] is a symmetrical matrix.\n"
     ]
    }
   ],
   "source": [
    "#Task5\n",
    "\n",
    "def is_symmetrical(A):\n",
    "    (nrows, ncoln) = A.shape\n",
    "    for i  in range(0, nrows):\n",
    "        for j in range(0, ncoln):\n",
    "            if(A[i,j] == A[j,i]):\n",
    "                return True\n",
    "            \n",
    "if(is_symmetrical(A)):\n",
    "    print('{} is a symmetrical matrix.'.format(A))\n",
    "else:\n",
    "    print('{} is not a symmetrical matrix.'.format(A))\n",
    "\n"
   ]
  },
  {
   "cell_type": "code",
   "execution_count": 210,
   "metadata": {},
   "outputs": [
    {
     "name": "stdout",
     "output_type": "stream",
     "text": [
      "[[1 2 3]\n",
      " [4 5 6]\n",
      " [7 8 9]] is a not diagonal matrix\n"
     ]
    }
   ],
   "source": [
    "#Task5\n",
    "\n",
    "def is_diagonal(A):\n",
    "    (nrows,ncoln) = A.shape\n",
    "    for i  in range(0, nrows):\n",
    "        for j in range(0, ncoln):\n",
    "            if(i != j and A[i,j] != 0):\n",
    "                return True\n",
    "    return False\n",
    "\n",
    "if(True):\n",
    "    print('{} is a not diagonal matrix'.format(A))\n",
    "else:\n",
    "    print('{} is a diagonal matrix'.format(A))"
   ]
  },
  {
   "cell_type": "code",
   "execution_count": 211,
   "metadata": {},
   "outputs": [
    {
     "name": "stdout",
     "output_type": "stream",
     "text": [
      "[[1 2 3]\n",
      " [4 5 6]\n",
      " [7 8 9]] is a not identity matrix\n"
     ]
    }
   ],
   "source": [
    "#Task5\n",
    "def is_identity(A):\n",
    "    (nrows, ncoln) = A.shape\n",
    "    for i  in range(0, nrows):\n",
    "        for j in range(0, ncoln):\n",
    "            if(i != j and int(A[i,j]) != 0):\n",
    "                return False\n",
    "                break\n",
    "            if(i == j and int(A[i,j]) != 1):\n",
    "                return False\n",
    "                break\n",
    "if(is_identity(A)):\n",
    "    print('{} is a identity matrix'.format(A))\n",
    "else:\n",
    "    print('{} is a not identity matrix'.format(A))   \n"
   ]
  },
  {
   "cell_type": "code",
   "execution_count": 212,
   "metadata": {},
   "outputs": [
    {
     "name": "stdout",
     "output_type": "stream",
     "text": [
      "[[1 2 3]\n",
      " [4 5 6]\n",
      " [7 8 9]] is not a zero matrix\n"
     ]
    }
   ],
   "source": [
    "#Task5\n",
    "\n",
    "def is_zero(A):\n",
    "    zr = True\n",
    "    [nrows, ncoln] = A.shape\n",
    "    for i in range (0, nrows):\n",
    "        for j in range (0, ncoln):\n",
    "            if(A[i, j] != 0):\n",
    "                zr = False\n",
    "                \n",
    "    if(zr): \n",
    "        print('{} is a zero matrix'.format(A))\n",
    "    else:\n",
    "        print('{} is not a zero matrix'.format(A))\n",
    "        \n",
    "is_zero(A)"
   ]
  },
  {
   "cell_type": "code",
   "execution_count": 213,
   "metadata": {
    "scrolled": true
   },
   "outputs": [
    {
     "name": "stdout",
     "output_type": "stream",
     "text": [
      "The transpose of A is\n"
     ]
    },
    {
     "data": {
      "text/plain": [
       "array([[1, 4, 7],\n",
       "       [2, 5, 8],\n",
       "       [3, 6, 9]])"
      ]
     },
     "execution_count": 213,
     "metadata": {},
     "output_type": "execute_result"
    }
   ],
   "source": [
    "#Task5\n",
    "def transpose(A):\n",
    "    (nrows,ncoln) = A.shape\n",
    "    temp = np.zeros((nrows,ncoln), dtype=int)\n",
    "    for i  in range(0, nrows):\n",
    "        for j in range(0, ncoln):\n",
    "            temp[j,i] = A[i,j]\n",
    "            \n",
    "    return temp\n",
    "print('The transpose of A is')\n",
    "transpose(A)"
   ]
  },
  {
   "cell_type": "code",
   "execution_count": 214,
   "metadata": {},
   "outputs": [
    {
     "name": "stdout",
     "output_type": "stream",
     "text": [
      "A is a (2x3) matrix\n",
      "B is a (3x2) matrix\n",
      "[[28. 34.]\n",
      " [64. 79.]]\n",
      "\n",
      "\n",
      "A is a (3x2) matrix\n",
      "B is a (2x3) matrix\n",
      "[[14. 19. 24.]\n",
      " [24. 33. 42.]\n",
      " [34. 47. 60.]]\n"
     ]
    }
   ],
   "source": [
    "#Task6\n",
    "\n",
    "A = np.matrix([\n",
    "    [1, 2, 3],\n",
    "    [4, 5, 6]\n",
    "])\n",
    "\n",
    "B = np.matrix([\n",
    "    [2,3],\n",
    "    [4,5],\n",
    "    [6,7]\n",
    "])\n",
    "\n",
    "def is_square_matrix(A):\n",
    "    (nrow_A,ncol_A) = A.shape\n",
    "    if (nrow_A == ncol_A):\n",
    "        return True\n",
    "    else:\n",
    "        return False\n",
    "    \n",
    "def dot_product(A,B):\n",
    "    (nrows_A,ncoln_A) = A.shape\n",
    "    (nrows_B,ncoln_B) = B.shape\n",
    "    print('A is a ({}x{}) matrix'.format(nrows_A,ncoln_A))\n",
    "    print('B is a ({}x{}) matrix'.format(nrows_B,ncoln_B))\n",
    "\n",
    "    if (ncoln_A == nrows_B):\n",
    "        C = np.zeros((nrows_A,ncoln_B))\n",
    "        (nrows_C,ncoln_C) = C.shape\n",
    "        i = 0\n",
    "        j = 0\n",
    "        k = 0\n",
    "        while i < nrows_C:\n",
    "            j = 0\n",
    "            while j < ncoln_C:\n",
    "                #print('Calculating element ({},{})'.format(i,j))\n",
    "                product_sum = 0\n",
    "                k = 0\n",
    "                while k < ncoln_A:\n",
    "                    e_product = A[i,k] * B[k,j]\n",
    "                    product_sum = product_sum + e_product\n",
    "                    #print('Multiplying A({},{}) and B({},{}): {} x {} = {}'.format(i,k,k,j,A[i,k],B[k,j],e_product))\n",
    "                    k += 1\n",
    "                #print('product_sum = {}'.format(product_sum))\n",
    "                C[i,j] = product_sum\n",
    "                j += 1\n",
    "            i += 1\n",
    "    else:\n",
    "        print('Error: dot_product: ncol_A is not the same as nrow_B')\n",
    "        return\n",
    "    return C\n",
    "\n",
    "(nrows_A,ncoln_A) = A.shape\n",
    "(nrows_B,ncoln_B) = B.shape\n",
    "\n",
    "# C = np.zeros((nrow_A,ncol_B))\n",
    "# C[0][0] = 1\n",
    "# C[1][1] = 2\n",
    "# print(C)\n",
    "\n",
    "AB = dot_product(A,B)\n",
    "print(AB)\n",
    "print('\\n')\n",
    "BA = dot_product(B,A)\n",
    "print(BA)"
   ]
  },
  {
   "cell_type": "code",
   "execution_count": 215,
   "metadata": {},
   "outputs": [],
   "source": [
    "import numpy as np\n",
    "\n",
    "C = ([\n",
    "    [1,3,2],\n",
    "    [4,2,1],\n",
    "    [5,2,1]\n",
    "])"
   ]
  },
  {
   "cell_type": "code",
   "execution_count": 216,
   "metadata": {},
   "outputs": [
    {
     "name": "stdout",
     "output_type": "stream",
     "text": [
      "The determinant of C is -1\n"
     ]
    }
   ],
   "source": [
    "#Task7\n",
    "\n",
    "def minordet(A,x,y):\n",
    "    mi_d = []\n",
    "    for i in range(len(A)):\n",
    "        check = []\n",
    "        for j in range(len(A)):\n",
    "            \n",
    "            if i != y and j != x:\n",
    "                check.append(A[j][i]) \n",
    "                \n",
    "\n",
    "        if check:\n",
    "            mi_d.append(check)\n",
    "    return mi_d\n",
    "\n",
    "def deter(A):\n",
    "    det = 0\n",
    "    if(len(A) == 1):\n",
    "        det = A[0,0]\n",
    "    else:\n",
    "        for i in range(0,len(A)):\n",
    "            m = minor_request(A,0,i)\n",
    "            temp = (m[0][0] * m[1][1]) - (m[0][1] * m[1][0])\n",
    "            det = det + (-1)**(i) * A[0][i] * temp\n",
    "    return det  \n",
    "\n",
    "print('The determinant of C is {}'.format(deter(C)))"
   ]
  },
  {
   "cell_type": "code",
   "execution_count": 217,
   "metadata": {},
   "outputs": [],
   "source": [
    "D = ([\n",
    "    [1,2,3,4],\n",
    "    [4,3,2,1],\n",
    "    [2,3,4,1],\n",
    "    [3,4,1,2]\n",
    "])"
   ]
  },
  {
   "cell_type": "code",
   "execution_count": 218,
   "metadata": {},
   "outputs": [
    {
     "name": "stdout",
     "output_type": "stream",
     "text": [
      "The minor of D is\n"
     ]
    },
    {
     "data": {
      "text/plain": [
       "array([[  4,  16,   4, -24],\n",
       "       [-44, -36,  -4,   4],\n",
       "       [-20, -20,  20,  20],\n",
       "       [ 20,  40,  20,   0]])"
      ]
     },
     "execution_count": 218,
     "metadata": {},
     "output_type": "execute_result"
    }
   ],
   "source": [
    "#Task8\n",
    "\n",
    "def deter(A):\n",
    "    det = 0\n",
    "    if(len(A)==1):\n",
    "        det = A[0][0]\n",
    "    else:\n",
    "        for i in range(0,len(A)):\n",
    "            m = minordet(A,0,i)\n",
    "            det = det + (-1)**(i) *A[0][i] * deter(m)\n",
    "    return det\n",
    "\n",
    "def minor(A):  \n",
    "    mat = []\n",
    "    for i in range(len(A)):\n",
    "        for j in range(len(A)):\n",
    "            x = deter(minordet(A,i,j))\n",
    "            mat.append(x)\n",
    "    return np.array(mat).reshape(len(A),len(A))\n",
    "\n",
    "print('The minor of D is')\n",
    "minor(D)\n"
   ]
  },
  {
   "cell_type": "code",
   "execution_count": 219,
   "metadata": {},
   "outputs": [
    {
     "name": "stdout",
     "output_type": "stream",
     "text": [
      "The cofactor of D is\n"
     ]
    },
    {
     "data": {
      "text/plain": [
       "array([[  4, -16,   4,  24],\n",
       "       [ 44, -36,   4,   4],\n",
       "       [-20,  20,  20, -20],\n",
       "       [-20,  40, -20,   0]])"
      ]
     },
     "execution_count": 219,
     "metadata": {},
     "output_type": "execute_result"
    }
   ],
   "source": [
    "#Task8\n",
    "\n",
    "def cofactor(A):\n",
    "    cofac = minor(A)\n",
    "    for i in range(len(A)):\n",
    "        for j in range(len(A)):\n",
    "            cofac[i][j] = (-1)**(i+j) * cofac[i][j]\n",
    "\n",
    "    return cofac\n",
    "\n",
    "print('The cofactor of D is')\n",
    "cofactor(D)"
   ]
  },
  {
   "cell_type": "code",
   "execution_count": 220,
   "metadata": {},
   "outputs": [
    {
     "name": "stdout",
     "output_type": "stream",
     "text": [
      "The adjoint of D is\n"
     ]
    },
    {
     "data": {
      "text/plain": [
       "array([[  4,  44, -20, -20],\n",
       "       [-16, -36,  20,  40],\n",
       "       [  4,   4,  20, -20],\n",
       "       [ 24,   4, -20,   0]])"
      ]
     },
     "execution_count": 220,
     "metadata": {},
     "output_type": "execute_result"
    }
   ],
   "source": [
    "#Task8\n",
    "\n",
    "def adjoint(A):\n",
    "    return transpose(cofactor(A))\n",
    "\n",
    "print('The adjoint of D is')\n",
    "adjoint(D)"
   ]
  },
  {
   "cell_type": "code",
   "execution_count": 221,
   "metadata": {
    "scrolled": true
   },
   "outputs": [
    {
     "name": "stdout",
     "output_type": "stream",
     "text": [
      "The inverse of D is\n"
     ]
    },
    {
     "data": {
      "text/plain": [
       "array([[ 0.05,  0.55, -0.25, -0.25],\n",
       "       [-0.2 , -0.45,  0.25,  0.5 ],\n",
       "       [ 0.05,  0.05,  0.25, -0.25],\n",
       "       [ 0.3 ,  0.05, -0.25,  0.  ]])"
      ]
     },
     "execution_count": 221,
     "metadata": {},
     "output_type": "execute_result"
    }
   ],
   "source": [
    "#Task8\n",
    "\n",
    "def inverse(A):\n",
    "    inverse = []\n",
    "    adj = adjoint(A)\n",
    "    det = deter(A)\n",
    "    for i in range(len(A)):\n",
    "            temp = []\n",
    "            for j in range(len(A)):\n",
    "                temp.append(adj[i][j] / det)\n",
    "            inverse.append(temp)\n",
    "    return np.array(inverse)    \n",
    "\n",
    "print('The inverse of D is')\n",
    "inverse(D)"
   ]
  },
  {
   "cell_type": "code",
   "execution_count": null,
   "metadata": {},
   "outputs": [],
   "source": []
  },
  {
   "cell_type": "code",
   "execution_count": null,
   "metadata": {},
   "outputs": [],
   "source": []
  },
  {
   "cell_type": "code",
   "execution_count": null,
   "metadata": {},
   "outputs": [],
   "source": []
  }
 ],
 "metadata": {
  "kernelspec": {
   "display_name": "Python 3",
   "language": "python",
   "name": "python3"
  },
  "language_info": {
   "codemirror_mode": {
    "name": "ipython",
    "version": 3
   },
   "file_extension": ".py",
   "mimetype": "text/x-python",
   "name": "python",
   "nbconvert_exporter": "python",
   "pygments_lexer": "ipython3",
   "version": "3.8.3"
  }
 },
 "nbformat": 4,
 "nbformat_minor": 4
}
