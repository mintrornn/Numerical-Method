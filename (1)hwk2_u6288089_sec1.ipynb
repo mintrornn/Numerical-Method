{
 "cells": [
  {
   "cell_type": "code",
   "execution_count": 1,
   "metadata": {},
   "outputs": [
    {
     "name": "stdout",
     "output_type": "stream",
     "text": [
      "The speed in km/hr = 177.14285714285714\n"
     ]
    }
   ],
   "source": [
    "#1\n",
    "#Goal: find the speed im km/hr given distance in meters(31 m) and time in second (0.63)\n",
    "#\n",
    "\n",
    "distance_m = 31\n",
    "distance_km =  distance_m/1000\n",
    "time_sec = 0.63\n",
    "time_min = time_sec/60\n",
    "time_hr = time_min/60\n",
    "\n",
    "speed_km_hr = distance_km/time_hr\n",
    "print('The speed in km/hr = {}'.format(speed_km_hr))"
   ]
  },
  {
   "cell_type": "code",
   "execution_count": 2,
   "metadata": {},
   "outputs": [
    {
     "name": "stdout",
     "output_type": "stream",
     "text": [
      "The circumference of a circle with radius 10 is 62.83185307179586\n"
     ]
    }
   ],
   "source": [
    "#2\n",
    "\n",
    "import math\n",
    "\n",
    "radius = 10\n",
    "circumference = 2*math.pi *radius\n",
    "print('The circumference of a circle with radius {} is {}'.format(radius,circumference))"
   ]
  },
  {
   "cell_type": "code",
   "execution_count": 4,
   "metadata": {},
   "outputs": [
    {
     "name": "stdout",
     "output_type": "stream",
     "text": [
      "BAD GENIUS    PARASITE    HARRY POTTER    AVENGERS ENDGAME\n",
      "BAD GENIUS\n",
      "The movie title is BAD GENIUS\n",
      "Please rate the movie from 1-10\n",
      "8\n",
      "Rating of this movie is 8\n"
     ]
    }
   ],
   "source": [
    "#3\n",
    "\n",
    "print('BAD GENIUS    PARASITE    HARRY POTTER    AVENGERS ENDGAME')\n",
    "name = input()\n",
    "print('The movie title is {}'.format(name))\n",
    "if(name == 'BADGENIUS' or 'PARASITE' or 'HARRY POTTER' or 'AVENGERS ENDGAME'):\n",
    "    print('Please rate the movie from 1-10')\n",
    "rate = int(input())\n",
    "if rate > 8:\n",
    "    print('Bravo')\n",
    "elif rate < 3:\n",
    "    print('Geeze')\n",
    "else:\n",
    "    print('Rating of this movie is {}'.format(rate))"
   ]
  },
  {
   "cell_type": "code",
   "execution_count": 5,
   "metadata": {},
   "outputs": [
    {
     "name": "stdout",
     "output_type": "stream",
     "text": [
      "FV_total = 24393.597444632862\n"
     ]
    }
   ],
   "source": [
    "#4\n",
    "\n",
    "FV1 = (2000*(1+0.0025)**12)\n",
    "FV2 = (2000*(1+0.0025)**11)\n",
    "FV3 = (2000*(1+0.0025)**10)\n",
    "FV4 = (2000*(1+0.0025)**9)\n",
    "FV5 = (2000*(1+0.0025)**8)\n",
    "FV6 = (2000*(1+0.0025)**7)\n",
    "FV7 = (2000*(1+0.0025)**6)\n",
    "FV8 = (2000*(1+0.0025)**5)\n",
    "FV9 = (2000*(1+0.0025)**4)\n",
    "FV10 = (2000*(1+0.0025)**3)\n",
    "FV11 = (2000*(1+0.0025)**2)\n",
    "FV12 = (2000*(1+0.0025)**1)\n",
    "FV_total = FV1+FV2+FV3+FV4+FV5+FV6+FV7+FV8+FV9+FV10+FV11+FV12\n",
    "print('FV_total = {}'.format(FV_total))"
   ]
  },
  {
   "cell_type": "code",
   "execution_count": 3,
   "metadata": {},
   "outputs": [
    {
     "name": "stdout",
     "output_type": "stream",
     "text": [
      "FV_total = 24393.597444632862\n"
     ]
    }
   ],
   "source": [
    "#5\n",
    "\n",
    "FV_total = 0\n",
    "for i in range(1,13):\n",
    "    FV_total = FV_total + (2000*(1+0.0025)**i)\n",
    "    \n",
    "print('FV_total = {}'.format(FV_total))\n"
   ]
  },
  {
   "cell_type": "code",
   "execution_count": 11,
   "metadata": {},
   "outputs": [
    {
     "name": "stdout",
     "output_type": "stream",
     "text": [
      "Input 2 number\n",
      "4\n",
      "6\n",
      "LCM = 12\n"
     ]
    }
   ],
   "source": [
    "#6\n",
    "\n",
    "print(\"Input 2 number\")\n",
    "a = int(input())\n",
    "b = int(input())\n",
    "if(a>b):\n",
    "    greater = a\n",
    "else:\n",
    "    greater = b\n",
    "while (True):\n",
    "    if(greater%a==0 and greater%b==0):\n",
    "        lcm = greater\n",
    "        break\n",
    "    greater+=1        \n",
    "print('LCM = {}'.format(lcm))"
   ]
  },
  {
   "cell_type": "code",
   "execution_count": 20,
   "metadata": {},
   "outputs": [
    {
     "name": "stdout",
     "output_type": "stream",
     "text": [
      "Input 2 number\n",
      "6\n",
      "9\n",
      "GCD = 3\n"
     ]
    }
   ],
   "source": [
    "#7\n",
    "\n",
    "print(\"Input 2 number\")\n",
    "a = int(input())\n",
    "b = int(input()) \n",
    "i=1\n",
    "while(i<=a and i<=b):\n",
    "    if(a%i==0 and b%i==0):\n",
    "        gcd = i\n",
    "    i+=1\n",
    "print('GCD = {}'.format(gcd))"
   ]
  },
  {
   "cell_type": "code",
   "execution_count": 46,
   "metadata": {},
   "outputs": [
    {
     "name": "stdout",
     "output_type": "stream",
     "text": [
      "Input number\n",
      "9\n",
      "9 is a not prime number\n"
     ]
    }
   ],
   "source": [
    "#8\n",
    "\n",
    "print('Input number')\n",
    "a = int(input())\n",
    "if(a>1):\n",
    "    for i in range(2,a):\n",
    "        if(a%i==0):\n",
    "            print('{} is a not prime number'.format(a))\n",
    "            break\n",
    "    else:\n",
    "        print('{} is a prime number'.format(a))\n",
    "else:\n",
    "    print('{} is a not prime number'.format(a))\n"
   ]
  },
  {
   "cell_type": "code",
   "execution_count": 50,
   "metadata": {},
   "outputs": [
    {
     "name": "stdout",
     "output_type": "stream",
     "text": [
      "2.4495\n"
     ]
    }
   ],
   "source": [
    "#9 \n",
    "import math\n",
    "a = math.sqrt(6)\n",
    "print('{:.4f}'.format(a))"
   ]
  },
  {
   "cell_type": "code",
   "execution_count": null,
   "metadata": {},
   "outputs": [],
   "source": []
  }
 ],
 "metadata": {
  "kernelspec": {
   "display_name": "Python 3",
   "language": "python",
   "name": "python3"
  },
  "language_info": {
   "codemirror_mode": {
    "name": "ipython",
    "version": 3
   },
   "file_extension": ".py",
   "mimetype": "text/x-python",
   "name": "python",
   "nbconvert_exporter": "python",
   "pygments_lexer": "ipython3",
   "version": "3.8.3"
  }
 },
 "nbformat": 4,
 "nbformat_minor": 4
}
