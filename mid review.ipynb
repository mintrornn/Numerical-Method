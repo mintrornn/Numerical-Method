{
 "cells": [
  {
   "cell_type": "code",
   "execution_count": 1,
   "metadata": {},
   "outputs": [],
   "source": [
    "import numpy as np\n",
    "import math"
   ]
  },
  {
   "cell_type": "code",
   "execution_count": 3,
   "metadata": {},
   "outputs": [
    {
     "name": "stdout",
     "output_type": "stream",
     "text": [
      "24.0\n"
     ]
    }
   ],
   "source": [
    "#1\n",
    "a = 8\n",
    "b = 6\n",
    "c = 10\n",
    "s = (a+b+c)/2\n",
    "area = np.sqrt(s*(s-a)*(s-b)*(s-c))\n",
    "print(area)"
   ]
  },
  {
   "cell_type": "code",
   "execution_count": 12,
   "metadata": {},
   "outputs": [
    {
     "name": "stdout",
     "output_type": "stream",
     "text": [
      "head:48 \n",
      "tail:952\n"
     ]
    }
   ],
   "source": [
    "#2\n",
    "rand = np.random.randint(2,size = 100)\n",
    "count = 0\n",
    "for i in rand:\n",
    "    if i==0:\n",
    "        count+=1\n",
    "print('head:{} \\ntail:{}'.format(count, 1000-count))\n"
   ]
  },
  {
   "cell_type": "code",
   "execution_count": 16,
   "metadata": {},
   "outputs": [
    {
     "name": "stdout",
     "output_type": "stream",
     "text": [
      "3.1416005075068716\n"
     ]
    }
   ],
   "source": [
    "es = 0.5*pow(10, 2-5)\n",
    "ea = 100\n",
    "i = 0\n",
    "sum = 0\n",
    "prev_sum = 0\n",
    "\n",
    "\n",
    "while ea > es:\n",
    "    sum = sum + ((-1)**i) / ((2*i)+1)\n",
    "    ea = abs((sum-prev_sum)/sum)*100\n",
    "    prev_sum = sum\n",
    "    #print('interval:{} appoximate_error:{} sum:{}'.format(i,ea,sum))\n",
    "    i += 1\n",
    "# end while\n",
    "print(sum*4)"
   ]
  },
  {
   "cell_type": "code",
   "execution_count": null,
   "metadata": {},
   "outputs": [],
   "source": [
    "#4\n"
   ]
  }
 ],
 "metadata": {
  "kernelspec": {
   "display_name": "Python 3",
   "language": "python",
   "name": "python3"
  },
  "language_info": {
   "codemirror_mode": {
    "name": "ipython",
    "version": 3
   },
   "file_extension": ".py",
   "mimetype": "text/x-python",
   "name": "python",
   "nbconvert_exporter": "python",
   "pygments_lexer": "ipython3",
   "version": "3.8.3"
  }
 },
 "nbformat": 4,
 "nbformat_minor": 4
}
