{
 "cells": [
  {
   "cell_type": "code",
   "execution_count": 1,
   "metadata": {},
   "outputs": [
    {
     "name": "stdout",
     "output_type": "stream",
     "text": [
      "e^2 = 1.2214027581601699\n"
     ]
    }
   ],
   "source": [
    "import math\n",
    "print('e^2 = {}'.format(math.e**(0.2)))"
   ]
  },
  {
   "cell_type": "code",
   "execution_count": 2,
   "metadata": {},
   "outputs": [],
   "source": [
    "def factorial(n):\n",
    "    #innitialize product\n",
    "    product = 1\n",
    "    for i in range(1,n+1):\n",
    "        product = product * i\n",
    "    #end for\n",
    "    return(product)\n",
    "#end function\n"
   ]
  },
  {
   "cell_type": "code",
   "execution_count": 3,
   "metadata": {},
   "outputs": [
    {
     "name": "stdout",
     "output_type": "stream",
     "text": [
      "24\n"
     ]
    }
   ],
   "source": [
    "print(factorial(4))"
   ]
  },
  {
   "cell_type": "code",
   "execution_count": 4,
   "metadata": {},
   "outputs": [
    {
     "name": "stdout",
     "output_type": "stream",
     "text": [
      "1.2719098178497297\n"
     ]
    }
   ],
   "source": [
    "output = 1 + 0.2 + (0.2*0.2)/factorial(2) + (0.2**0.2**0.2)/factorial(3)\n",
    "print(output)"
   ]
  },
  {
   "cell_type": "code",
   "execution_count": 5,
   "metadata": {
    "scrolled": true
   },
   "outputs": [
    {
     "name": "stdout",
     "output_type": "stream",
     "text": [
      "1.2214027581601699\n"
     ]
    }
   ],
   "source": [
    "true_value = math.e**0.2\n",
    "print(true_value)"
   ]
  },
  {
   "cell_type": "code",
   "execution_count": 6,
   "metadata": {},
   "outputs": [
    {
     "name": "stdout",
     "output_type": "stream",
     "text": [
      "-0.05050705968955982\n",
      "4.13516830153879\n"
     ]
    }
   ],
   "source": [
    "true_error = true_value - output\n",
    "print(true_error)\n",
    "true_error_pct = abs((true_value - output)/true_value)*100\n",
    "print(true_error_pct)"
   ]
  },
  {
   "cell_type": "code",
   "execution_count": 7,
   "metadata": {},
   "outputs": [
    {
     "name": "stdout",
     "output_type": "stream",
     "text": [
      "1.2214026666666666\n"
     ]
    }
   ],
   "source": [
    "#find e^0.2\n",
    "sum = 0\n",
    "x = 0.2\n",
    "for i in range(0,6):\n",
    "    sum = sum + (x**i)/factorial(i)\n",
    "print(sum)"
   ]
  },
  {
   "cell_type": "code",
   "execution_count": 8,
   "metadata": {},
   "outputs": [
    {
     "name": "stdout",
     "output_type": "stream",
     "text": [
      "1.2214027581601699\n"
     ]
    }
   ],
   "source": [
    "print(math.e**0.2)"
   ]
  },
  {
   "cell_type": "code",
   "execution_count": 9,
   "metadata": {},
   "outputs": [
    {
     "name": "stdout",
     "output_type": "stream",
     "text": [
      "es = 0.0005\n",
      "output = 1.0 ea = 100.0\n",
      "output = 1.2 ea = 16.666666666666664\n",
      "output = 1.22 ea = 1.6393442622950833\n",
      "output = 1.2213333333333334 ea = 0.10917030567686205\n",
      "output = 1.2214 ea = 0.005458217346214125\n",
      "output = 1.2214026666666666 ea = 0.0002183282171696027\n",
      "final output = 1.2214026666666666\n"
     ]
    }
   ],
   "source": [
    "#find e^0.2 using stopping criterion\n",
    "\n",
    "output = 0\n",
    "prev_output = 0\n",
    "x = 0.2\n",
    "p = 5\n",
    "es = 0.5*(10**(2-p))\n",
    "ea = 100\n",
    "i = 0\n",
    "\n",
    "print('es = {}'.format(es))\n",
    "while(ea>es):\n",
    "    output = output + (x**i)/factorial(i)\n",
    "    i+=1\n",
    "    ea = abs((output - prev_output)/output) * 100\n",
    "    prev_output = output\n",
    "    print('output = {} ea = {}'.format(output,ea))\n",
    "#end while\n",
    "\n",
    "print('final output = {}'.format(output))"
   ]
  },
  {
   "cell_type": "code",
   "execution_count": 10,
   "metadata": {},
   "outputs": [
    {
     "data": {
      "text/plain": [
       "1.729033373505779"
      ]
     },
     "execution_count": 10,
     "metadata": {},
     "output_type": "execute_result"
    }
   ],
   "source": [
    "4.7/math.e"
   ]
  },
  {
   "cell_type": "code",
   "execution_count": 11,
   "metadata": {},
   "outputs": [
    {
     "data": {
      "text/plain": [
       "2.718281828459045"
      ]
     },
     "execution_count": 11,
     "metadata": {},
     "output_type": "execute_result"
    }
   ],
   "source": [
    "math.e"
   ]
  },
  {
   "cell_type": "code",
   "execution_count": 12,
   "metadata": {},
   "outputs": [
    {
     "ename": "SyntaxError",
     "evalue": "invalid syntax (<ipython-input-12-08ab18995ceb>, line 1)",
     "output_type": "error",
     "traceback": [
      "\u001b[1;36m  File \u001b[1;32m\"<ipython-input-12-08ab18995ceb>\"\u001b[1;36m, line \u001b[1;32m1\u001b[0m\n\u001b[1;33m    def f(int x):\u001b[0m\n\u001b[1;37m              ^\u001b[0m\n\u001b[1;31mSyntaxError\u001b[0m\u001b[1;31m:\u001b[0m invalid syntax\n"
     ]
    }
   ],
   "source": [
    "def f(int x):\n",
    "    return x**2 - 3*x -2"
   ]
  },
  {
   "cell_type": "code",
   "execution_count": 13,
   "metadata": {},
   "outputs": [
    {
     "name": "stdout",
     "output_type": "stream",
     "text": [
      "[-10.   -9.8  -9.6  -9.4  -9.2  -9.   -8.8  -8.6  -8.4  -8.2  -8.   -7.8\n",
      "  -7.6  -7.4  -7.2  -7.   -6.8  -6.6  -6.4  -6.2  -6.   -5.8  -5.6  -5.4\n",
      "  -5.2  -5.   -4.8  -4.6  -4.4  -4.2  -4.   -3.8  -3.6  -3.4  -3.2  -3.\n",
      "  -2.8  -2.6  -2.4  -2.2  -2.   -1.8  -1.6  -1.4  -1.2  -1.   -0.8  -0.6\n",
      "  -0.4  -0.2   0.    0.2   0.4   0.6   0.8   1.    1.2   1.4   1.6   1.8\n",
      "   2.    2.2   2.4   2.6   2.8   3.    3.2   3.4   3.6   3.8   4.    4.2\n",
      "   4.4   4.6   4.8   5.    5.2   5.4   5.6   5.8   6.    6.2   6.4   6.6\n",
      "   6.8   7.    7.2   7.4   7.6   7.8   8.    8.2   8.4   8.6   8.8   9.\n",
      "   9.2   9.4   9.6   9.8  10. ]\n"
     ]
    },
    {
     "ename": "NameError",
     "evalue": "name 'f' is not defined",
     "output_type": "error",
     "traceback": [
      "\u001b[1;31m---------------------------------------------------------------------------\u001b[0m",
      "\u001b[1;31mNameError\u001b[0m                                 Traceback (most recent call last)",
      "\u001b[1;32m<ipython-input-13-eff7b7dfdb90>\u001b[0m in \u001b[0;36m<module>\u001b[1;34m\u001b[0m\n\u001b[0;32m      8\u001b[0m \u001b[0mprint\u001b[0m\u001b[1;33m(\u001b[0m\u001b[0mx\u001b[0m\u001b[1;33m)\u001b[0m\u001b[1;33m\u001b[0m\u001b[1;33m\u001b[0m\u001b[0m\n\u001b[0;32m      9\u001b[0m \u001b[1;33m\u001b[0m\u001b[0m\n\u001b[1;32m---> 10\u001b[1;33m \u001b[0my\u001b[0m \u001b[1;33m=\u001b[0m \u001b[0mf\u001b[0m\u001b[1;33m(\u001b[0m\u001b[0mx\u001b[0m\u001b[1;33m)\u001b[0m\u001b[1;33m\u001b[0m\u001b[1;33m\u001b[0m\u001b[0m\n\u001b[0m\u001b[0;32m     11\u001b[0m \u001b[1;33m\u001b[0m\u001b[0m\n\u001b[0;32m     12\u001b[0m \u001b[0mprint\u001b[0m\u001b[1;33m(\u001b[0m\u001b[0my\u001b[0m\u001b[1;33m)\u001b[0m\u001b[1;33m\u001b[0m\u001b[1;33m\u001b[0m\u001b[0m\n",
      "\u001b[1;31mNameError\u001b[0m: name 'f' is not defined"
     ]
    }
   ],
   "source": [
    "#Import the necessary packages and modules\n",
    "import matplotlib.pyplot as plt\n",
    "import numpy as np\n",
    "\n",
    "#Prepare the data \n",
    "x = np.linspace(-10,10,101)\n",
    "\n",
    "print(x)\n",
    "\n",
    "y = f(x)\n",
    "\n",
    "print(y)\n",
    "\n",
    "#Plot the data\n",
    "plt.plot(x,y,label='linear')\n",
    "\n",
    "#Add a legend\n",
    "plt.legend()\n",
    "\n",
    "#Show the plot\n",
    "plt.show()"
   ]
  },
  {
   "cell_type": "code",
   "execution_count": 1,
   "metadata": {},
   "outputs": [
    {
     "name": "stdout",
     "output_type": "stream",
     "text": [
      "[[1 2]\n",
      " [3 4]]\n",
      "[[1 0 0]\n",
      " [0 1 0]]\n",
      "[[ 2 -1  0]\n",
      " [ 1  2  1]\n",
      " [ 4  1  3]]\n",
      "[[2 5]\n",
      " [7 3]]\n"
     ]
    }
   ],
   "source": [
    "#task4?\n",
    "\n",
    "import numpy as np\n",
    "A = np.matrix([\n",
    "    [1,2],\n",
    "    [3,4]\n",
    "])\n",
    "B = np.matrix([\n",
    "    [1,0,0],\n",
    "    [0,1,0]\n",
    "])\n",
    "C = np.matrix([\n",
    "    [2,-1,0],\n",
    "    [1,2,1,],\n",
    "    [4,1,3]\n",
    "])\n",
    "D = np.matrix([\n",
    "    [2,5],\n",
    "    [7,3]\n",
    "])\n",
    "\n",
    "print(A)\n",
    "print(B)\n",
    "print(C)\n",
    "print(D)"
   ]
  },
  {
   "cell_type": "code",
   "execution_count": null,
   "metadata": {},
   "outputs": [],
   "source": [
    "A + D"
   ]
  },
  {
   "cell_type": "code",
   "execution_count": null,
   "metadata": {},
   "outputs": [],
   "source": [
    "A + C #A=2*2 C=3*3"
   ]
  },
  {
   "cell_type": "code",
   "execution_count": null,
   "metadata": {},
   "outputs": [],
   "source": [
    "# is_square\n",
    "\n",
    "def is_square(A):\n",
    "    (nrows, ncoln) = A.shape\n",
    "    print('number of rows = {} number of columns = {}'.format(nrows, ncoln))\n",
    "    if(nrows == ncoln):\n",
    "        return True\n",
    "    else:\n",
    "        return False"
   ]
  },
  {
   "cell_type": "code",
   "execution_count": null,
   "metadata": {},
   "outputs": [],
   "source": [
    "if(is_square(D)):\n",
    "    print('{} is a square matrix.'.format(D))\n",
    "else:\n",
    "    print('{} is not a square matrix'.format(D))"
   ]
  },
  {
   "cell_type": "code",
   "execution_count": 3,
   "metadata": {},
   "outputs": [],
   "source": [
    "def is_symmetric(A):\n",
    "    (nrows,ncoln) = A.shape\n",
    "    for i  in range(0, nrows):\n",
    "        for j in range(0, ncoln):\n",
    "            #print('A[{},{}] = {} '.format(i,j,A[i,j]))\n",
    "            if(A[i,j]==A[j,i]):\n",
    "                pass\n",
    "            else:\n",
    "                return False\n",
    "    return True"
   ]
  },
  {
   "cell_type": "code",
   "execution_count": 4,
   "metadata": {},
   "outputs": [],
   "source": [
    "S = np.matrix([\n",
    "    [3,-2,4],\n",
    "    [-2,6,2],\n",
    "    [4,2,3]\n",
    "])"
   ]
  },
  {
   "cell_type": "code",
   "execution_count": 5,
   "metadata": {},
   "outputs": [
    {
     "name": "stdout",
     "output_type": "stream",
     "text": [
      "True\n"
     ]
    }
   ],
   "source": [
    "print(is_symmetric(S))"
   ]
  },
  {
   "cell_type": "code",
   "execution_count": null,
   "metadata": {},
   "outputs": [],
   "source": [
    "D"
   ]
  },
  {
   "cell_type": "code",
   "execution_count": 6,
   "metadata": {},
   "outputs": [],
   "source": [
    "def is_diagonal(A):\n",
    "    (nrows,ncoln) = A.shape\n",
    "    for i  in range(0, nrows):\n",
    "        for j in range(0, ncoln):\n",
    "            if((i!=j) and (A[i,j]!= 0)):\n",
    "                return False\n",
    "            else:\n",
    "                pass\n",
    "    return True"
   ]
  },
  {
   "cell_type": "code",
   "execution_count": 7,
   "metadata": {},
   "outputs": [],
   "source": [
    "M = np.matrix([\n",
    "    [1,0,0],\n",
    "    [0,8,0],\n",
    "    [0,0,4]\n",
    "])"
   ]
  },
  {
   "cell_type": "code",
   "execution_count": 8,
   "metadata": {},
   "outputs": [
    {
     "name": "stdout",
     "output_type": "stream",
     "text": [
      "True\n"
     ]
    }
   ],
   "source": [
    "print(is_diagonal(M))"
   ]
  },
  {
   "cell_type": "code",
   "execution_count": null,
   "metadata": {},
   "outputs": [],
   "source": [
    "D"
   ]
  },
  {
   "cell_type": "code",
   "execution_count": null,
   "metadata": {},
   "outputs": [],
   "source": [
    "print(is_diagonal(S))"
   ]
  },
  {
   "cell_type": "code",
   "execution_count": 17,
   "metadata": {},
   "outputs": [],
   "source": [
    "U = np.matrix([\n",
    "    [1,1,-1,-2],\n",
    "    [0,2,1,3],\n",
    "    [0,1,1,3],\n",
    "    [0,2,1,4]\n",
    "])"
   ]
  },
  {
   "cell_type": "code",
   "execution_count": 18,
   "metadata": {},
   "outputs": [
    {
     "data": {
      "text/plain": [
       "matrix([[ 1., -1.,  3., -1.],\n",
       "        [ 0.,  1., -1.,  0.],\n",
       "        [ 0.,  2.,  2., -3.],\n",
       "        [ 0., -1.,  0.,  1.]])"
      ]
     },
     "execution_count": 18,
     "metadata": {},
     "output_type": "execute_result"
    }
   ],
   "source": [
    "np.linalg.inv(U)"
   ]
  },
  {
   "cell_type": "code",
   "execution_count": 19,
   "metadata": {},
   "outputs": [
    {
     "data": {
      "text/plain": [
       "1.0"
      ]
     },
     "execution_count": 19,
     "metadata": {},
     "output_type": "execute_result"
    }
   ],
   "source": [
    "np.linalg.det(U)"
   ]
  }
 ],
 "metadata": {
  "kernelspec": {
   "display_name": "Python 3",
   "language": "python",
   "name": "python3"
  },
  "language_info": {
   "codemirror_mode": {
    "name": "ipython",
    "version": 3
   },
   "file_extension": ".py",
   "mimetype": "text/x-python",
   "name": "python",
   "nbconvert_exporter": "python",
   "pygments_lexer": "ipython3",
   "version": "3.8.3"
  }
 },
 "nbformat": 4,
 "nbformat_minor": 4
}
