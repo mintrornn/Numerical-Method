{
 "cells": [
  {
   "cell_type": "code",
   "execution_count": 15,
   "metadata": {},
   "outputs": [
    {
     "name": "stdout",
     "output_type": "stream",
     "text": [
      "The integer closet to sqrt(6) is 2\n",
      "The number closet to sqrt(6) is 2.4\n",
      "The number closet to sqrt(6) is 2.44\n",
      "The number closet to sqrt(6) is 2.44\n"
     ]
    }
   ],
   "source": [
    "#Finding squareroot\n",
    "\n",
    "N=6\n",
    "for i in range(0,10):\n",
    "    test_value = i**2\n",
    "    if(test_value<6):\n",
    "        #do nothing\n",
    "        pass\n",
    "    else:\n",
    "        break\n",
    "    #end if\n",
    "#end for\n",
    "sol1=i-1\n",
    "print('The integer closet to sqrt({}) is {}'.format(N,sol1))\n",
    "\n",
    "for i in range(0,10):\n",
    "    test_value = sol1+(i/10)\n",
    "    #print('test_value = {}'.format(test_value))\n",
    "    if(test_value**2 <N):\n",
    "        #do nothing\n",
    "        pass\n",
    "    else:\n",
    "        break\n",
    "    #end if\n",
    "#end for\n",
    "sol2 = sol1+(i-1)/10\n",
    "print('The number closet to sqrt({}) is {}'.format(N,sol2))\n",
    "\n",
    "for i in range(0,10):\n",
    "    test_value = sol2+(i/100)\n",
    "    #print('test_value = {}'.format(test_value))\n",
    "    if(test_value**2 <N):\n",
    "        #do nothing\n",
    "        pass\n",
    "    else:\n",
    "        break\n",
    "    #end if\n",
    "#end for\n",
    "sol3 = sol2+(i-1)/100\n",
    "print('The number closet to sqrt({}) is {}'.format(N,sol3))\n",
    "\n",
    "for i in range(0,10):\n",
    "    test_value = sol2+(i/100)\n",
    "    #print('test_value = {}'.format(test_value))\n",
    "    if(test_value**2 <N):\n",
    "        #do nothing\n",
    "        pass \n",
    "    else:\n",
    "        break\n",
    "    #end if\n",
    "#end for\n",
    "sol3 = sol2+(i-1)/100\n",
    "print('The number closet to sqrt({}) is {}'.format(N,sol3))"
   ]
  },
  {
   "cell_type": "code",
   "execution_count": 19,
   "metadata": {},
   "outputs": [
    {
     "name": "stdout",
     "output_type": "stream",
     "text": [
      "The sqrt(311) is 0.0\n",
      "The sqrt(311) is 10.0\n",
      "The sqrt(311) is 19.0\n",
      "The sqrt(311) is 19.9\n",
      "The sqrt(311) is 19.99\n",
      "The sqrt(311) is 19.999\n",
      "The sqrt(311) is 19.9999\n",
      "The sqrt(311) is 19.99999\n",
      "The true value of sqrt(311) is 17.635192088548397\n"
     ]
    }
   ],
   "source": [
    "import math\n",
    "N=311\n",
    "sol=0\n",
    "\n",
    "for k in range(-2,6):\n",
    "    for i in range(0,11):\n",
    "        test_value = sol1+(i/10**k)\n",
    "        if(test_value**2<N):\n",
    "            #do nothing\n",
    "            pass\n",
    "        else:\n",
    "            break\n",
    "    sol=sol+(i-1)/(10**k)\n",
    "    print('The sqrt({}) is {}'.format(N, sol))\n",
    "    \n",
    "print('The true value of sqrt({}) is {}'.format(N,math.sqrt(N)))\n",
    "        "
   ]
  },
  {
   "cell_type": "code",
   "execution_count": null,
   "metadata": {},
   "outputs": [],
   "source": []
  }
 ],
 "metadata": {
  "kernelspec": {
   "display_name": "Python 3",
   "language": "python",
   "name": "python3"
  },
  "language_info": {
   "codemirror_mode": {
    "name": "ipython",
    "version": 3
   },
   "file_extension": ".py",
   "mimetype": "text/x-python",
   "name": "python",
   "nbconvert_exporter": "python",
   "pygments_lexer": "ipython3",
   "version": "3.8.3"
  }
 },
 "nbformat": 4,
 "nbformat_minor": 4
}
