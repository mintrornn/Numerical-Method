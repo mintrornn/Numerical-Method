{
 "cells": [
  {
   "cell_type": "code",
   "execution_count": 28,
   "metadata": {},
   "outputs": [],
   "source": [
    "import numpy as np"
   ]
  },
  {
   "cell_type": "code",
   "execution_count": 29,
   "metadata": {},
   "outputs": [
    {
     "name": "stdout",
     "output_type": "stream",
     "text": [
      "Iteration #5: x = -2.0000000004371565 ea = 0.0016195434393141948\n",
      "Iteration #4: x = 1.9999999999548304 ea = 0.0006720873114192916\n"
     ]
    }
   ],
   "source": [
    "#Task 1\n",
    "def f(x):\n",
    "    return x**3 - 4*(x**2) - 4*x + 16\n",
    "\n",
    "def newton_solve(f,df,x0,p):\n",
    "    es = 0.5 * (10**(2-p))\n",
    "    ea = 100\n",
    "    x = prev_x = x0\n",
    "    k=1\n",
    "    while(ea > es):\n",
    "        x = x -(f(x)/df(x))\n",
    "        ea = abs((x-prev_x)/x) *100\n",
    "        prev_x = x\n",
    "        k+=1\n",
    "    print('Iteration #{}: x = {} ea = {}'.format(k,x,ea))\n",
    "    \n",
    "def df(x):\n",
    "    return 3*(x**2) - 8*x - 4    \n",
    "\n",
    "newton_solve(f,df,-1.5,4)\n",
    "newton_solve(f,df,1.8,4)"
   ]
  },
  {
   "cell_type": "markdown",
   "metadata": {},
   "source": [
    "# Task 2.1 \n",
    "\n",
    "$f(x) = x^2-2x-3$"
   ]
  },
  {
   "cell_type": "code",
   "execution_count": 30,
   "metadata": {},
   "outputs": [
    {
     "name": "stdout",
     "output_type": "stream",
     "text": [
      "Iteration #12: x = 3.000022580244544 ea = 0.0030106256267175726\n",
      "None\n"
     ]
    }
   ],
   "source": [
    "#Task 2.1\n",
    "def solvefixedpoint(g,x0,p):\n",
    "    es = 0.5 * (10**(2-p))\n",
    "    ea = 100\n",
    "    x = prev_x = x0\n",
    "    k =1\n",
    "    while(ea > es):\n",
    "        x = g(x)\n",
    "        ea = abs((x-prev_x)/x) *100\n",
    "        prev_x = x\n",
    "        k+=1\n",
    "    print('Iteration #{}: x = {} ea = {}'.format(k,x,ea))\n",
    "    \n",
    "def f(x):\n",
    "    return x**2 - 2*x - 3\n",
    "\n",
    "def df(x):\n",
    "    return 2*x - x\n",
    "\n",
    "print(newton_solve(f,df,1,4))"
   ]
  },
  {
   "cell_type": "markdown",
   "metadata": {},
   "source": [
    "# Task2.2 \n",
    "$f(x) = {e^{-x}}-x$"
   ]
  },
  {
   "cell_type": "code",
   "execution_count": 31,
   "metadata": {},
   "outputs": [
    {
     "name": "stdout",
     "output_type": "stream",
     "text": [
      "Iteration #20: x = 0.5671354902062784 ea = 0.003800466624170186\n"
     ]
    }
   ],
   "source": [
    "def f(x):\n",
    "    return np.e**(-x) - x\n",
    "\n",
    "def df(x):\n",
    "    return -1*np.e**(-x) - 1\n",
    "\n",
    "def g(x):\n",
    "    return np.e**(-x)\n",
    "\n",
    "solvefixedpoint(g,1,4)"
   ]
  },
  {
   "cell_type": "markdown",
   "metadata": {},
   "source": [
    "# Task2.3\n",
    "$f(x)=sin(2\\pi{x})+{e^{1.2x}}+x-2.5$"
   ]
  },
  {
   "cell_type": "code",
   "execution_count": 34,
   "metadata": {},
   "outputs": [
    {
     "name": "stdout",
     "output_type": "stream",
     "text": [
      "Iteration #5: x = 0.4413009757314721 ea = 0.00010622959107520086\n"
     ]
    }
   ],
   "source": [
    "def f(x):\n",
    "    return np.sin(2*np.pi*x) + np.e**(1.2*x) + x - 2.5\n",
    "\n",
    "def df(x):\n",
    "    return 1.2*np.e**(1.2*x) + 2*np.pi*np.cos(2*np.pi*x) + 1\n",
    "\n",
    "def g(x):\n",
    "    return 2.5-np.sin(2*np.pi*x)-np.e**(1.2*x)\n",
    "\n",
    "newton_solve(f,df,0.55,4)"
   ]
  },
  {
   "cell_type": "code",
   "execution_count": null,
   "metadata": {},
   "outputs": [],
   "source": []
  },
  {
   "cell_type": "code",
   "execution_count": null,
   "metadata": {},
   "outputs": [],
   "source": []
  }
 ],
 "metadata": {
  "kernelspec": {
   "display_name": "Python 3",
   "language": "python",
   "name": "python3"
  },
  "language_info": {
   "codemirror_mode": {
    "name": "ipython",
    "version": 3
   },
   "file_extension": ".py",
   "mimetype": "text/x-python",
   "name": "python",
   "nbconvert_exporter": "python",
   "pygments_lexer": "ipython3",
   "version": "3.8.3"
  }
 },
 "nbformat": 4,
 "nbformat_minor": 4
}
