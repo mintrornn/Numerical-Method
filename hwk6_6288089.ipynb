{
 "cells": [
  {
   "cell_type": "code",
   "execution_count": 60,
   "metadata": {},
   "outputs": [],
   "source": [
    "import numpy as np\n",
    "import math"
   ]
  },
  {
   "cell_type": "code",
   "execution_count": 61,
   "metadata": {},
   "outputs": [
    {
     "name": "stdout",
     "output_type": "stream",
     "text": [
      "[[ 2  1  1 10]\n",
      " [ 3  2  3 18]\n",
      " [ 1  4  9 16]]\n"
     ]
    }
   ],
   "source": [
    "#Task1\n",
    "A = np.matrix([\n",
    "    [2, 1, 1, 10],\n",
    "    [3, 2, 3, 18],\n",
    "    [1, 4, 9, 16]\n",
    "])\n",
    "print(A)"
   ]
  },
  {
   "cell_type": "code",
   "execution_count": 62,
   "metadata": {},
   "outputs": [
    {
     "name": "stdout",
     "output_type": "stream",
     "text": [
      "[[ 1  0 -1  2]]\n",
      "[[ 2  1  1 10]\n",
      " [ 3  2  3 18]\n",
      " [ 1  4  9 16]\n",
      " [ 1  0 -1  2]]\n"
     ]
    }
   ],
   "source": [
    "a = 2*A[0,:]-A[1,:]\n",
    "print(a)\n",
    "A = np.append(A,a,axis=0)\n",
    "print(A)"
   ]
  },
  {
   "cell_type": "code",
   "execution_count": 63,
   "metadata": {},
   "outputs": [
    {
     "name": "stdout",
     "output_type": "stream",
     "text": [
      "[[ 0  4 10 14]]\n",
      "[[0. 2. 5. 7.]]\n",
      "[[ 2.  1.  1. 10.]\n",
      " [ 3.  2.  3. 18.]\n",
      " [ 1.  4.  9. 16.]\n",
      " [ 1.  0. -1.  2.]\n",
      " [ 0.  2.  5.  7.]]\n"
     ]
    }
   ],
   "source": [
    "b  = A[2,:]-a\n",
    "print(b)\n",
    "b = b/2\n",
    "print(b)\n",
    "A = np.append(A,b,axis=0)\n",
    "print(A)"
   ]
  },
  {
   "cell_type": "code",
   "execution_count": 64,
   "metadata": {},
   "outputs": [
    {
     "name": "stdout",
     "output_type": "stream",
     "text": [
      "[[ 0.  2.  6. 12.]]\n",
      "[[0. 1. 3. 6.]]\n",
      "[[ 2.  1.  1. 10.]\n",
      " [ 3.  2.  3. 18.]\n",
      " [ 1.  4.  9. 16.]\n",
      " [ 1.  0. -1.  2.]\n",
      " [ 0.  2.  5.  7.]\n",
      " [ 0.  1.  3.  6.]]\n"
     ]
    }
   ],
   "source": [
    "c = A[1,:]-3*a\n",
    "print(c)\n",
    "c = c/2\n",
    "print(c)\n",
    "A = np.append(A,c,axis=0)\n",
    "print(A)"
   ]
  },
  {
   "cell_type": "code",
   "execution_count": 65,
   "metadata": {},
   "outputs": [
    {
     "name": "stdout",
     "output_type": "stream",
     "text": [
      "[[0. 0. 1. 5.]]\n",
      "[[ 2.  1.  1. 10.]\n",
      " [ 3.  2.  3. 18.]\n",
      " [ 1.  4.  9. 16.]\n",
      " [ 1.  0. -1.  2.]\n",
      " [ 0.  2.  5.  7.]\n",
      " [ 0.  1.  3.  6.]\n",
      " [ 0.  0.  1.  5.]]\n"
     ]
    }
   ],
   "source": [
    "d = 2*c-b\n",
    "print(d)\n",
    "A = np.append(A,d,axis=0)\n",
    "print(A)"
   ]
  },
  {
   "cell_type": "code",
   "execution_count": 66,
   "metadata": {},
   "outputs": [
    {
     "name": "stdout",
     "output_type": "stream",
     "text": [
      "[[ 0.  1.  0. -9.]]\n",
      "[[ 2.  1.  1. 10.]\n",
      " [ 3.  2.  3. 18.]\n",
      " [ 1.  4.  9. 16.]\n",
      " [ 1.  0. -1.  2.]\n",
      " [ 0.  2.  5.  7.]\n",
      " [ 0.  1.  3.  6.]\n",
      " [ 0.  0.  1.  5.]\n",
      " [ 0.  1.  0. -9.]]\n"
     ]
    }
   ],
   "source": [
    "e = c-3*d\n",
    "print(e)\n",
    "A = np.append(A,e,axis=0)\n",
    "print(A)"
   ]
  },
  {
   "cell_type": "code",
   "execution_count": 67,
   "metadata": {},
   "outputs": [
    {
     "name": "stdout",
     "output_type": "stream",
     "text": [
      "[[1. 0. 0. 7.]]\n",
      "[[ 2.  1.  1. 10.]\n",
      " [ 3.  2.  3. 18.]\n",
      " [ 1.  4.  9. 16.]\n",
      " [ 1.  0. -1.  2.]\n",
      " [ 0.  2.  5.  7.]\n",
      " [ 0.  1.  3.  6.]\n",
      " [ 0.  0.  1.  5.]\n",
      " [ 0.  1.  0. -9.]\n",
      " [ 1.  0.  0.  7.]]\n"
     ]
    }
   ],
   "source": [
    "f = a + d\n",
    "print(f)\n",
    "A = np.append(A,f,axis=0)\n",
    "print(A)"
   ]
  },
  {
   "cell_type": "code",
   "execution_count": 68,
   "metadata": {},
   "outputs": [
    {
     "name": "stdout",
     "output_type": "stream",
     "text": [
      "[[2 1 1]\n",
      " [3 2 3]\n",
      " [1 4 9]]\n",
      "[[10]\n",
      " [18]\n",
      " [16]]\n"
     ]
    }
   ],
   "source": [
    "#Task2\n",
    "A = np.matrix([\n",
    "    [2,1,1],\n",
    "    [3,2,3],\n",
    "    [1,4,9]\n",
    "])\n",
    "print(A)\n",
    "\n",
    "B = np.matrix([\n",
    "    [10],\n",
    "    [18],\n",
    "    [16]\n",
    "])\n",
    "print(B)"
   ]
  },
  {
   "cell_type": "code",
   "execution_count": 69,
   "metadata": {},
   "outputs": [
    {
     "name": "stdout",
     "output_type": "stream",
     "text": [
      "[[-3.   2.5 -0.5]\n",
      " [12.  -8.5  1.5]\n",
      " [-5.   3.5 -0.5]]\n",
      "[[ 7.]\n",
      " [-9.]\n",
      " [ 5.]]\n"
     ]
    }
   ],
   "source": [
    "inv_A = np.linalg.inv(A)\n",
    "print(inv_A)\n",
    "\n",
    "X = np.dot(inv_A,B)\n",
    "print(X)"
   ]
  },
  {
   "cell_type": "code",
   "execution_count": 70,
   "metadata": {},
   "outputs": [],
   "source": [
    "def fwd_elim_recurse(AB):\n",
    "    [nr,nc] = AB.shape\n",
    "    ABx = AB.copy()\n",
    "    \n",
    "    if(nr == 1):\n",
    "        pass\n",
    "    else:\n",
    "        for r in range(1,nr):\n",
    "            row_factor = ABx[r,0]/ABx[0,0]\n",
    "            ABx[r,:] = ABx[r,:] - ABx[0,:]*row_factor\n",
    "        red_box = ABx[1:nr,1:nc].copy()\n",
    "        temp = fwd_elim_recurse(red_box)\n",
    "        ABx[1:nr,1:nc] = temp\n",
    "    return ABx"
   ]
  },
  {
   "cell_type": "code",
   "execution_count": 71,
   "metadata": {},
   "outputs": [],
   "source": [
    "def back_sub(Ab_re):\n",
    "    [nr,nc] = Ab_re.shape\n",
    "    x = np.empty(nr)\n",
    "    \n",
    "    for v in range(nr-1,-1,-1):\n",
    "        sum_of_products = 0\n",
    "        for i in range(v+1,nr):\n",
    "            product = Ab_re[v,i]*x[i]\n",
    "            sum_of_products = sum_of_products + product\n",
    "        x[v] = (Ab_re[v,nc-1] - sum_of_products)/Ab_re[v,v]\n",
    "    print(x)\n",
    "    return x"
   ]
  },
  {
   "cell_type": "code",
   "execution_count": 72,
   "metadata": {},
   "outputs": [
    {
     "name": "stdout",
     "output_type": "stream",
     "text": [
      "[[ 2.  1.  1. 10.]\n",
      " [ 3.  2.  3. 18.]\n",
      " [ 1.  4.  9. 16.]]\n"
     ]
    }
   ],
   "source": [
    "A = A *1.0\n",
    "B = B*1.0\n",
    "\n",
    "AB = np.append(A,B,axis=1)\n",
    "print(AB)"
   ]
  },
  {
   "cell_type": "code",
   "execution_count": 73,
   "metadata": {},
   "outputs": [
    {
     "name": "stdout",
     "output_type": "stream",
     "text": [
      "[[  2.    1.    1.   10. ]\n",
      " [  0.    0.5   1.5   3. ]\n",
      " [  0.    0.   -2.  -10. ]]\n"
     ]
    }
   ],
   "source": [
    "AB_re = fwd_elim_recurse(AB)\n",
    "print(AB_re)"
   ]
  },
  {
   "cell_type": "code",
   "execution_count": 74,
   "metadata": {},
   "outputs": [
    {
     "name": "stdout",
     "output_type": "stream",
     "text": [
      "[ 7. -9.  5.]\n"
     ]
    }
   ],
   "source": [
    "x = back_sub(AB_re)"
   ]
  },
  {
   "cell_type": "code",
   "execution_count": 75,
   "metadata": {},
   "outputs": [],
   "source": [
    "#Task4\n",
    "def cramer(X,Y,n):\n",
    "    for i in range(0,n):\n",
    "        X1 = X.copy()\n",
    "        X1[:,i] = Y\n",
    "        print(X1)\n",
    "        xx1 = np.linalg.det(X1)/np.linalg.det(X)\n",
    "        print(round(xx1)) \n"
   ]
  },
  {
   "cell_type": "code",
   "execution_count": 76,
   "metadata": {},
   "outputs": [
    {
     "name": "stdout",
     "output_type": "stream",
     "text": [
      "[[15 -5]\n",
      " [31  1]]\n",
      "10.0\n",
      "[[ 2 15]\n",
      " [ 3 31]]\n",
      "1.0\n"
     ]
    }
   ],
   "source": [
    "A1 = np.matrix([\n",
    "    [2,-5],\n",
    "    [3,1]\n",
    "])\n",
    "\n",
    "B1 = np.matrix([\n",
    "    [15],\n",
    "    [31]\n",
    "])\n",
    "\n",
    "cramer(A1,B1,len(A1))"
   ]
  },
  {
   "cell_type": "code",
   "execution_count": 77,
   "metadata": {},
   "outputs": [
    {
     "name": "stdout",
     "output_type": "stream",
     "text": [
      "[[10  1  1]\n",
      " [18  2  3]\n",
      " [16  4  9]]\n",
      "7.0\n",
      "[[ 2 10  1]\n",
      " [ 3 18  3]\n",
      " [ 1 16  9]]\n",
      "-9.0\n",
      "[[ 2  1 10]\n",
      " [ 3  2 18]\n",
      " [ 1  4 16]]\n",
      "5.0\n"
     ]
    }
   ],
   "source": [
    "A2 = np.matrix([\n",
    "    [2,1,1],\n",
    "    [3,2,3],\n",
    "    [1,4,9]\n",
    "])\n",
    "\n",
    "B2 = np.matrix([\n",
    "    [10],\n",
    "    [18],\n",
    "    [16]\n",
    "])\n",
    "\n",
    "cramer(A2,B2,len(A2))"
   ]
  },
  {
   "cell_type": "code",
   "execution_count": 79,
   "metadata": {},
   "outputs": [
    {
     "name": "stdout",
     "output_type": "stream",
     "text": [
      "[[13  2  1  4]\n",
      " [28  0  4  3]\n",
      " [20  2  2  1]\n",
      " [ 6  1  3  2]]\n",
      "3.0\n",
      "[[ 1 13  1  4]\n",
      " [ 2 28  4  3]\n",
      " [ 4 20  2  1]\n",
      " [-3  6  3  2]]\n",
      "-1.0\n",
      "[[ 1  2 13  4]\n",
      " [ 2  0 28  3]\n",
      " [ 4  2 20  1]\n",
      " [-3  1  6  2]]\n",
      "4.0\n",
      "[[ 1  2  1 13]\n",
      " [ 2  0  4 28]\n",
      " [ 4  2  2 20]\n",
      " [-3  1  3  6]]\n",
      "2.0\n"
     ]
    }
   ],
   "source": [
    "A3 = np.matrix([\n",
    "    [1,2,1,4],\n",
    "    [2,0,4,3],\n",
    "    [4,2,2,1],\n",
    "    [-3,1,3,2]\n",
    "])\n",
    "\n",
    "B3 = np.matrix([\n",
    "    [13],\n",
    "    [28],\n",
    "    [20],\n",
    "    [6]\n",
    "])\n",
    "\n",
    "cramer(A3,B3,len(A3))\n"
   ]
  },
  {
   "cell_type": "code",
   "execution_count": null,
   "metadata": {},
   "outputs": [],
   "source": []
  }
 ],
 "metadata": {
  "kernelspec": {
   "display_name": "Python 3",
   "language": "python",
   "name": "python3"
  },
  "language_info": {
   "codemirror_mode": {
    "name": "ipython",
    "version": 3
   },
   "file_extension": ".py",
   "mimetype": "text/x-python",
   "name": "python",
   "nbconvert_exporter": "python",
   "pygments_lexer": "ipython3",
   "version": "3.8.3"
  }
 },
 "nbformat": 4,
 "nbformat_minor": 4
}
