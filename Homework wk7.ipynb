{
 "cells": [
  {
   "cell_type": "code",
   "execution_count": 2,
   "metadata": {},
   "outputs": [],
   "source": [
    "import numpy as np\n",
    "import math"
   ]
  },
  {
   "cell_type": "markdown",
   "metadata": {},
   "source": [
    "<h2>TASK 1</h2>"
   ]
  },
  {
   "cell_type": "code",
   "execution_count": 3,
   "metadata": {},
   "outputs": [],
   "source": [
    "M = np.matrix([\n",
    "    [2,1,1,10],\n",
    "    [3,2,3,18],\n",
    "    [1,4,9,16]\n",
    "])"
   ]
  },
  {
   "cell_type": "code",
   "execution_count": 4,
   "metadata": {},
   "outputs": [
    {
     "name": "stdout",
     "output_type": "stream",
     "text": [
      "[[ 1  0 -1  2]]\n"
     ]
    }
   ],
   "source": [
    "eq4  = 2*M[0,:]-M[1,:]\n",
    "print(eq4)"
   ]
  },
  {
   "cell_type": "code",
   "execution_count": 5,
   "metadata": {},
   "outputs": [
    {
     "name": "stdout",
     "output_type": "stream",
     "text": [
      "[[ 2  1  1 10]\n",
      " [ 3  2  3 18]\n",
      " [ 1  4  9 16]\n",
      " [ 1  0 -1  2]]\n"
     ]
    }
   ],
   "source": [
    "M = np.append(M,eq4,axis=0)\n",
    "print(M)"
   ]
  },
  {
   "cell_type": "code",
   "execution_count": 6,
   "metadata": {},
   "outputs": [
    {
     "name": "stdout",
     "output_type": "stream",
     "text": [
      "[[ 0  4 10 14]]\n"
     ]
    }
   ],
   "source": [
    "eq5  = M[2,:]-eq4\n",
    "print(eq5)"
   ]
  },
  {
   "cell_type": "code",
   "execution_count": 7,
   "metadata": {},
   "outputs": [
    {
     "name": "stdout",
     "output_type": "stream",
     "text": [
      "[[0. 2. 5. 7.]]\n"
     ]
    }
   ],
   "source": [
    "eq5 = eq5/2\n",
    "print(eq5)"
   ]
  },
  {
   "cell_type": "code",
   "execution_count": 8,
   "metadata": {},
   "outputs": [
    {
     "name": "stdout",
     "output_type": "stream",
     "text": [
      "[[ 2.  1.  1. 10.]\n",
      " [ 3.  2.  3. 18.]\n",
      " [ 1.  4.  9. 16.]\n",
      " [ 1.  0. -1.  2.]\n",
      " [ 0.  2.  5.  7.]]\n"
     ]
    }
   ],
   "source": [
    "M = np.append(M,eq5,axis=0)\n",
    "print(M)"
   ]
  },
  {
   "cell_type": "code",
   "execution_count": 9,
   "metadata": {},
   "outputs": [
    {
     "name": "stdout",
     "output_type": "stream",
     "text": [
      "[[ 0.  2.  6. 12.]]\n"
     ]
    }
   ],
   "source": [
    "eq6 = M[1,:]-3*eq4\n",
    "print(eq6)"
   ]
  },
  {
   "cell_type": "code",
   "execution_count": 10,
   "metadata": {},
   "outputs": [
    {
     "name": "stdout",
     "output_type": "stream",
     "text": [
      "[[0. 1. 3. 6.]]\n"
     ]
    }
   ],
   "source": [
    "eq6 = eq6/2\n",
    "print(eq6)"
   ]
  },
  {
   "cell_type": "code",
   "execution_count": 11,
   "metadata": {},
   "outputs": [
    {
     "name": "stdout",
     "output_type": "stream",
     "text": [
      "[[ 2.  1.  1. 10.]\n",
      " [ 3.  2.  3. 18.]\n",
      " [ 1.  4.  9. 16.]\n",
      " [ 1.  0. -1.  2.]\n",
      " [ 0.  2.  5.  7.]\n",
      " [ 0.  1.  3.  6.]]\n"
     ]
    }
   ],
   "source": [
    "M = np.append(M,eq6,axis=0)\n",
    "print(M)"
   ]
  },
  {
   "cell_type": "code",
   "execution_count": 12,
   "metadata": {},
   "outputs": [
    {
     "name": "stdout",
     "output_type": "stream",
     "text": [
      "[[0. 0. 1. 5.]]\n"
     ]
    }
   ],
   "source": [
    "eq7 = 2*eq6-eq5\n",
    "print(eq7)"
   ]
  },
  {
   "cell_type": "code",
   "execution_count": 13,
   "metadata": {},
   "outputs": [
    {
     "name": "stdout",
     "output_type": "stream",
     "text": [
      "[[ 2.  1.  1. 10.]\n",
      " [ 3.  2.  3. 18.]\n",
      " [ 1.  4.  9. 16.]\n",
      " [ 1.  0. -1.  2.]\n",
      " [ 0.  2.  5.  7.]\n",
      " [ 0.  1.  3.  6.]\n",
      " [ 0.  0.  1.  5.]]\n"
     ]
    }
   ],
   "source": [
    "M = np.append(M,eq7,axis=0)\n",
    "print(M)"
   ]
  },
  {
   "cell_type": "code",
   "execution_count": 14,
   "metadata": {},
   "outputs": [
    {
     "name": "stdout",
     "output_type": "stream",
     "text": [
      "[[ 0.  1.  0. -9.]]\n"
     ]
    }
   ],
   "source": [
    "eq8 = eq6-3*eq7\n",
    "print(eq8)"
   ]
  },
  {
   "cell_type": "code",
   "execution_count": 15,
   "metadata": {},
   "outputs": [
    {
     "name": "stdout",
     "output_type": "stream",
     "text": [
      "[[ 2.  1.  1. 10.]\n",
      " [ 3.  2.  3. 18.]\n",
      " [ 1.  4.  9. 16.]\n",
      " [ 1.  0. -1.  2.]\n",
      " [ 0.  2.  5.  7.]\n",
      " [ 0.  1.  3.  6.]\n",
      " [ 0.  0.  1.  5.]\n",
      " [ 0.  1.  0. -9.]]\n"
     ]
    }
   ],
   "source": [
    "M = np.append(M,eq8,axis=0)\n",
    "print(M)"
   ]
  },
  {
   "cell_type": "code",
   "execution_count": 16,
   "metadata": {},
   "outputs": [
    {
     "name": "stdout",
     "output_type": "stream",
     "text": [
      "[[1. 0. 0. 7.]]\n"
     ]
    }
   ],
   "source": [
    "eq9 = eq4 + eq7\n",
    "print(eq9)"
   ]
  },
  {
   "cell_type": "code",
   "execution_count": 17,
   "metadata": {},
   "outputs": [
    {
     "name": "stdout",
     "output_type": "stream",
     "text": [
      "[[ 2.  1.  1. 10.]\n",
      " [ 3.  2.  3. 18.]\n",
      " [ 1.  4.  9. 16.]\n",
      " [ 1.  0. -1.  2.]\n",
      " [ 0.  2.  5.  7.]\n",
      " [ 0.  1.  3.  6.]\n",
      " [ 0.  0.  1.  5.]\n",
      " [ 0.  1.  0. -9.]\n",
      " [ 1.  0.  0.  7.]]\n"
     ]
    }
   ],
   "source": [
    "M = np.append(M,eq9,axis=0)\n",
    "print(M)"
   ]
  },
  {
   "cell_type": "markdown",
   "metadata": {},
   "source": [
    "<h2>TASK 2</h2>"
   ]
  },
  {
   "cell_type": "code",
   "execution_count": 18,
   "metadata": {},
   "outputs": [
    {
     "data": {
      "text/plain": [
       "matrix([[2, 1, 1],\n",
       "        [3, 2, 3],\n",
       "        [1, 4, 9]])"
      ]
     },
     "execution_count": 18,
     "metadata": {},
     "output_type": "execute_result"
    }
   ],
   "source": [
    "A = np.matrix([\n",
    "    [2,1,1],\n",
    "    [3,2,3],\n",
    "    [1,4,9]\n",
    "])\n",
    "A"
   ]
  },
  {
   "cell_type": "code",
   "execution_count": 19,
   "metadata": {},
   "outputs": [
    {
     "data": {
      "text/plain": [
       "matrix([[10],\n",
       "        [18],\n",
       "        [16]])"
      ]
     },
     "execution_count": 19,
     "metadata": {},
     "output_type": "execute_result"
    }
   ],
   "source": [
    "B = np.matrix([\n",
    "    [10],\n",
    "    [18],\n",
    "    [16]\n",
    "])\n",
    "B"
   ]
  },
  {
   "cell_type": "code",
   "execution_count": 20,
   "metadata": {},
   "outputs": [
    {
     "name": "stdout",
     "output_type": "stream",
     "text": [
      "[[-3.   2.5 -0.5]\n",
      " [12.  -8.5  1.5]\n",
      " [-5.   3.5 -0.5]]\n"
     ]
    }
   ],
   "source": [
    "inv_A = np.linalg.inv(A)\n",
    "print(inv_A)"
   ]
  },
  {
   "cell_type": "code",
   "execution_count": 21,
   "metadata": {},
   "outputs": [
    {
     "name": "stdout",
     "output_type": "stream",
     "text": [
      "[[ 7.]\n",
      " [-9.]\n",
      " [ 5.]]\n"
     ]
    }
   ],
   "source": [
    "X = np.dot(inv_A,B)\n",
    "print(X)"
   ]
  },
  {
   "cell_type": "markdown",
   "metadata": {},
   "source": [
    "<h2>TASK 3</h2>"
   ]
  },
  {
   "cell_type": "code",
   "execution_count": 22,
   "metadata": {},
   "outputs": [],
   "source": [
    "def fwd_elim_recurse(AB):\n",
    "    [nr,nc] = AB.shape\n",
    "    ABx = AB.copy()\n",
    "    \n",
    "    if(nr == 1):\n",
    "        pass\n",
    "    else:\n",
    "        # r is the iterator for the rows which first element removed\n",
    "        for r in range(1,nr):\n",
    "            row_factor = ABx[r,0]/ABx[0,0]\n",
    "            ABx[r,:] = ABx[r,:] - ABx[0,:]*row_factor\n",
    "        # end for\n",
    "        red_box = ABx[1:nr,1:nc].copy()\n",
    "        temp = fwd_elim_recurse(red_box)\n",
    "        ABx[1:nr,1:nc] = temp\n",
    "    # end if\n",
    "    return ABx\n",
    "# end func"
   ]
  },
  {
   "cell_type": "code",
   "execution_count": 23,
   "metadata": {},
   "outputs": [],
   "source": [
    "def back_sub(AB_re):\n",
    "    [nr,nc ] = AB_re.shape\n",
    "    # nr will represent the total nimber of variables that we have to find\n",
    "    # create x to hold calculated values\n",
    "    x = np.empty(nr)\n",
    "    \n",
    "    # v is the variable iterator (index)\n",
    "    for v in range(nr-1,-1,-1):\n",
    "        # x = constant - (sum_of_products between coeff_i and x_i)/coeff of x_v\n",
    "        # where i > v\n",
    "        sum_of_products = 0\n",
    "        for i in range(v+1,nr):\n",
    "            product = AB_re[v,i]*x[i]\n",
    "            sum_of_products = sum_of_products + product\n",
    "        # end for\n",
    "        \n",
    "        x[v] = (AB_re[v,nc-1] - sum_of_products)/AB_re[v,v]\n",
    "        \n",
    "    # end for\n",
    "    print(x)\n",
    "    return x\n",
    "# end func"
   ]
  },
  {
   "cell_type": "code",
   "execution_count": 23,
   "metadata": {},
   "outputs": [
    {
     "name": "stdout",
     "output_type": "stream",
     "text": [
      "[[ 2.  1.  1. 10.]\n",
      " [ 3.  2.  3. 18.]\n",
      " [ 1.  4.  9. 16.]]\n"
     ]
    }
   ],
   "source": [
    "A = A *1.0\n",
    "B = B*1.0\n",
    "\n",
    "AB = np.append(A,B,axis=1)\n",
    "print(AB)"
   ]
  },
  {
   "cell_type": "code",
   "execution_count": 24,
   "metadata": {},
   "outputs": [
    {
     "data": {
      "text/plain": [
       "matrix([[  2. ,   1. ,   1. ,  10. ],\n",
       "        [  0. ,   0.5,   1.5,   3. ],\n",
       "        [  0. ,   0. ,  -2. , -10. ]])"
      ]
     },
     "execution_count": 24,
     "metadata": {},
     "output_type": "execute_result"
    }
   ],
   "source": [
    "AB_re = fwd_elim_recurse(AB)\n",
    "AB_re"
   ]
  },
  {
   "cell_type": "code",
   "execution_count": 25,
   "metadata": {},
   "outputs": [
    {
     "name": "stdout",
     "output_type": "stream",
     "text": [
      "[ 7. -9.  5.]\n"
     ]
    }
   ],
   "source": [
    "x = back_sub(AB_re)"
   ]
  },
  {
   "cell_type": "markdown",
   "metadata": {},
   "source": [
    "<h2>TASK 4</h2>"
   ]
  },
  {
   "cell_type": "code",
   "execution_count": 26,
   "metadata": {},
   "outputs": [],
   "source": [
    "def cramer(X,Y,n):\n",
    "    \n",
    "    for i in range(0,n):\n",
    "        X1 = X.copy()\n",
    "        X1[:,i] = Y\n",
    "        print(X1)\n",
    "        xx1 = np.linalg.det(X1)/np.linalg.det(X)\n",
    "        print(round(xx1)) \n",
    "    # end for\n",
    "# end func"
   ]
  },
  {
   "cell_type": "code",
   "execution_count": 27,
   "metadata": {},
   "outputs": [
    {
     "name": "stdout",
     "output_type": "stream",
     "text": [
      "[[15 -5]\n",
      " [31  1]]\n",
      "10.0\n",
      "[[ 2 15]\n",
      " [ 3 31]]\n",
      "1.0\n"
     ]
    }
   ],
   "source": [
    "A1 = np.matrix([\n",
    "    [2,-5],\n",
    "    [3,1]\n",
    "])\n",
    "\n",
    "B1 = np.matrix([\n",
    "    [15],\n",
    "    [31]\n",
    "])\n",
    "\n",
    "cramer(A1,B1,len(A1))"
   ]
  },
  {
   "cell_type": "code",
   "execution_count": 28,
   "metadata": {},
   "outputs": [
    {
     "name": "stdout",
     "output_type": "stream",
     "text": [
      "[[10  1  1]\n",
      " [18  2  3]\n",
      " [16  4  9]]\n",
      "7.0\n",
      "[[ 2 10  1]\n",
      " [ 3 18  3]\n",
      " [ 1 16  9]]\n",
      "-9.0\n",
      "[[ 2  1 10]\n",
      " [ 3  2 18]\n",
      " [ 1  4 16]]\n",
      "5.0\n"
     ]
    }
   ],
   "source": [
    "A2 = np.matrix([\n",
    "    [2,1,1],\n",
    "    [3,2,3],\n",
    "    [1,4,9]\n",
    "])\n",
    "\n",
    "B2 = np.matrix([\n",
    "    [10],\n",
    "    [18],\n",
    "    [16]\n",
    "])\n",
    "\n",
    "cramer(A2,B2,len(A2))"
   ]
  },
  {
   "cell_type": "code",
   "execution_count": 29,
   "metadata": {},
   "outputs": [
    {
     "name": "stdout",
     "output_type": "stream",
     "text": [
      "[[13  2  1  4]\n",
      " [28  0  4  3]\n",
      " [20  2  2  1]\n",
      " [ 6  1  3  2]]\n",
      "3.0\n",
      "[[ 1 13  1  4]\n",
      " [ 2 28  4  3]\n",
      " [ 4 20  2  1]\n",
      " [-3  6  3  2]]\n",
      "-1.0\n",
      "[[ 1  2 13  4]\n",
      " [ 2  0 28  3]\n",
      " [ 4  2 20  1]\n",
      " [-3  1  6  2]]\n",
      "4.0\n",
      "[[ 1  2  1 13]\n",
      " [ 2  0  4 28]\n",
      " [ 4  2  2 20]\n",
      " [-3  1  3  6]]\n",
      "2.0\n"
     ]
    }
   ],
   "source": [
    "A3 = np.matrix([\n",
    "    [1,2,1,4],\n",
    "    [2,0,4,3],\n",
    "    [4,2,2,1],\n",
    "    [-3,1,3,2]\n",
    "])\n",
    "\n",
    "B3 = np.matrix([\n",
    "    [13],\n",
    "    [28],\n",
    "    [20],\n",
    "    [6]\n",
    "])\n",
    "\n",
    "cramer(A3,B3,len(A3))"
   ]
  },
  {
   "cell_type": "code",
   "execution_count": null,
   "metadata": {},
   "outputs": [],
   "source": []
  }
 ],
 "metadata": {
  "kernelspec": {
   "display_name": "Python 3",
   "language": "python",
   "name": "python3"
  },
  "language_info": {
   "codemirror_mode": {
    "name": "ipython",
    "version": 3
   },
   "file_extension": ".py",
   "mimetype": "text/x-python",
   "name": "python",
   "nbconvert_exporter": "python",
   "pygments_lexer": "ipython3",
   "version": "3.8.3"
  }
 },
 "nbformat": 4,
 "nbformat_minor": 4
}
