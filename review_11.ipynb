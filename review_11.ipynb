{
 "cells": [
  {
   "cell_type": "code",
   "execution_count": 48,
   "metadata": {},
   "outputs": [],
   "source": [
    "import matplotlib.pyplot as plt\n",
    "import numpy as np"
   ]
  },
  {
   "cell_type": "code",
   "execution_count": 49,
   "metadata": {},
   "outputs": [],
   "source": [
    "def f(t):\n",
    "    return 10+(60*t)+((1/2)*-9.8*(t**2))"
   ]
  },
  {
   "cell_type": "code",
   "execution_count": 58,
   "metadata": {},
   "outputs": [],
   "source": [
    "x = np.arange(0,13.5,0.1)\n",
    "y = f(x)"
   ]
  },
  {
   "cell_type": "code",
   "execution_count": 59,
   "metadata": {},
   "outputs": [
    {
     "data": {
      "image/png": "[encoded data removed]",
      "text/plain": [
       "<Figure size 432x288 with 1 Axes>"
      ]
     },
     "metadata": {
      "needs_background": "light"
     },
     "output_type": "display_data"
    }
   ],
   "source": [
    "plt.plot(x,y)\n",
    "plt.grid()\n",
    "plt.show()"
   ]
  },
  {
   "cell_type": "code",
   "execution_count": 94,
   "metadata": {},
   "outputs": [],
   "source": [
    "def bisection(l, u):\n",
    "    xl = l\n",
    "    xu = u\n",
    "    xr = 0\n",
    "    es = 0.5*pow(10, 2-4)\n",
    "    prev_xr = 0\n",
    "    ea = 100\n",
    "    while ea > es:\n",
    "        mid = (xl+xu)/2\n",
    "        if f(xl)*f(mid) < 0:\n",
    "            xu = mid\n",
    "        else:\n",
    "            xl = mid\n",
    "        xr = (xl+xu)/2\n",
    "        # print('found root in ({},{}) = {}'.format(xl, xu, xr))\n",
    "           \n",
    "        ea = abs((xr-prev_xr)/xr) * 100\n",
    "        prev_xr = xr\n",
    "        # print('approxmate error =',ea)\n",
    "    print('found root in [{},{}] xr = {}'.format(xl, xu, xr))\n",
    "    print('approxmate error =',ea)\n",
    "    return xr"
   ]
  },
  {
   "cell_type": "code",
   "execution_count": 95,
   "metadata": {},
   "outputs": [
    {
     "name": "stdout",
     "output_type": "stream",
     "text": [
      "found root in [12.4091796875,12.41015625] xr = 12.40966796875\n",
      "approxmate error = 0.003934684241589613\n"
     ]
    }
   ],
   "source": [
    "hit_ground = bisection(12,14)\n",
    "# 12 กับ 14 มาจากการดูกราฟช่วงนี้ กราฟตัดแกน x ที่ y=0"
   ]
  },
  {
   "cell_type": "code",
   "execution_count": 96,
   "metadata": {},
   "outputs": [],
   "source": [
    "def parabolic_max(f,x1,x2,x3,p):\n",
    "    es = 0.5*(10**(2-p))\n",
    "    ea = 100\n",
    "    prev_xmax = x2\n",
    "    i = 1\n",
    "    while(ea>es):\n",
    "        alpha1 = (x2-x1)*(x2-x1)*(f(x2)-f(x3))\n",
    "        alpha2 = (x2-x3)*(x2-x3)*(f(x2)-f(x1))\n",
    "        beta1 = (x2-x1)*(f(x2)-f(x3))\n",
    "        beta2 = (x2-x3)*(f(x2)-f(x1))\n",
    "        gamma = (alpha1 - alpha2)/(beta1 - beta2)\n",
    "        x4 = x2 - (0.5 * gamma)\n",
    "       \n",
    "        if(x4<2):\n",
    "            #[x1,x2,x3] = [x1,x4,x2]\n",
    "            x3 = x2\n",
    "            x2 = x4\n",
    "            xmax = x4\n",
    "        else:\n",
    "            #[x1,x2,x3] = [x2,x4,x3]\n",
    "            x1 = x2\n",
    "            x2 = x4\n",
    "            xmax = x4\n",
    "        #end if\n",
    "        ea = abs((xmax - prev_xmax)/xmax) * 100\n",
    "        print('Iteration #{}: [x1,x2,x3] = [{},{},{}] , xmax = {} , ea = {}'.format(i,x1,x2,x3,xmax,ea))\n",
    "        prev_xmax = xmax\n",
    "        i +=1\n",
    "    #end while\n",
    "    return xmax\n",
    "#end function"
   ]
  },
  {
   "cell_type": "code",
   "execution_count": 97,
   "metadata": {},
   "outputs": [
    {
     "name": "stdout",
     "output_type": "stream",
     "text": [
      "Iteration #1: [x1,x2,x3] = [6,6.122448979591836,12] , xmax = 6.122448979591836 , ea = 1.9999999999999951\n",
      "Iteration #2: [x1,x2,x3] = [6.122448979591836,6.122448979591832,12] , xmax = 6.122448979591832 , ea = 7.253457094217695e-14\n"
     ]
    }
   ],
   "source": [
    "xmax = parabolic_max(f,0,6,12,5)"
   ]
  },
  {
   "cell_type": "code",
   "execution_count": 98,
   "metadata": {},
   "outputs": [
    {
     "data": {
      "text/plain": [
       "193.67346938775506"
      ]
     },
     "execution_count": 98,
     "metadata": {},
     "output_type": "execute_result"
    }
   ],
   "source": [
    "f(xmax) # บอลขึ้นได้สูงสุด 193.67 m"
   ]
  },
  {
   "cell_type": "code",
   "execution_count": 99,
   "metadata": {},
   "outputs": [
    {
     "data": {
      "text/plain": [
       "12.40966796875"
      ]
     },
     "execution_count": 99,
     "metadata": {},
     "output_type": "execute_result"
    }
   ],
   "source": [
    "hit_ground # บอลจะตกถึงพื้นเมื่อ t=12.40966..."
   ]
  },
  {
   "cell_type": "code",
   "execution_count": null,
   "metadata": {},
   "outputs": [],
   "source": []
  }
 ],
 "metadata": {
  "kernelspec": {
   "display_name": "Python 3",
   "language": "python",
   "name": "python3"
  },
  "language_info": {
   "codemirror_mode": {
    "name": "ipython",
    "version": 3
   },
   "file_extension": ".py",
   "mimetype": "text/x-python",
   "name": "python",
   "nbconvert_exporter": "python",
   "pygments_lexer": "ipython3",
   "version": "3.8.3"
  }
 },
 "nbformat": 4,
 "nbformat_minor": 4
}
