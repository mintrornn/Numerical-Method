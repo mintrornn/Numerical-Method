{
 "cells": [
  {
   "cell_type": "code",
   "execution_count": 30,
   "metadata": {},
   "outputs": [],
   "source": [
    "import numpy as np\n",
    "def f(x):\n",
    "    return x**3 - 6*(x**2) + 4*x + 12"
   ]
  },
  {
   "cell_type": "code",
   "execution_count": 31,
   "metadata": {},
   "outputs": [
    {
     "name": "stdout",
     "output_type": "stream",
     "text": [
      "There is a root inside [4.53407,4.534079999999999], xr = 4.534075\n",
      "The approximate error = 0.0005513803807820059\n"
     ]
    }
   ],
   "source": [
    "#Task3.1\n",
    "\n",
    "def interval_search(L,U,N):\n",
    "    zr = 0 \n",
    "    p = 4\n",
    "    es = 0.5*(10**(2-p))\n",
    "    ea = 100\n",
    "    prev_xr = 0 \n",
    "    \n",
    "    while (ea > es):\n",
    "        x = np.linspace(L, U, N)\n",
    "        for i in range(0, N-1):\n",
    "            if (f(x[i]) * f(x[i+1]) < 0):\n",
    "                xr = (x[i]+x[i+1])/2\n",
    "                L = x[i]\n",
    "                U = x[i+1]\n",
    "                break;\n",
    "        ea = abs((xr-prev_xr)/xr) * 100\n",
    "        prev_xr = xr\n",
    "    print('There is a root inside [{},{}], xr = {}'.format(x[i],x[i+1],xr))\n",
    "    print('The approximate error = {}'.format(ea))\n",
    "interval_search(4, 5, 11)"
   ]
  },
  {
   "cell_type": "code",
   "execution_count": 32,
   "metadata": {},
   "outputs": [
    {
     "name": "stdout",
     "output_type": "stream",
     "text": [
      "New interval = [4.5340576171875,4.5341796875], xr = 4.5340576171875\n",
      "The approximate error = 0.0026922973373179333\n"
     ]
    }
   ],
   "source": [
    "#Task3.2\n",
    "\n",
    "def bisection(xl,xu):\n",
    "    p = 4\n",
    "    es = 0.5*(10**(2-p))\n",
    "    ea = 100\n",
    "    xr = 0\n",
    "    prev_xr = 0\n",
    "\n",
    "    while (ea > es):\n",
    "        xr = (xl + xu)/2\n",
    "        if (f(xl) * f(xr) > 0):\n",
    "            xl = xr\n",
    "            ea = abs((xr-prev_xr) / xr) * 100\n",
    "            prev_xr = xr\n",
    "        else:\n",
    "            xu = xr\n",
    "    print('New interval = [{},{}], xr = {}'.format(xl,xu,xr))\n",
    "    print('The approximate error = {}'.format(ea))\n",
    "bisection(4, 5)\n"
   ]
  },
  {
   "cell_type": "code",
   "execution_count": 33,
   "metadata": {},
   "outputs": [
    {
     "name": "stdout",
     "output_type": "stream",
     "text": [
      "New interval = [4.534024061548123,5], xr = 4.534024061548123\n",
      "The approximate error = 0.003048762366849576\n"
     ]
    }
   ],
   "source": [
    "#Task3.3\n",
    "\n",
    "def false_position(xl, xu):\n",
    "    p = 4\n",
    "    es = 0.5*(10**(2-p))\n",
    "    ea = 100\n",
    "    xr = 0\n",
    "    prev_xr = 0\n",
    "    \n",
    "    while (ea > es):\n",
    "        xr = xu - f(xu) * (xu-xl) / (f(xu) - f(xl))\n",
    "        if (f(xl) * f(xr) > 0):\n",
    "            xl = xr\n",
    "            ea = abs((xr-prev_xr) / xr) * 100\n",
    "            prev_xr = xr\n",
    "        else:\n",
    "            xu = xr\n",
    "    print('New interval = [{},{}], xr = {}'.format(xl,xu,xr))\n",
    "    print('The approximate error = {}'.format(ea))\n",
    "false_position(4, 5)"
   ]
  },
  {
   "cell_type": "code",
   "execution_count": null,
   "metadata": {},
   "outputs": [],
   "source": []
  }
 ],
 "metadata": {
  "kernelspec": {
   "display_name": "Python 3",
   "language": "python",
   "name": "python3"
  },
  "language_info": {
   "codemirror_mode": {
    "name": "ipython",
    "version": 3
   },
   "file_extension": ".py",
   "mimetype": "text/x-python",
   "name": "python",
   "nbconvert_exporter": "python",
   "pygments_lexer": "ipython3",
   "version": "3.8.3"
  }
 },
 "nbformat": 4,
 "nbformat_minor": 4
}
