{
 "cells": [
  {
   "cell_type": "code",
   "execution_count": 1,
   "metadata": {},
   "outputs": [],
   "source": [
    "import numpy as np\n",
    "import math"
   ]
  },
  {
   "cell_type": "code",
   "execution_count": 2,
   "metadata": {},
   "outputs": [],
   "source": [
    "A = np.matrix([\n",
    "    [2,1,1],\n",
    "    [3,2,3],\n",
    "    [1,4,9]\n",
    "])\n",
    "\n",
    "b = np.matrix([\n",
    "    [10],\n",
    "    [18],\n",
    "    [16]\n",
    "]) "
   ]
  },
  {
   "cell_type": "code",
   "execution_count": 3,
   "metadata": {},
   "outputs": [
    {
     "name": "stdout",
     "output_type": "stream",
     "text": [
      "[[2 1 1]\n",
      " [3 2 3]\n",
      " [1 4 9]]\n"
     ]
    }
   ],
   "source": [
    "print(A)"
   ]
  },
  {
   "cell_type": "code",
   "execution_count": 4,
   "metadata": {},
   "outputs": [
    {
     "name": "stdout",
     "output_type": "stream",
     "text": [
      "[[10]\n",
      " [18]\n",
      " [16]]\n"
     ]
    }
   ],
   "source": [
    "print(b)"
   ]
  },
  {
   "cell_type": "code",
   "execution_count": 5,
   "metadata": {},
   "outputs": [],
   "source": [
    "A = np.matrix([\n",
    "    [4,-2,1],\n",
    "    [1,1,1],\n",
    "    [9,3,1]\n",
    "])\n",
    "\n",
    "b = np.matrix([\n",
    "    [8],\n",
    "    [-13],\n",
    "    [3]\n",
    "]) "
   ]
  },
  {
   "cell_type": "code",
   "execution_count": 6,
   "metadata": {},
   "outputs": [
    {
     "name": "stdout",
     "output_type": "stream",
     "text": [
      "[[ 4 -2  1]\n",
      " [ 1  1  1]\n",
      " [ 9  3  1]]\n"
     ]
    }
   ],
   "source": [
    "print(A)"
   ]
  },
  {
   "cell_type": "code",
   "execution_count": 7,
   "metadata": {},
   "outputs": [
    {
     "name": "stdout",
     "output_type": "stream",
     "text": [
      "[[  8]\n",
      " [-13]\n",
      " [  3]]\n"
     ]
    }
   ],
   "source": [
    "print(b)"
   ]
  },
  {
   "cell_type": "code",
   "execution_count": 8,
   "metadata": {},
   "outputs": [
    {
     "name": "stdout",
     "output_type": "stream",
     "text": [
      "[[  4  -2   1   8]\n",
      " [  1   1   1 -13]\n",
      " [  9   3   1   3]]\n"
     ]
    }
   ],
   "source": [
    "Ab = np.append(A,b,axis=1)\n",
    "print(Ab)"
   ]
  },
  {
   "cell_type": "code",
   "execution_count": 9,
   "metadata": {},
   "outputs": [
    {
     "data": {
      "text/plain": [
       "matrix([[  1,   1,   1, -13]])"
      ]
     },
     "execution_count": 9,
     "metadata": {},
     "output_type": "execute_result"
    }
   ],
   "source": [
    "Ab[1,:]"
   ]
  },
  {
   "cell_type": "code",
   "execution_count": 10,
   "metadata": {},
   "outputs": [
    {
     "data": {
      "text/plain": [
       "matrix([[ 4, -2,  1,  8]])"
      ]
     },
     "execution_count": 10,
     "metadata": {},
     "output_type": "execute_result"
    }
   ],
   "source": [
    "Ab[0,:]"
   ]
  },
  {
   "cell_type": "code",
   "execution_count": 11,
   "metadata": {},
   "outputs": [
    {
     "data": {
      "text/plain": [
       "matrix([[-2]])"
      ]
     },
     "execution_count": 11,
     "metadata": {},
     "output_type": "execute_result"
    }
   ],
   "source": [
    "Ab[0,1:2]"
   ]
  },
  {
   "cell_type": "code",
   "execution_count": 12,
   "metadata": {},
   "outputs": [
    {
     "data": {
      "text/plain": [
       "matrix([[-2,  1]])"
      ]
     },
     "execution_count": 12,
     "metadata": {},
     "output_type": "execute_result"
    }
   ],
   "source": [
    "Ab[0,1:3]"
   ]
  },
  {
   "cell_type": "code",
   "execution_count": 13,
   "metadata": {},
   "outputs": [
    {
     "data": {
      "text/plain": [
       "matrix([[  4,  -2,   1,   8],\n",
       "        [  1,   1,   1, -13],\n",
       "        [  9,   3,   1,   3]])"
      ]
     },
     "execution_count": 13,
     "metadata": {},
     "output_type": "execute_result"
    }
   ],
   "source": [
    "Ab[0:]"
   ]
  },
  {
   "cell_type": "code",
   "execution_count": 14,
   "metadata": {},
   "outputs": [
    {
     "data": {
      "text/plain": [
       "matrix([[ 4, -2,  1,  8]])"
      ]
     },
     "execution_count": 14,
     "metadata": {},
     "output_type": "execute_result"
    }
   ],
   "source": [
    "Ab[0,:]"
   ]
  },
  {
   "cell_type": "code",
   "execution_count": 15,
   "metadata": {},
   "outputs": [
    {
     "data": {
      "text/plain": [
       "matrix([[  1,   1,   1, -13]])"
      ]
     },
     "execution_count": 15,
     "metadata": {},
     "output_type": "execute_result"
    }
   ],
   "source": [
    "Ab[1,:]"
   ]
  },
  {
   "cell_type": "code",
   "execution_count": 16,
   "metadata": {},
   "outputs": [],
   "source": [
    "Ab[1,:] = Ab[0,:] - Ab[1,:]"
   ]
  },
  {
   "cell_type": "code",
   "execution_count": 17,
   "metadata": {},
   "outputs": [
    {
     "data": {
      "text/plain": [
       "matrix([[ 4, -2,  1,  8],\n",
       "        [ 3, -3,  0, 21],\n",
       "        [ 9,  3,  1,  3]])"
      ]
     },
     "execution_count": 17,
     "metadata": {},
     "output_type": "execute_result"
    }
   ],
   "source": [
    "Ab"
   ]
  },
  {
   "cell_type": "code",
   "execution_count": 18,
   "metadata": {},
   "outputs": [],
   "source": [
    "Ab[1,:] = Ab[1,:]/3"
   ]
  },
  {
   "cell_type": "code",
   "execution_count": 19,
   "metadata": {},
   "outputs": [
    {
     "data": {
      "text/plain": [
       "matrix([[ 4, -2,  1,  8],\n",
       "        [ 1, -1,  0,  7],\n",
       "        [ 9,  3,  1,  3]])"
      ]
     },
     "execution_count": 19,
     "metadata": {},
     "output_type": "execute_result"
    }
   ],
   "source": [
    "Ab"
   ]
  },
  {
   "cell_type": "code",
   "execution_count": 20,
   "metadata": {},
   "outputs": [],
   "source": [
    "Ab[2,:] = Ab[2,:] - Ab[0,:]"
   ]
  },
  {
   "cell_type": "code",
   "execution_count": 21,
   "metadata": {},
   "outputs": [
    {
     "data": {
      "text/plain": [
       "matrix([[ 4, -2,  1,  8],\n",
       "        [ 1, -1,  0,  7],\n",
       "        [ 5,  5,  0, -5]])"
      ]
     },
     "execution_count": 21,
     "metadata": {},
     "output_type": "execute_result"
    }
   ],
   "source": [
    "Ab"
   ]
  },
  {
   "cell_type": "code",
   "execution_count": 22,
   "metadata": {},
   "outputs": [],
   "source": [
    "Ab[2,:] = Ab[2,:]/5"
   ]
  },
  {
   "cell_type": "code",
   "execution_count": 23,
   "metadata": {},
   "outputs": [
    {
     "data": {
      "text/plain": [
       "matrix([[ 4, -2,  1,  8],\n",
       "        [ 1, -1,  0,  7],\n",
       "        [ 1,  1,  0, -1]])"
      ]
     },
     "execution_count": 23,
     "metadata": {},
     "output_type": "execute_result"
    }
   ],
   "source": [
    "Ab"
   ]
  },
  {
   "cell_type": "code",
   "execution_count": 24,
   "metadata": {},
   "outputs": [],
   "source": [
    "Ab[2,:] = Ab[2,:] + Ab[1,:]"
   ]
  },
  {
   "cell_type": "code",
   "execution_count": 25,
   "metadata": {},
   "outputs": [
    {
     "data": {
      "text/plain": [
       "matrix([[ 4, -2,  1,  8],\n",
       "        [ 1, -1,  0,  7],\n",
       "        [ 2,  0,  0,  6]])"
      ]
     },
     "execution_count": 25,
     "metadata": {},
     "output_type": "execute_result"
    }
   ],
   "source": [
    "Ab"
   ]
  },
  {
   "cell_type": "code",
   "execution_count": 26,
   "metadata": {},
   "outputs": [
    {
     "data": {
      "text/plain": [
       "matrix([[ 4, -2,  1,  8],\n",
       "        [ 1, -1,  0,  7],\n",
       "        [ 1,  0,  0,  3]])"
      ]
     },
     "execution_count": 26,
     "metadata": {},
     "output_type": "execute_result"
    }
   ],
   "source": [
    "Ab[2,:] = Ab[2,:]/2\n",
    "Ab"
   ]
  },
  {
   "cell_type": "code",
   "execution_count": 27,
   "metadata": {},
   "outputs": [
    {
     "data": {
      "text/plain": [
       "matrix([[ 4, -2,  1,  8],\n",
       "        [ 0,  1,  0, -4],\n",
       "        [ 1,  0,  0,  3]])"
      ]
     },
     "execution_count": 27,
     "metadata": {},
     "output_type": "execute_result"
    }
   ],
   "source": [
    "Ab[1,:] = Ab[2,:] - Ab[1,:]\n",
    "Ab"
   ]
  },
  {
   "cell_type": "code",
   "execution_count": 29,
   "metadata": {},
   "outputs": [
    {
     "data": {
      "text/plain": [
       "matrix([[  0,   0,   1, -12],\n",
       "        [  0,   1,   0,  -4],\n",
       "        [  1,   0,   0,   3]])"
      ]
     },
     "execution_count": 29,
     "metadata": {},
     "output_type": "execute_result"
    }
   ],
   "source": [
    "Ab[0,:] = Ab[0,:] - (4*Ab[2,:]) + (2*Ab[1,:])\n",
    "Ab"
   ]
  },
  {
   "cell_type": "code",
   "execution_count": 35,
   "metadata": {},
   "outputs": [
    {
     "data": {
      "text/plain": [
       "matrix([[  0,   0,   1, -12],\n",
       "        [  0,   1,   0,  -4],\n",
       "        [  1,   0,   0,   3]])"
      ]
     },
     "execution_count": 35,
     "metadata": {},
     "output_type": "execute_result"
    }
   ],
   "source": [
    "Ab = np.matrix([\n",
    "        [  0,   0,   1, -12],\n",
    "        [  0,   1,   0,  -4],\n",
    "        [  1,   0,   0,   3]\n",
    "])\n",
    "Ab"
   ]
  },
  {
   "cell_type": "code",
   "execution_count": 36,
   "metadata": {},
   "outputs": [
    {
     "data": {
      "text/plain": [
       "matrix([[  1,   0,   0,   3],\n",
       "        [  0,   1,   0,  -4],\n",
       "        [  0,   0,   1, -12]])"
      ]
     },
     "execution_count": 36,
     "metadata": {},
     "output_type": "execute_result"
    }
   ],
   "source": [
    "temp = Ab[2,:].copy()\n",
    "Ab[2,:] = Ab[0,:]\n",
    "Ab[0,:] = temp\n",
    "Ab"
   ]
  },
  {
   "cell_type": "code",
   "execution_count": 38,
   "metadata": {},
   "outputs": [],
   "source": [
    "A = np.matrix([\n",
    "    [4,-2,1],\n",
    "    [1,1,1],\n",
    "    [9,3,1]\n",
    "])\n",
    "\n",
    "b = np.matrix([\n",
    "    [8],\n",
    "    [-13],\n",
    "    [3]\n",
    "])"
   ]
  },
  {
   "cell_type": "code",
   "execution_count": 39,
   "metadata": {},
   "outputs": [
    {
     "data": {
      "text/plain": [
       "matrix([[ 4, -2,  1],\n",
       "        [ 1,  1,  1],\n",
       "        [ 9,  3,  1]])"
      ]
     },
     "execution_count": 39,
     "metadata": {},
     "output_type": "execute_result"
    }
   ],
   "source": [
    "A"
   ]
  },
  {
   "cell_type": "code",
   "execution_count": 40,
   "metadata": {},
   "outputs": [
    {
     "data": {
      "text/plain": [
       "matrix([[  8],\n",
       "        [-13],\n",
       "        [  3]])"
      ]
     },
     "execution_count": 40,
     "metadata": {},
     "output_type": "execute_result"
    }
   ],
   "source": [
    "b"
   ]
  },
  {
   "cell_type": "code",
   "execution_count": 41,
   "metadata": {},
   "outputs": [],
   "source": [
    "# x = inverse(A)*b\n",
    "inv_A = np.linalg.inv(A)"
   ]
  },
  {
   "cell_type": "code",
   "execution_count": 42,
   "metadata": {},
   "outputs": [
    {
     "data": {
      "text/plain": [
       "matrix([[ 0.06666667, -0.16666667,  0.1       ],\n",
       "        [-0.26666667,  0.16666667,  0.1       ],\n",
       "        [ 0.2       ,  1.        , -0.2       ]])"
      ]
     },
     "execution_count": 42,
     "metadata": {},
     "output_type": "execute_result"
    }
   ],
   "source": [
    "inv_A"
   ]
  },
  {
   "cell_type": "code",
   "execution_count": 43,
   "metadata": {},
   "outputs": [
    {
     "name": "stdout",
     "output_type": "stream",
     "text": [
      "[[ 1.00000000e+00  0.00000000e+00 -1.11022302e-16]\n",
      " [ 0.00000000e+00  1.00000000e+00 -2.77555756e-17]\n",
      " [-2.77555756e-17  0.00000000e+00  1.00000000e+00]]\n"
     ]
    }
   ],
   "source": [
    "t1 = np.dot(A,inv_A)\n",
    "print(t1)"
   ]
  },
  {
   "cell_type": "code",
   "execution_count": 45,
   "metadata": {},
   "outputs": [
    {
     "name": "stdout",
     "output_type": "stream",
     "text": [
      "[[ 1.00000000e+00 -1.11022302e-16  0.00000000e+00]\n",
      " [-8.32667268e-17  1.00000000e+00 -2.77555756e-17]\n",
      " [ 1.66533454e-16 -1.66533454e-16  1.00000000e+00]]\n"
     ]
    }
   ],
   "source": [
    "t2 = np.dot(inv_A,A)\n",
    "print(t2)"
   ]
  },
  {
   "cell_type": "code",
   "execution_count": 46,
   "metadata": {},
   "outputs": [
    {
     "data": {
      "text/plain": [
       "matrix([[  3.],\n",
       "        [ -4.],\n",
       "        [-12.]])"
      ]
     },
     "execution_count": 46,
     "metadata": {},
     "output_type": "execute_result"
    }
   ],
   "source": [
    "# Inverse matrix method\n",
    "x = np.dot(inv_A,b)\n",
    "x"
   ]
  },
  {
   "cell_type": "code",
   "execution_count": 47,
   "metadata": {},
   "outputs": [
    {
     "data": {
      "text/plain": [
       "matrix([[ 4, -2,  1],\n",
       "        [ 1,  1,  1],\n",
       "        [ 9,  3,  1]])"
      ]
     },
     "execution_count": 47,
     "metadata": {},
     "output_type": "execute_result"
    }
   ],
   "source": [
    "A"
   ]
  },
  {
   "cell_type": "code",
   "execution_count": 48,
   "metadata": {},
   "outputs": [
    {
     "data": {
      "text/plain": [
       "matrix([[ 4, -2,  1],\n",
       "        [ 1,  1,  1],\n",
       "        [ 9,  3,  1]])"
      ]
     },
     "execution_count": 48,
     "metadata": {},
     "output_type": "execute_result"
    }
   ],
   "source": [
    "Ax1 = A.copy()\n",
    "Ax1"
   ]
  },
  {
   "cell_type": "code",
   "execution_count": 49,
   "metadata": {},
   "outputs": [
    {
     "data": {
      "text/plain": [
       "matrix([[  8,  -2,   1],\n",
       "        [-13,   1,   1],\n",
       "        [  3,   3,   1]])"
      ]
     },
     "execution_count": 49,
     "metadata": {},
     "output_type": "execute_result"
    }
   ],
   "source": [
    "Ax1[:,0] = b\n",
    "Ax1"
   ]
  },
  {
   "cell_type": "code",
   "execution_count": 50,
   "metadata": {},
   "outputs": [
    {
     "name": "stdout",
     "output_type": "stream",
     "text": [
      "2.9999999999999996\n"
     ]
    }
   ],
   "source": [
    "# Cramer's Rule\n",
    "\n",
    "x1 = np.linalg.det(Ax1)/np.linalg.det(A)\n",
    "print(x1)"
   ]
  },
  {
   "cell_type": "code",
   "execution_count": 51,
   "metadata": {},
   "outputs": [
    {
     "name": "stdout",
     "output_type": "stream",
     "text": [
      "-4.000000000000003\n"
     ]
    }
   ],
   "source": [
    "Ax2 = A.copy()\n",
    "Ax2[:,1] = b\n",
    "x2 = np.linalg.det(Ax2)/np.linalg.det(A)\n",
    "print(x2)"
   ]
  },
  {
   "cell_type": "code",
   "execution_count": 52,
   "metadata": {},
   "outputs": [
    {
     "name": "stdout",
     "output_type": "stream",
     "text": [
      "-12.0\n"
     ]
    }
   ],
   "source": [
    "Ax3 = A.copy()\n",
    "Ax3[:,2] = b\n",
    "x3 = np.linalg.det(Ax3)/np.linalg.det(A)\n",
    "print(x3)"
   ]
  },
  {
   "cell_type": "code",
   "execution_count": 69,
   "metadata": {},
   "outputs": [],
   "source": [
    "A = np.matrix([\n",
    "    [4.0,-2.0,1.0],\n",
    "    [1.0,1.0,1.0],\n",
    "    [9.0,3.0,1.0]\n",
    "])\n",
    "\n",
    "b = np.matrix([\n",
    "    [8.0],\n",
    "    [-13.0],\n",
    "    [3.0]\n",
    "])"
   ]
  },
  {
   "cell_type": "code",
   "execution_count": 70,
   "metadata": {},
   "outputs": [
    {
     "name": "stdout",
     "output_type": "stream",
     "text": [
      "[[  4.  -2.   1.   8.]\n",
      " [  1.   1.   1. -13.]\n",
      " [  9.   3.   1.   3.]]\n"
     ]
    }
   ],
   "source": [
    "Ab = np.append(A,b,axis=1)\n",
    "print(Ab)"
   ]
  },
  {
   "cell_type": "code",
   "execution_count": 71,
   "metadata": {},
   "outputs": [],
   "source": [
    "def fwd_elim_v1(Ab):\n",
    "    Abx = Ab.copy()\n",
    "    [nr, nc] = Abx.shape\n",
    "    \n",
    "    # step 1: eliminate the 1st terms of row index 1:N-1\n",
    "    for r in range(1,nr):\n",
    "        row_factor = Abx[r,0]/Abx[0,0]\n",
    "        Abx[r,:] = Abx[r,:] - (Abx[0,:]*row_factor)\n",
    "    #end for\n",
    "    \n",
    "    print(Abx)\n",
    "#end function\n",
    "    "
   ]
  },
  {
   "cell_type": "code",
   "execution_count": 72,
   "metadata": {},
   "outputs": [
    {
     "name": "stdout",
     "output_type": "stream",
     "text": [
      "[[  4.    -2.     1.     8.  ]\n",
      " [  0.     1.5    0.75 -15.  ]\n",
      " [  0.     7.5   -1.25 -15.  ]]\n"
     ]
    }
   ],
   "source": [
    "fwd_elim_v1(Ab)"
   ]
  },
  {
   "cell_type": "code",
   "execution_count": 79,
   "metadata": {},
   "outputs": [],
   "source": [
    "def fwd_elim_v2(Ab):\n",
    "    Abx = Ab.copy()\n",
    "    [nr, nc] = Abx.shape\n",
    "    \n",
    "    # step 1: eliminate the 1st terms of row index 1:N-1\n",
    "    for r in range(1,nr):\n",
    "        row_factor = Abx[r,0]/Abx[0,0]\n",
    "        Abx[r,:] = Abx[r,:] - (Abx[0,:]*row_factor)\n",
    "    #end for\n",
    "    \n",
    "    # step 2: eliminate the 2nd terms of row index 2:N-1\n",
    "    for r in range(2,nr):\n",
    "        row_factor = Abx[r,1]/Abx[1,1]\n",
    "        Abx[r,:] = Abx[r,:] - (Abx[1,:]*row_factor)\n",
    "    #end for\n",
    "    \n",
    "    print(Abx)\n",
    "    return Abx\n",
    "#end function"
   ]
  },
  {
   "cell_type": "code",
   "execution_count": 74,
   "metadata": {},
   "outputs": [
    {
     "name": "stdout",
     "output_type": "stream",
     "text": [
      "[[  4.    -2.     1.     8.  ]\n",
      " [  0.     1.5    0.75 -15.  ]\n",
      " [  0.     0.    -5.    60.  ]]\n"
     ]
    }
   ],
   "source": [
    "fwd_elim_v2(Ab)"
   ]
  },
  {
   "cell_type": "code",
   "execution_count": 83,
   "metadata": {},
   "outputs": [],
   "source": [
    "def back_sub_v1(Ab_re):\n",
    "    Abx = Ab_re.copy()\n",
    "    [nr, nc] = Abx.shape\n",
    "    \n",
    "    x = np.zeros(3)\n",
    "    \n",
    "    x[2] = Abx[nr-1,nc-1]/Abx[nr-1,nc-2]\n",
    "    print(x[2])\n",
    "    \n",
    "#end function\n",
    "    "
   ]
  },
  {
   "cell_type": "code",
   "execution_count": 76,
   "metadata": {},
   "outputs": [
    {
     "data": {
      "text/plain": [
       "array([0., 0., 0.])"
      ]
     },
     "execution_count": 76,
     "metadata": {},
     "output_type": "execute_result"
    }
   ],
   "source": [
    "x = np.zeros(3)\n",
    "x"
   ]
  },
  {
   "cell_type": "code",
   "execution_count": 78,
   "metadata": {},
   "outputs": [
    {
     "data": {
      "text/plain": [
       "matrix([[  4.,  -2.,   1.,   8.],\n",
       "        [  1.,   1.,   1., -13.],\n",
       "        [  9.,   3.,   1.,   3.]])"
      ]
     },
     "execution_count": 78,
     "metadata": {},
     "output_type": "execute_result"
    }
   ],
   "source": [
    "Ab"
   ]
  },
  {
   "cell_type": "code",
   "execution_count": 80,
   "metadata": {},
   "outputs": [
    {
     "name": "stdout",
     "output_type": "stream",
     "text": [
      "[[  4.    -2.     1.     8.  ]\n",
      " [  0.     1.5    0.75 -15.  ]\n",
      " [  0.     0.    -5.    60.  ]]\n"
     ]
    }
   ],
   "source": [
    "Ab_re = fwd_elim_v2(Ab)"
   ]
  },
  {
   "cell_type": "code",
   "execution_count": 81,
   "metadata": {},
   "outputs": [
    {
     "data": {
      "text/plain": [
       "matrix([[  4.  ,  -2.  ,   1.  ,   8.  ],\n",
       "        [  0.  ,   1.5 ,   0.75, -15.  ],\n",
       "        [  0.  ,   0.  ,  -5.  ,  60.  ]])"
      ]
     },
     "execution_count": 81,
     "metadata": {},
     "output_type": "execute_result"
    }
   ],
   "source": [
    "Ab_re"
   ]
  },
  {
   "cell_type": "code",
   "execution_count": 82,
   "metadata": {},
   "outputs": [
    {
     "name": "stdout",
     "output_type": "stream",
     "text": [
      "-12.0\n"
     ]
    }
   ],
   "source": [
    "back_sub_v1(Ab_re)"
   ]
  },
  {
   "cell_type": "code",
   "execution_count": 84,
   "metadata": {},
   "outputs": [],
   "source": [
    "def back_sub_v2(Ab_re):\n",
    "    Abx = Ab_re.copy()\n",
    "    [nr, nc] = Abx.shape\n",
    "    \n",
    "    x = np.zeros(3)\n",
    "    \n",
    "    # Step 1: Find x[2]\n",
    "    x[2] = Abx[nr-1,nc-1]/Abx[nr-1,nc-2]\n",
    "    print(x[2])\n",
    "    \n",
    "    # Step 2: Find x[1]\n",
    "    x[1] = (Abx[nr-2,nc-1] - Abx[nr-2,nc-2]*x[2])/Abx[nr-2,nc-3]\n",
    "    print(x[1])\n",
    "    \n",
    "#end function"
   ]
  },
  {
   "cell_type": "code",
   "execution_count": 85,
   "metadata": {},
   "outputs": [
    {
     "name": "stdout",
     "output_type": "stream",
     "text": [
      "-12.0\n",
      "-4.0\n"
     ]
    }
   ],
   "source": [
    "back_sub_v2(Ab_re)"
   ]
  },
  {
   "cell_type": "code",
   "execution_count": 86,
   "metadata": {},
   "outputs": [
    {
     "data": {
      "text/plain": [
       "matrix([[  4.  ,  -2.  ,   1.  ,   8.  ],\n",
       "        [  0.  ,   1.5 ,   0.75, -15.  ],\n",
       "        [  0.  ,   0.  ,  -5.  ,  60.  ]])"
      ]
     },
     "execution_count": 86,
     "metadata": {},
     "output_type": "execute_result"
    }
   ],
   "source": [
    "Ab_re"
   ]
  },
  {
   "cell_type": "code",
   "execution_count": 87,
   "metadata": {},
   "outputs": [],
   "source": [
    "def back_sub_v3(Ab_re):\n",
    "    Abx = Ab_re.copy()\n",
    "    [nr, nc] = Abx.shape\n",
    "    \n",
    "    x = np.zeros(3)\n",
    "    \n",
    "    # Step 1: Find x[2]\n",
    "    x[2] = Abx[nr-1,nc-1]/Abx[nr-1,nc-2]\n",
    "    print(x[2])\n",
    "    \n",
    "    # Step 2: Find x[1]\n",
    "    x[1] = (Abx[nr-2,nc-1] - Abx[nr-2,nc-2]*x[2])/Abx[nr-2,nc-3]\n",
    "    print(x[1])\n",
    "    \n",
    "    # Step 3: Fix x[0]\n",
    "    x[0] = (Abx[nr-3,nc-1] - Abx[nr-3,nc-2]*x[2] - Abx[nr-3,nc-3]*x[1])/Abx[nr-3,nc-4]\n",
    "    print(x[0])\n",
    "    \n",
    "#end function"
   ]
  },
  {
   "cell_type": "code",
   "execution_count": 88,
   "metadata": {},
   "outputs": [
    {
     "name": "stdout",
     "output_type": "stream",
     "text": [
      "-12.0\n",
      "-4.0\n",
      "3.0\n"
     ]
    }
   ],
   "source": [
    "back_sub_v3(Ab_re)"
   ]
  },
  {
   "cell_type": "code",
   "execution_count": null,
   "metadata": {},
   "outputs": [],
   "source": []
  }
 ],
 "metadata": {
  "kernelspec": {
   "display_name": "Python 3",
   "language": "python",
   "name": "python3"
  },
  "language_info": {
   "codemirror_mode": {
    "name": "ipython",
    "version": 3
   },
   "file_extension": ".py",
   "mimetype": "text/x-python",
   "name": "python",
   "nbconvert_exporter": "python",
   "pygments_lexer": "ipython3",
   "version": "3.8.3"
  }
 },
 "nbformat": 4,
 "nbformat_minor": 4
}
