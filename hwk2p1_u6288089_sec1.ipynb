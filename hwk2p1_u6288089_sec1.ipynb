{
 "cells": [
  {
   "cell_type": "code",
   "execution_count": 63,
   "metadata": {},
   "outputs": [
    {
     "name": "stdout",
     "output_type": "stream",
     "text": [
      "1.2214026666666666\n"
     ]
    }
   ],
   "source": [
    "#task1\n",
    "#find e^0.2 \n",
    "\n",
    "import math\n",
    "def factorial(n):\n",
    "    #innitialize product\n",
    "    product = 1\n",
    "    for i in range(1,n+1):\n",
    "        product = product * i\n",
    "    return(product)\n",
    "\n",
    "#find e^0.2\n",
    "sum = 0\n",
    "x = 0.2\n",
    "for i in range(0,6):\n",
    "    sum = sum + (x**i)/factorial(i)\n",
    "print(sum)"
   ]
  },
  {
   "cell_type": "code",
   "execution_count": 64,
   "metadata": {},
   "outputs": [
    {
     "name": "stdout",
     "output_type": "stream",
     "text": [
      "es = 0.0005\n",
      "output = 1.0 ea = 100.0\n",
      "output = 1.2 ea = 16.666666666666664\n",
      "output = 1.22 ea = 1.6393442622950833\n",
      "output = 1.2213333333333334 ea = 0.10917030567686205\n",
      "output = 1.2214 ea = 0.005458217346214125\n",
      "output = 1.2214026666666666 ea = 0.0002183282171696027\n",
      "final output = 1.2214026666666666\n"
     ]
    }
   ],
   "source": [
    "#task1\n",
    "#find e^0.2 using stopping criterion\n",
    "\n",
    "output = 0\n",
    "prev_output = 0\n",
    "x = 0.2\n",
    "p = 5\n",
    "es = 0.5*(10**(2-p))\n",
    "ea = 100\n",
    "i = 0\n",
    "\n",
    "print('es = {}'.format(es))\n",
    "while(ea>es):\n",
    "    output = output + (x**i)/factorial(i)\n",
    "    i+=1\n",
    "    ea = abs((output - prev_output)/output) * 100\n",
    "    prev_output = output\n",
    "    print('output = {} ea = {}'.format(output,ea))\n",
    "#end while\n",
    "\n",
    "print('final output = {}'.format(output))"
   ]
  },
  {
   "cell_type": "code",
   "execution_count": 65,
   "metadata": {
    "scrolled": true
   },
   "outputs": [
    {
     "name": "stdout",
     "output_type": "stream",
     "text": [
      "ln(0.19999999999999996) = -1.6069694063693771\n",
      "ln(0.19999999999999996) = -1.6094379124341005\n"
     ]
    }
   ],
   "source": [
    "#task2\n",
    "#find ln(0.2) = ln(1-x) = ln(1-0.8)\n",
    "\n",
    "import math\n",
    "MAXTERMS = 20\n",
    "output = 0\n",
    "x = 0.8\n",
    "for i in range(1,MAXTERMS):\n",
    "    output = output + (-1)*(x**i)/i\n",
    "    \n",
    "print('ln({}) = {}'.format(1-x,output))\n",
    "print('ln({}) = {}'.format(1-x,math.log(1-x)))"
   ]
  },
  {
   "cell_type": "code",
   "execution_count": 66,
   "metadata": {},
   "outputs": [
    {
     "name": "stdout",
     "output_type": "stream",
     "text": [
      "ln(4.699990829860543) = 1.54761365289247\n",
      "ln(4.699990829860543) = 1.547560557620608\n"
     ]
    }
   ],
   "source": [
    "#task2\n",
    "#find ln(4.7) = ln(1+x) = ln(1+3.7)\n",
    "#             = ln(e*y)[e*y=4.7 --> y=1.72903] = ln(e*1.72903) = ln(e)+ln(1.72903)\n",
    "#             = 1+ln(1.72903) = 1+ln(0.72903)\n",
    "\n",
    "MAXTERMS =   20\n",
    "output = 0\n",
    "x = 0.72903\n",
    "for i in range(1,MAXTERMS):\n",
    "    output = output + ((-1)**(i+1))*(x**i)/i\n",
    "result = 1 + output\n",
    "\n",
    "print('ln({}) = {}'.format(math.e*(1+x),result))\n",
    "print('ln({}) = {}'.format(math.e*(1+x),math.log(math.e*(1+x))))\n"
   ]
  },
  {
   "cell_type": "code",
   "execution_count": 86,
   "metadata": {},
   "outputs": [
    {
     "name": "stdout",
     "output_type": "stream",
     "text": [
      "1.0986138077204695\n",
      "1.2039688868081242\n",
      "ln(10) = 2.302582694528594\n",
      "ln(2) = 0.6931473404727159\n",
      "log(2)10 = 3.3219238682475036\n"
     ]
    }
   ],
   "source": [
    "#task3\n",
    "#find log2(10) = ln(10)/ln(2)\n",
    "\n",
    "#ln(10) = ln(1+x) = ln(1+9)\n",
    "#       = ln(3e*y)[e*y=10 --> y=1.22626] = ln(3e*1.22626) = ln(3e)+ln(1.22626)\n",
    "#       = 1+ln(3)+ln(1+0.22626) = 1+ln(e*1.10364)+log(1+0.22626) \n",
    "#       = 2+log(1+0.10364)+log(1+0.22626)\n",
    "\n",
    "import math\n",
    "MAXTERMS = 20\n",
    "outputx = 0\n",
    "x = 0.10364\n",
    "for i in range(1,MAXTERMS):\n",
    "    outputx = outputx + ((-1)**(i+1))*(x**i)/i\n",
    "resultx = 1 + outputx    \n",
    "print('{}'.format(resultx))\n",
    "\n",
    "outputy = 0\n",
    "y = 0.22626\n",
    "for i in range(1,MAXTERMS):\n",
    "    outputy = outputy + ((-1)**(i+1))*(y**i)/i\n",
    "resulty = 1 + outputy    \n",
    "print('{}'.format(resulty))\n",
    "\n",
    "ans = resultx + resulty\n",
    "print('ln(10) = {}'.format(ans)) \n",
    "\n",
    "#ln(2) = ln(1+x) = ln(1+1)\n",
    "#      = ln(e*y)[e*y=1 --> y=0.735759] = ln(e*0.735759) = ln(e)+ln(0.735759)\n",
    "#      = 1+ln(1-0.264241)\n",
    "\n",
    "outputz = 0\n",
    "z = 0.264241\n",
    "for i in range(1,MAXTERMS):\n",
    "    outputz = outputz + (-1)*(z**i)/i\n",
    "resultz = 1 + outputz   \n",
    "print('ln(2) = {}'.format(resultz))\n",
    "\n",
    "\n",
    "#log2(10) = ln(10)/ln(2)\n",
    "n = ans/resultz\n",
    "print('log(2)10 = {}'.format(n))"
   ]
  },
  {
   "cell_type": "code",
   "execution_count": 85,
   "metadata": {},
   "outputs": [
    {
     "name": "stdout",
     "output_type": "stream",
     "text": [
      "sin(60 degree) = 0.8660254037844386\n"
     ]
    }
   ],
   "source": [
    "#task3\n",
    "#find sin(60)\n",
    "import math\n",
    "\n",
    "inf = 10\n",
    "x = math.pi/3\n",
    "sin = 0\n",
    "for i in range(0,inf):\n",
    "    sin = sin + (((-1)**i)/factorial((2*i)+1))*(x**((2*i)+1))\n",
    "print('sin(60 degree) =', sin)"
   ]
  },
  {
   "cell_type": "code",
   "execution_count": 78,
   "metadata": {},
   "outputs": [
    {
     "name": "stdout",
     "output_type": "stream",
     "text": [
      "arctan(0.4) = 0.3805063769296064\n"
     ]
    }
   ],
   "source": [
    "#task3\n",
    "#find tan-1(0.4)\n",
    "import math\n",
    "\n",
    "inf = 10\n",
    "x = 0.4\n",
    "arctan = 0\n",
    "for i in range(0,inf):\n",
    "    arctan = arctan + (((-1)**i)/((2*i)+1))*(x**((2*i)+1))\n",
    "print('arctan(0.4) =', arctan)"
   ]
  },
  {
   "cell_type": "code",
   "execution_count": 44,
   "metadata": {
    "scrolled": true
   },
   "outputs": [
    {
     "name": "stdout",
     "output_type": "stream",
     "text": [
      "ln(0.6) = -0.5108256228771941\n"
     ]
    }
   ],
   "source": [
    "#task3\n",
    "#find ln(0.6) = ln(1-x) = ln(1-0.4)\n",
    "import math\n",
    "\n",
    "MAXTERMS = 20\n",
    "output = 0\n",
    "x = 0.4\n",
    "for i in range(1,MAXTERMS):\n",
    "    output = output + (-1)*(x**i)/i\n",
    "    \n",
    "print('ln({}) = {}'.format(1-x,output))\n",
    "    "
   ]
  },
  {
   "cell_type": "code",
   "execution_count": 88,
   "metadata": {},
   "outputs": [
    {
     "data": {
      "image/png": "[encoded data removed]",
      "text/plain": [
       "<Figure size 432x288 with 1 Axes>"
      ]
     },
     "metadata": {
      "needs_background": "light"
     },
     "output_type": "display_data"
    }
   ],
   "source": [
    "#task4\n",
    "#f(x)=x^2-2x-3\n",
    "import matplotlib.pyplot as plt\n",
    "import numpy as np\n",
    "\n",
    "def f(x):\n",
    "    return x**2 - 2*x -3\n",
    "\n",
    "# Prepare the data\n",
    "x = np.linspace(-10, 10, 100)\n",
    "y = f(x)\n",
    "\n",
    "# Plot the data\n",
    "plt.plot(x,y, label='y = f(x)')\n",
    "\n",
    "# # Add a legend\n",
    "plt.legend()\n",
    "\n",
    "# # Show the plot\n",
    "plt.show()"
   ]
  },
  {
   "cell_type": "code",
   "execution_count": 89,
   "metadata": {},
   "outputs": [
    {
     "data": {
      "image/png": "[encoded data removed]",
      "text/plain": [
       "<Figure size 432x288 with 1 Axes>"
      ]
     },
     "metadata": {
      "needs_background": "light"
     },
     "output_type": "display_data"
    }
   ],
   "source": [
    "#task4\n",
    "#f(x)=sin(10x)+cos(3x)\n",
    "import matplotlib.pyplot as plt\n",
    "import numpy as np\n",
    "\n",
    "def f(x):\n",
    "    return np.sin(10*x) + np.cos(3*x)\n",
    "\n",
    "# Prepare the data\n",
    "x = np.linspace(-10, 10, 100)\n",
    "y = f(x)\n",
    "\n",
    "# Plot the data\n",
    "plt.plot(x,y, label='y = f(x)')\n",
    "\n",
    "# # Add a legend\n",
    "plt.legend()\n",
    "\n",
    "# # Show the plot\n",
    "plt.show()"
   ]
  },
  {
   "cell_type": "code",
   "execution_count": 93,
   "metadata": {},
   "outputs": [
    {
     "data": {
      "image/png": "[encoded data removed]",
      "text/plain": [
       "<Figure size 432x288 with 1 Axes>"
      ]
     },
     "metadata": {
      "needs_background": "light"
     },
     "output_type": "display_data"
    }
   ],
   "source": [
    "#task4\n",
    "#f(x)=sin(2*pi*x)+e^2*x+x-2.5\n",
    "import matplotlib.pyplot as plt\n",
    "import numpy as np\n",
    "import math\n",
    "\n",
    "def f(x):\n",
    "    return np.sin(2*math.pi*x) + (np.e**(2*x)) + x- 2.5\n",
    "\n",
    "# Prepare the data\n",
    "x = np.linspace(-10, 10, 100)\n",
    "y = f(x)\n",
    "\n",
    "# Plot the data\n",
    "plt.plot(x,y, label='y = f(x)')\n",
    "\n",
    "# # Add a legend\n",
    "plt.legend()\n",
    "\n",
    "# # Show the plot\n",
    "plt.show()"
   ]
  },
  {
   "cell_type": "code",
   "execution_count": null,
   "metadata": {},
   "outputs": [],
   "source": []
  }
 ],
 "metadata": {
  "kernelspec": {
   "display_name": "Python 3",
   "language": "python",
   "name": "python3"
  },
  "language_info": {
   "codemirror_mode": {
    "name": "ipython",
    "version": 3
   },
   "file_extension": ".py",
   "mimetype": "text/x-python",
   "name": "python",
   "nbconvert_exporter": "python",
   "pygments_lexer": "ipython3",
   "version": "3.8.3"
  }
 },
 "nbformat": 4,
 "nbformat_minor": 4
}
