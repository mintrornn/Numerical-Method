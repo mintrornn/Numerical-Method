{
 "cells": [
  {
   "cell_type": "code",
   "execution_count": 1,
   "metadata": {},
   "outputs": [],
   "source": [
    "import numpy as np\n",
    "import math"
   ]
  },
  {
   "cell_type": "code",
   "execution_count": 2,
   "metadata": {},
   "outputs": [],
   "source": [
    "M = np.matrix([\n",
    "    [4,-2,1,8],\n",
    "    [1,1,1,-13],\n",
    "    [9,3,1,3]\n",
    "])"
   ]
  },
  {
   "cell_type": "code",
   "execution_count": 3,
   "metadata": {},
   "outputs": [
    {
     "name": "stdout",
     "output_type": "stream",
     "text": [
      "[[ 3 -3  0 21]]\n"
     ]
    }
   ],
   "source": [
    "eq4 = M[0,:]-M[1,:]\n",
    "print(eq4)"
   ]
  },
  {
   "cell_type": "code",
   "execution_count": 4,
   "metadata": {},
   "outputs": [
    {
     "name": "stdout",
     "output_type": "stream",
     "text": [
      "[[ 1. -1.  0.  7.]]\n"
     ]
    }
   ],
   "source": [
    "eq4 = eq4 / 3\n",
    "print(eq4)"
   ]
  },
  {
   "cell_type": "code",
   "execution_count": 5,
   "metadata": {},
   "outputs": [
    {
     "name": "stdout",
     "output_type": "stream",
     "text": [
      "[[  4.  -2.   1.   8.]\n",
      " [  1.   1.   1. -13.]\n",
      " [  9.   3.   1.   3.]\n",
      " [  1.  -1.   0.   7.]]\n"
     ]
    }
   ],
   "source": [
    "M = np.append(M,eq4,axis=0)\n",
    "print(M)"
   ]
  },
  {
   "cell_type": "code",
   "execution_count": 6,
   "metadata": {},
   "outputs": [
    {
     "name": "stdout",
     "output_type": "stream",
     "text": [
      "[[ 8.  2.  0. 16.]]\n"
     ]
    }
   ],
   "source": [
    "eq5 = M[2,:] - M[1,:]\n",
    "print(eq5)"
   ]
  },
  {
   "cell_type": "code",
   "execution_count": 7,
   "metadata": {},
   "outputs": [
    {
     "name": "stdout",
     "output_type": "stream",
     "text": [
      "[[4. 1. 0. 8.]]\n"
     ]
    }
   ],
   "source": [
    "eq5 = eq5 / 2\n",
    "print(eq5)"
   ]
  },
  {
   "cell_type": "code",
   "execution_count": 8,
   "metadata": {},
   "outputs": [
    {
     "name": "stdout",
     "output_type": "stream",
     "text": [
      "[[  4.  -2.   1.   8.]\n",
      " [  1.   1.   1. -13.]\n",
      " [  9.   3.   1.   3.]\n",
      " [  1.  -1.   0.   7.]\n",
      " [  4.   1.   0.   8.]]\n"
     ]
    }
   ],
   "source": [
    "M = np.append(M,eq5,axis=0)\n",
    "print(M)"
   ]
  },
  {
   "cell_type": "code",
   "execution_count": 11,
   "metadata": {},
   "outputs": [
    {
     "name": "stdout",
     "output_type": "stream",
     "text": [
      "[[ 5.  0.  0. 15.]]\n"
     ]
    }
   ],
   "source": [
    "eq6 = eq4 + eq5\n",
    "# eq6 = M[3,:] + M[4,:]\n",
    "print(eq6)"
   ]
  },
  {
   "cell_type": "code",
   "execution_count": 12,
   "metadata": {},
   "outputs": [
    {
     "name": "stdout",
     "output_type": "stream",
     "text": [
      "[[1. 0. 0. 3.]]\n"
     ]
    }
   ],
   "source": [
    "eq6 = eq6 / 5\n",
    "print(eq6)"
   ]
  },
  {
   "cell_type": "code",
   "execution_count": 13,
   "metadata": {},
   "outputs": [
    {
     "name": "stdout",
     "output_type": "stream",
     "text": [
      "[[  4.  -2.   1.   8.]\n",
      " [  1.   1.   1. -13.]\n",
      " [  9.   3.   1.   3.]\n",
      " [  1.  -1.   0.   7.]\n",
      " [  4.   1.   0.   8.]\n",
      " [  1.   0.   0.   3.]]\n"
     ]
    }
   ],
   "source": [
    "M = np.append(M,eq6,axis=0)\n",
    "print(M)"
   ]
  },
  {
   "cell_type": "code",
   "execution_count": 14,
   "metadata": {},
   "outputs": [
    {
     "name": "stdout",
     "output_type": "stream",
     "text": [
      "[[ 0.  1.  0. -4.]]\n"
     ]
    }
   ],
   "source": [
    "eq7 = eq6 - eq4\n",
    "print(eq7)"
   ]
  },
  {
   "cell_type": "code",
   "execution_count": 15,
   "metadata": {},
   "outputs": [
    {
     "name": "stdout",
     "output_type": "stream",
     "text": [
      "[[  4.  -2.   1.   8.]\n",
      " [  1.   1.   1. -13.]\n",
      " [  9.   3.   1.   3.]\n",
      " [  1.  -1.   0.   7.]\n",
      " [  4.   1.   0.   8.]\n",
      " [  1.   0.   0.   3.]\n",
      " [  0.   1.   0.  -4.]]\n"
     ]
    }
   ],
   "source": [
    "M = np.append(M,eq7,axis = 0)\n",
    "print(M)"
   ]
  },
  {
   "cell_type": "code",
   "execution_count": 16,
   "metadata": {},
   "outputs": [
    {
     "name": "stdout",
     "output_type": "stream",
     "text": [
      "[[  0.   0.   1. -12.]]\n"
     ]
    }
   ],
   "source": [
    "eq8 = M[1,:] - M[5,:] - M[6,:]\n",
    "# eq8 = M[1,:] - eq6 - eq7\n",
    "print(eq8)"
   ]
  },
  {
   "cell_type": "code",
   "execution_count": 17,
   "metadata": {},
   "outputs": [
    {
     "name": "stdout",
     "output_type": "stream",
     "text": [
      "[[  4.  -2.   1.   8.]\n",
      " [  1.   1.   1. -13.]\n",
      " [  9.   3.   1.   3.]\n",
      " [  1.  -1.   0.   7.]\n",
      " [  4.   1.   0.   8.]\n",
      " [  1.   0.   0.   3.]\n",
      " [  0.   1.   0.  -4.]\n",
      " [  0.   0.   1. -12.]]\n"
     ]
    }
   ],
   "source": [
    "M = np.append(M,eq8,axis=0)\n",
    "print(M)"
   ]
  },
  {
   "cell_type": "code",
   "execution_count": 3,
   "metadata": {},
   "outputs": [
    {
     "data": {
      "text/plain": [
       "matrix([[ 4, -2,  1],\n",
       "        [ 1,  1,  1],\n",
       "        [ 9,  3,  1]])"
      ]
     },
     "execution_count": 3,
     "metadata": {},
     "output_type": "execute_result"
    }
   ],
   "source": [
    "A = np.matrix([\n",
    "    [4,-2,1],\n",
    "    [1,1,1],\n",
    "    [9,3,1]\n",
    "])\n",
    "A"
   ]
  },
  {
   "cell_type": "code",
   "execution_count": 4,
   "metadata": {},
   "outputs": [
    {
     "data": {
      "text/plain": [
       "matrix([[  8],\n",
       "        [-13],\n",
       "        [  3]])"
      ]
     },
     "execution_count": 4,
     "metadata": {},
     "output_type": "execute_result"
    }
   ],
   "source": [
    "b = np.matrix([\n",
    "    [8],\n",
    "    [-13],\n",
    "    [3]\n",
    "])\n",
    "b"
   ]
  },
  {
   "cell_type": "code",
   "execution_count": 20,
   "metadata": {},
   "outputs": [
    {
     "name": "stdout",
     "output_type": "stream",
     "text": [
      "[[ 0.06666667 -0.16666667  0.1       ]\n",
      " [-0.26666667  0.16666667  0.1       ]\n",
      " [ 0.2         1.         -0.2       ]]\n"
     ]
    }
   ],
   "source": [
    "inv_A = np.linalg.inv(A)\n",
    "print(inv_A)"
   ]
  },
  {
   "cell_type": "code",
   "execution_count": 21,
   "metadata": {},
   "outputs": [
    {
     "name": "stdout",
     "output_type": "stream",
     "text": [
      "[[  3.]\n",
      " [ -4.]\n",
      " [-12.]]\n"
     ]
    }
   ],
   "source": [
    "x = np.dot(inv_A,b)\n",
    "print(x)"
   ]
  },
  {
   "cell_type": "code",
   "execution_count": 22,
   "metadata": {},
   "outputs": [
    {
     "name": "stdout",
     "output_type": "stream",
     "text": [
      "[[  8  -2   1]\n",
      " [-13   1   1]\n",
      " [  3   3   1]]\n"
     ]
    }
   ],
   "source": [
    "# Cramer's rule\n",
    "\n",
    "Ax1 = A.copy()\n",
    "Ax1[:,0] = b\n",
    "print(Ax1)"
   ]
  },
  {
   "cell_type": "code",
   "execution_count": 23,
   "metadata": {},
   "outputs": [
    {
     "name": "stdout",
     "output_type": "stream",
     "text": [
      "2.9999999999999996\n"
     ]
    }
   ],
   "source": [
    "x1 = np.linalg.det(Ax1)/np.linalg.det(A)\n",
    "print(x1)"
   ]
  },
  {
   "cell_type": "code",
   "execution_count": 24,
   "metadata": {},
   "outputs": [
    {
     "name": "stdout",
     "output_type": "stream",
     "text": [
      "3.0\n"
     ]
    }
   ],
   "source": [
    "print(round(x1))"
   ]
  },
  {
   "cell_type": "code",
   "execution_count": 25,
   "metadata": {},
   "outputs": [
    {
     "name": "stdout",
     "output_type": "stream",
     "text": [
      "[[  4   8   1]\n",
      " [  1 -13   1]\n",
      " [  9   3   1]]\n"
     ]
    }
   ],
   "source": [
    "Ax2 = A.copy()\n",
    "Ax2[:,1] = b\n",
    "print(Ax2)"
   ]
  },
  {
   "cell_type": "code",
   "execution_count": 26,
   "metadata": {},
   "outputs": [
    {
     "name": "stdout",
     "output_type": "stream",
     "text": [
      "-4.000000000000003\n",
      "-4.0\n"
     ]
    }
   ],
   "source": [
    "x2 = np.linalg.det(Ax2)/np.linalg.det(A)\n",
    "print(x2)\n",
    "print(round(x2))"
   ]
  },
  {
   "cell_type": "code",
   "execution_count": 27,
   "metadata": {},
   "outputs": [
    {
     "name": "stdout",
     "output_type": "stream",
     "text": [
      "[[  4  -2   8]\n",
      " [  1   1 -13]\n",
      " [  9   3   3]]\n"
     ]
    }
   ],
   "source": [
    "Ax3 = A.copy()\n",
    "Ax3[:,2] = b\n",
    "print(Ax3)"
   ]
  },
  {
   "cell_type": "code",
   "execution_count": 28,
   "metadata": {},
   "outputs": [
    {
     "name": "stdout",
     "output_type": "stream",
     "text": [
      "-12.0\n",
      "-12.0\n"
     ]
    }
   ],
   "source": [
    "x3 = np.linalg.det(Ax3)/np.linalg.det(A)\n",
    "print(x3)\n",
    "print(round(x3))"
   ]
  },
  {
   "cell_type": "code",
   "execution_count": 5,
   "metadata": {},
   "outputs": [
    {
     "name": "stdout",
     "output_type": "stream",
     "text": [
      "[[ 4. -2.  1.]\n",
      " [ 1.  1.  1.]\n",
      " [ 9.  3.  1.]]\n"
     ]
    }
   ],
   "source": [
    "A = A * 1.0\n",
    "print(A)"
   ]
  },
  {
   "cell_type": "code",
   "execution_count": 6,
   "metadata": {},
   "outputs": [
    {
     "name": "stdout",
     "output_type": "stream",
     "text": [
      "[[  8.]\n",
      " [-13.]\n",
      " [  3.]]\n"
     ]
    }
   ],
   "source": [
    "b = b * 1.0\n",
    "print(b)"
   ]
  },
  {
   "cell_type": "code",
   "execution_count": 7,
   "metadata": {},
   "outputs": [
    {
     "name": "stdout",
     "output_type": "stream",
     "text": [
      "[[  4.  -2.   1.   8.]\n",
      " [  1.   1.   1. -13.]\n",
      " [  9.   3.   1.   3.]]\n"
     ]
    }
   ],
   "source": [
    "Ab = np.append(A,b,axis=1)\n",
    "print(Ab)"
   ]
  },
  {
   "cell_type": "code",
   "execution_count": 49,
   "metadata": {},
   "outputs": [],
   "source": [
    "# Gauss's elimination\n",
    "\n",
    "# Iteration 1: work on the first column\n",
    "# Make reference to the top row\n",
    "# update all rows after the top row by removing the first term\n",
    "# of each row."
   ]
  },
  {
   "cell_type": "code",
   "execution_count": 50,
   "metadata": {},
   "outputs": [
    {
     "name": "stdout",
     "output_type": "stream",
     "text": [
      "[[  4.    -2.     1.     8.  ]\n",
      " [  0.     1.5    0.75 -15.  ]\n",
      " [  9.     3.     1.     3.  ]]\n",
      "[[  4.    -2.     1.     8.  ]\n",
      " [  0.     1.5    0.75 -15.  ]\n",
      " [  0.     7.5   -1.25 -15.  ]]\n"
     ]
    }
   ],
   "source": [
    "# Iteration #1\n",
    "\n",
    "# row 2\n",
    "row_factor = Ab[1,0]/Ab[0,0]\n",
    "Ab[1,:] = Ab[1,:] - Ab[0,:]*row_factor\n",
    "print(Ab)\n",
    "\n",
    "# row 3\n",
    "row_factor = Ab[2,0]/Ab[0,0]\n",
    "Ab[2,:] = Ab[2,:] - Ab[0,:]*row_factor\n",
    "print(Ab)"
   ]
  },
  {
   "cell_type": "code",
   "execution_count": 51,
   "metadata": {},
   "outputs": [
    {
     "name": "stdout",
     "output_type": "stream",
     "text": [
      "[[  4.    -2.     1.     8.  ]\n",
      " [  0.     1.5    0.75 -15.  ]\n",
      " [  0.     0.    -5.    60.  ]]\n"
     ]
    }
   ],
   "source": [
    "# Iteration #2\n",
    "# Remove the coefficient of the 2nd variable\n",
    "# Row 3 will be affected\n",
    "\n",
    "# row 3\n",
    "row_factor = Ab[2,1]/Ab[1,1]\n",
    "Ab[2,:] = Ab[2,:] - Ab[1,:]*row_factor\n",
    "print(Ab)"
   ]
  },
  {
   "cell_type": "code",
   "execution_count": 3,
   "metadata": {},
   "outputs": [],
   "source": [
    "def fwd_elim(Ab):\n",
    "    Ab_re = Ab.copy()\n",
    "    [nr,nc] = Ab_re.shape\n",
    "    \n",
    "    # set i as the Iteration index\n",
    "    for i in range(1,nr):\n",
    "        print('Iteration #{}: '.format(i))\n",
    "        # set r as the row index to work on\n",
    "        for r in range(i,nr):\n",
    "            print('  working on row index {}'.format(r))\n",
    "            # iteration index represent the order of the variable that we want to eliminate\n",
    "            row_factor = Ab_re[r,i-1]/Ab_re[i-1,i-1]\n",
    "            Ab_re[r,:] = Ab_re[r,:] - Ab_re[i-1,:]*row_factor\n",
    "        #end for r\n",
    "    #end for i\n",
    "    print(Ab_re)\n",
    "    return Ab_re\n",
    "#end function"
   ]
  },
  {
   "cell_type": "code",
   "execution_count": 72,
   "metadata": {},
   "outputs": [
    {
     "name": "stdout",
     "output_type": "stream",
     "text": [
      "[[  4.  -2.   1.   8.]\n",
      " [  1.   1.   1. -13.]\n",
      " [  9.   3.   1.   3.]]\n"
     ]
    }
   ],
   "source": [
    "Ab = np.append(A,b,axis=1)\n",
    "Ab = Ab * 1.0\n",
    "print(Ab)"
   ]
  },
  {
   "cell_type": "code",
   "execution_count": 73,
   "metadata": {},
   "outputs": [
    {
     "name": "stdout",
     "output_type": "stream",
     "text": [
      "Iteration #1: \n",
      "  working on row index 1\n",
      "  working on row index 2\n",
      "Iteration #2: \n",
      "  working on row index 2\n",
      "[[  4.    -2.     1.     8.  ]\n",
      " [  0.     1.5    0.75 -15.  ]\n",
      " [  0.     0.    -5.    60.  ]]\n"
     ]
    }
   ],
   "source": [
    "Ab_re = fwd_elim(Ab)"
   ]
  },
  {
   "cell_type": "code",
   "execution_count": 74,
   "metadata": {},
   "outputs": [
    {
     "name": "stdout",
     "output_type": "stream",
     "text": [
      "[[  4.  -2.   1.   8.]\n",
      " [  1.   1.   1. -13.]\n",
      " [  9.   3.   1.   3.]]\n"
     ]
    }
   ],
   "source": [
    "print(Ab)"
   ]
  },
  {
   "cell_type": "code",
   "execution_count": 75,
   "metadata": {},
   "outputs": [
    {
     "name": "stdout",
     "output_type": "stream",
     "text": [
      "[[  4.    -2.     1.     8.  ]\n",
      " [  0.     1.5    0.75 -15.  ]\n",
      " [  0.     0.    -5.    60.  ]]\n"
     ]
    }
   ],
   "source": [
    "print(Ab_re)"
   ]
  },
  {
   "cell_type": "code",
   "execution_count": 76,
   "metadata": {},
   "outputs": [
    {
     "name": "stdout",
     "output_type": "stream",
     "text": [
      "-12.0\n"
     ]
    }
   ],
   "source": [
    "x3 = Ab_re[2,3]/Ab_re[2,2]\n",
    "print(x3)"
   ]
  },
  {
   "cell_type": "code",
   "execution_count": 77,
   "metadata": {},
   "outputs": [
    {
     "name": "stdout",
     "output_type": "stream",
     "text": [
      "-4.0\n"
     ]
    }
   ],
   "source": [
    "x2 = (Ab_re[1,3]-(Ab_re[1,2]*x3))/Ab_re[1,1]\n",
    "print(x2)"
   ]
  },
  {
   "cell_type": "code",
   "execution_count": 78,
   "metadata": {},
   "outputs": [
    {
     "name": "stdout",
     "output_type": "stream",
     "text": [
      "3.0\n"
     ]
    }
   ],
   "source": [
    "x1 = (Ab_re[0,3]-(Ab_re[0,1]*x2 + Ab_re[0,2]*x3))/Ab_re[0,0]\n",
    "print(x1)"
   ]
  },
  {
   "cell_type": "code",
   "execution_count": 38,
   "metadata": {},
   "outputs": [],
   "source": [
    "def back_sub(Ab_re):\n",
    "    [nr,nc] = Ab_re.shape\n",
    "    # nr will represent the total number of variables that we have to find\n",
    "    # create x to hold calculated values\n",
    "    x = np.empty(nr)\n",
    "    \n",
    "    # v is the variable iterator (index)\n",
    "    for v in range(nr-1,-1,-1):\n",
    "        print('v = {}'.format(v))\n",
    "        # x_v = (constant - (sum_of_products between coeff_i and x_i))/coeff of x_v\n",
    "        # where i > v\n",
    "        \n",
    "        sum_of_products = 0\n",
    "        for i in range(v+1,nr):\n",
    "            print('  i = {}'.format(i))\n",
    "            product = Ab_re[v,i]*x[i]\n",
    "            sum_of_products = sum_of_products + product\n",
    "        #end for i\n",
    "        \n",
    "        x[v] = (Ab_re[v,nc-1] - sum_of_products)/Ab_re[v,v]\n",
    "    #end for v\n",
    "    print(x)\n",
    "    return x\n",
    "\n",
    "#end function"
   ]
  },
  {
   "cell_type": "code",
   "execution_count": 86,
   "metadata": {},
   "outputs": [
    {
     "name": "stdout",
     "output_type": "stream",
     "text": [
      "v = 2\n",
      "v = 1\n",
      "  i = 2\n",
      "v = 0\n",
      "  i = 1\n",
      "  i = 2\n",
      "[  3.  -4. -12.]\n"
     ]
    }
   ],
   "source": [
    "x = back_sub(Ab_re)"
   ]
  },
  {
   "cell_type": "code",
   "execution_count": 2,
   "metadata": {},
   "outputs": [
    {
     "name": "stdout",
     "output_type": "stream",
     "text": [
      "[[  4.  -2.   1.   8.]\n",
      " [  1.   1.   1. -13.]\n",
      " [  9.   3.   1.   3.]]\n"
     ]
    }
   ],
   "source": [
    "A = np.matrix([\n",
    "    [4,-2,1],\n",
    "    [1,1,1],\n",
    "    [9,3,1]\n",
    "])\n",
    "A = A * 1.0\n",
    "b = np.matrix([\n",
    "    [8],\n",
    "    [-13],\n",
    "    [3]\n",
    "])\n",
    "b = b * 1.0\n",
    "Ab = np.append(A,b,axis=1)\n",
    "print(Ab)"
   ]
  },
  {
   "cell_type": "code",
   "execution_count": 4,
   "metadata": {},
   "outputs": [
    {
     "name": "stdout",
     "output_type": "stream",
     "text": [
      "Iteration #1: \n",
      "  working on row index 1\n",
      "  working on row index 2\n",
      "Iteration #2: \n",
      "  working on row index 2\n",
      "[[  4.    -2.     1.     8.  ]\n",
      " [  0.     1.5    0.75 -15.  ]\n",
      " [  0.     0.    -5.    60.  ]]\n",
      "[[  4.    -2.     1.     8.  ]\n",
      " [  0.     1.5    0.75 -15.  ]\n",
      " [  0.     0.    -5.    60.  ]]\n"
     ]
    }
   ],
   "source": [
    "Ab_re = fwd_elim(Ab)\n",
    "print(Ab_re)"
   ]
  },
  {
   "cell_type": "code",
   "execution_count": 29,
   "metadata": {},
   "outputs": [],
   "source": [
    "def fwd_elim_recurse(Ab):\n",
    "    [nr,nc] = Ab.shape\n",
    "    Abx = Ab.copy()\n",
    "    \n",
    "    # partial pivoting\n",
    "    # (students work on this)\n",
    "    # (rearrange the rows)\n",
    "\n",
    "    if (nr == 1):\n",
    "        # don't do anything\n",
    "        pass\n",
    "    else:\n",
    "        # r is the iterator for the rows whose first element removed\n",
    "        for r in range(1,nr):\n",
    "            row_factor = Abx[r,0]/Abx[0,0]\n",
    "            Abx[r,:] = Abx[r,:] - Abx[0,:]*row_factor\n",
    "        #end for\n",
    "        print(Abx)\n",
    "        # define the red box to be send to the next recursion\n",
    "        red_box = Abx[1:nr,1:nc].copy()\n",
    "        print(red_box)\n",
    "        temp = fwd_elim_recurse(red_box)\n",
    "        Abx[1:nr,1:nc] = temp\n",
    "    #end if\n",
    "    return Abx\n",
    "#end function"
   ]
  },
  {
   "cell_type": "code",
   "execution_count": 16,
   "metadata": {},
   "outputs": [
    {
     "name": "stdout",
     "output_type": "stream",
     "text": [
      "[[  4.  -2.   1.   8.]\n",
      " [  1.   1.   1. -13.]\n",
      " [  9.   3.   1.   3.]]\n"
     ]
    }
   ],
   "source": [
    "print(Ab)"
   ]
  },
  {
   "cell_type": "code",
   "execution_count": 17,
   "metadata": {},
   "outputs": [
    {
     "name": "stdout",
     "output_type": "stream",
     "text": [
      "[[  4.    -2.     1.     8.  ]\n",
      " [  0.     1.5    0.75 -15.  ]\n",
      " [  0.     7.5   -1.25 -15.  ]]\n",
      "[[  1.5    0.75 -15.  ]\n",
      " [  7.5   -1.25 -15.  ]]\n",
      "[[  1.5    0.75 -15.  ]\n",
      " [  0.    -5.    60.  ]]\n",
      "[[-5. 60.]]\n"
     ]
    },
    {
     "data": {
      "text/plain": [
       "matrix([[  4.  ,  -2.  ,   1.  ,   8.  ],\n",
       "        [  0.  ,   1.5 ,   0.75, -15.  ],\n",
       "        [  0.  ,   0.  ,  -5.  ,  60.  ]])"
      ]
     },
     "execution_count": 17,
     "metadata": {},
     "output_type": "execute_result"
    }
   ],
   "source": [
    "fwd_elim_recurse(Ab)"
   ]
  },
  {
   "cell_type": "code",
   "execution_count": 18,
   "metadata": {},
   "outputs": [],
   "source": [
    "def fwd_elim_recurse_pt(Ab):\n",
    "    [nr,nc] = Ab.shape\n",
    "\n",
    "    if (nr == 1):\n",
    "        # don't do anything\n",
    "        pass\n",
    "    else:\n",
    "        # r is the iterator for the rows whose first element removed\n",
    "        for r in range(1,nr):\n",
    "            row_factor = Ab[r,0]/Ab[0,0]\n",
    "            Ab[r,:] = Ab[r,:] - Ab[0,:]*row_factor\n",
    "        #end for\n",
    "        print(Ab)\n",
    "        # define the red box to be send to the next recursion\n",
    "        print(Ab[1:nr,1:nc])\n",
    "        fwd_elim_recurse_pt(Ab[1:nr,1:nc])\n",
    "    #end if\n",
    "#end function"
   ]
  },
  {
   "cell_type": "code",
   "execution_count": 19,
   "metadata": {},
   "outputs": [
    {
     "name": "stdout",
     "output_type": "stream",
     "text": [
      "[[  4.  -2.   1.   8.]\n",
      " [  1.   1.   1. -13.]\n",
      " [  9.   3.   1.   3.]]\n"
     ]
    }
   ],
   "source": [
    "print(Ab)"
   ]
  },
  {
   "cell_type": "code",
   "execution_count": 20,
   "metadata": {},
   "outputs": [
    {
     "name": "stdout",
     "output_type": "stream",
     "text": [
      "[[  4.    -2.     1.     8.  ]\n",
      " [  0.     1.5    0.75 -15.  ]\n",
      " [  0.     7.5   -1.25 -15.  ]]\n",
      "[[  1.5    0.75 -15.  ]\n",
      " [  7.5   -1.25 -15.  ]]\n",
      "[[  1.5    0.75 -15.  ]\n",
      " [  0.    -5.    60.  ]]\n",
      "[[-5. 60.]]\n"
     ]
    }
   ],
   "source": [
    "fwd_elim_recurse_pt(Ab)"
   ]
  },
  {
   "cell_type": "code",
   "execution_count": 21,
   "metadata": {},
   "outputs": [
    {
     "name": "stdout",
     "output_type": "stream",
     "text": [
      "[[  4.    -2.     1.     8.  ]\n",
      " [  0.     1.5    0.75 -15.  ]\n",
      " [  0.     0.    -5.    60.  ]]\n"
     ]
    }
   ],
   "source": [
    "print(Ab)"
   ]
  },
  {
   "cell_type": "code",
   "execution_count": 22,
   "metadata": {},
   "outputs": [
    {
     "name": "stdout",
     "output_type": "stream",
     "text": [
      "[[0. 2. 5. 1.]\n",
      " [2. 1. 1. 1.]\n",
      " [3. 1. 0. 2.]]\n"
     ]
    }
   ],
   "source": [
    "Ab = np.array([\n",
    "    [0,2,5,1],\n",
    "    [2,1,1,1],\n",
    "    [3,1,0,2]\n",
    "])\n",
    "Ab = Ab*1.0\n",
    "print(Ab)"
   ]
  },
  {
   "cell_type": "code",
   "execution_count": 23,
   "metadata": {},
   "outputs": [
    {
     "name": "stdout",
     "output_type": "stream",
     "text": [
      "[[0. 2. 5.]\n",
      " [2. 1. 1.]\n",
      " [3. 1. 0.]]\n",
      "[1. 1. 2.]\n"
     ]
    }
   ],
   "source": [
    "A = Ab[:,0:3]\n",
    "print(A)\n",
    "b = Ab[:,3]\n",
    "print(b)"
   ]
  },
  {
   "cell_type": "code",
   "execution_count": 24,
   "metadata": {},
   "outputs": [
    {
     "data": {
      "text/plain": [
       "(3,)"
      ]
     },
     "execution_count": 24,
     "metadata": {},
     "output_type": "execute_result"
    }
   ],
   "source": [
    "b.shape"
   ]
  },
  {
   "cell_type": "code",
   "execution_count": 25,
   "metadata": {},
   "outputs": [
    {
     "data": {
      "text/plain": [
       "array([[ -1.,   5.,  -3.],\n",
       "       [  3., -15.,  10.],\n",
       "       [ -1.,   6.,  -4.]])"
      ]
     },
     "execution_count": 25,
     "metadata": {},
     "output_type": "execute_result"
    }
   ],
   "source": [
    "inv_A = np.linalg.inv(A)\n",
    "inv_A"
   ]
  },
  {
   "cell_type": "code",
   "execution_count": 27,
   "metadata": {},
   "outputs": [
    {
     "name": "stdout",
     "output_type": "stream",
     "text": [
      "[-2.  8. -3.]\n"
     ]
    }
   ],
   "source": [
    "x = np.dot(inv_A,b)\n",
    "print(x)"
   ]
  },
  {
   "cell_type": "code",
   "execution_count": 28,
   "metadata": {},
   "outputs": [
    {
     "name": "stdout",
     "output_type": "stream",
     "text": [
      "[[0. 2. 5. 1.]\n",
      " [2. 1. 1. 1.]\n",
      " [3. 1. 0. 2.]]\n"
     ]
    }
   ],
   "source": [
    "print(Ab)"
   ]
  },
  {
   "cell_type": "code",
   "execution_count": 30,
   "metadata": {},
   "outputs": [
    {
     "name": "stdout",
     "output_type": "stream",
     "text": [
      "[[  0.   2.   5.   1.]\n",
      " [ nan -inf -inf -inf]\n",
      " [ nan -inf -inf -inf]]\n",
      "[[-inf -inf -inf]\n",
      " [-inf -inf -inf]]\n",
      "[[-inf -inf -inf]\n",
      " [ nan  nan  nan]]\n",
      "[[nan nan]]\n"
     ]
    },
    {
     "name": "stderr",
     "output_type": "stream",
     "text": [
      "c:\\program files\\python37\\lib\\site-packages\\ipykernel_launcher.py:11: RuntimeWarning: divide by zero encountered in double_scalars\n",
      "  # This is added back by InteractiveShellApp.init_path()\n",
      "c:\\program files\\python37\\lib\\site-packages\\ipykernel_launcher.py:12: RuntimeWarning: invalid value encountered in multiply\n",
      "  if sys.path[0] == '':\n",
      "c:\\program files\\python37\\lib\\site-packages\\ipykernel_launcher.py:11: RuntimeWarning: invalid value encountered in double_scalars\n",
      "  # This is added back by InteractiveShellApp.init_path()\n"
     ]
    }
   ],
   "source": [
    "Ab_re = fwd_elim_recurse(Ab)"
   ]
  },
  {
   "cell_type": "code",
   "execution_count": 35,
   "metadata": {},
   "outputs": [
    {
     "name": "stdout",
     "output_type": "stream",
     "text": [
      "[[0. 2. 5. 1.]\n",
      " [2. 1. 1. 1.]\n",
      " [3. 1. 0. 2.]]\n"
     ]
    }
   ],
   "source": [
    "Ab = np.array([\n",
    "    [0,2,5,1],\n",
    "    [2,1,1,1],\n",
    "    [3,1,0,2]\n",
    "])\n",
    "Ab = Ab*1.0\n",
    "print(Ab)"
   ]
  },
  {
   "cell_type": "code",
   "execution_count": 32,
   "metadata": {},
   "outputs": [
    {
     "name": "stdout",
     "output_type": "stream",
     "text": [
      "[[0. 2. 5. 1.]\n",
      " [2. 1. 1. 1.]\n",
      " [0. 2. 5. 1.]]\n"
     ]
    }
   ],
   "source": [
    "# faulty swap assignment\n",
    "temp = Ab[0,:]\n",
    "Ab[2,:] = temp\n",
    "Ab[0,:] = Ab[2,:]\n",
    "print(Ab)"
   ]
  },
  {
   "cell_type": "code",
   "execution_count": 36,
   "metadata": {},
   "outputs": [
    {
     "name": "stdout",
     "output_type": "stream",
     "text": [
      "[[3. 1. 0. 2.]\n",
      " [2. 1. 1. 1.]\n",
      " [0. 2. 5. 1.]]\n"
     ]
    }
   ],
   "source": [
    "# correct swap assignment\n",
    "temp = Ab[0,:].copy()\n",
    "Ab[0,:] = Ab[2,:].copy()\n",
    "Ab[2,:] = temp\n",
    "print(Ab)"
   ]
  },
  {
   "cell_type": "code",
   "execution_count": 37,
   "metadata": {},
   "outputs": [
    {
     "name": "stdout",
     "output_type": "stream",
     "text": [
      "[[ 3.          1.          0.          2.        ]\n",
      " [ 0.          0.33333333  1.         -0.33333333]\n",
      " [ 0.          2.          5.          1.        ]]\n",
      "[[ 0.33333333  1.         -0.33333333]\n",
      " [ 2.          5.          1.        ]]\n",
      "[[ 0.33333333  1.         -0.33333333]\n",
      " [ 0.         -1.          3.        ]]\n",
      "[[-1.  3.]]\n",
      "[[ 3.          1.          0.          2.        ]\n",
      " [ 0.          0.33333333  1.         -0.33333333]\n",
      " [ 0.          0.         -1.          3.        ]]\n"
     ]
    }
   ],
   "source": [
    "Ab_re = fwd_elim_recurse(Ab)\n",
    "print(Ab_re)"
   ]
  },
  {
   "cell_type": "code",
   "execution_count": 39,
   "metadata": {},
   "outputs": [
    {
     "name": "stdout",
     "output_type": "stream",
     "text": [
      "v = 2\n",
      "v = 1\n",
      "  i = 2\n",
      "v = 0\n",
      "  i = 1\n",
      "  i = 2\n",
      "[-2.  8. -3.]\n",
      "[-2.  8. -3.]\n"
     ]
    }
   ],
   "source": [
    "x = back_sub(Ab_re)\n",
    "print(x)"
   ]
  },
  {
   "cell_type": "code",
   "execution_count": 41,
   "metadata": {},
   "outputs": [
    {
     "name": "stdout",
     "output_type": "stream",
     "text": [
      "[[0. 2. 5. 1.]\n",
      " [2. 1. 1. 1.]\n",
      " [3. 1. 0. 2.]]\n"
     ]
    }
   ],
   "source": [
    "Ab = np.array([\n",
    "    [0,2,5,1],\n",
    "    [2,1,1,1],\n",
    "    [3,1,0,2]\n",
    "])\n",
    "Ab = Ab*1.0\n",
    "print(Ab)"
   ]
  },
  {
   "cell_type": "code",
   "execution_count": 42,
   "metadata": {},
   "outputs": [
    {
     "name": "stdout",
     "output_type": "stream",
     "text": [
      "[[5. 2. 0. 1.]\n",
      " [1. 1. 2. 1.]\n",
      " [0. 1. 3. 2.]]\n"
     ]
    }
   ],
   "source": [
    "temp = Ab[:,0].copy()\n",
    "Ab[:,0] = Ab[:,2].copy()\n",
    "Ab[:,2] = temp\n",
    "print(Ab)"
   ]
  },
  {
   "cell_type": "code",
   "execution_count": 43,
   "metadata": {},
   "outputs": [
    {
     "name": "stdout",
     "output_type": "stream",
     "text": [
      "[[5. 2. 0.]\n",
      " [1. 1. 2.]\n",
      " [0. 1. 3.]]\n",
      "[1. 1. 2.]\n"
     ]
    }
   ],
   "source": [
    "A = Ab[:,0:3]\n",
    "print(A)\n",
    "b = Ab[:,3]\n",
    "print(b)"
   ]
  },
  {
   "cell_type": "code",
   "execution_count": 44,
   "metadata": {},
   "outputs": [
    {
     "name": "stdout",
     "output_type": "stream",
     "text": [
      "[-3.  8. -2.]\n"
     ]
    }
   ],
   "source": [
    "x = np.dot(np.linalg.inv(A),b)\n",
    "print(x)"
   ]
  },
  {
   "cell_type": "code",
   "execution_count": null,
   "metadata": {},
   "outputs": [],
   "source": []
  }
 ],
 "metadata": {
  "kernelspec": {
   "display_name": "Python 3",
   "language": "python",
   "name": "python3"
  },
  "language_info": {
   "codemirror_mode": {
    "name": "ipython",
    "version": 3
   },
   "file_extension": ".py",
   "mimetype": "text/x-python",
   "name": "python",
   "nbconvert_exporter": "python",
   "pygments_lexer": "ipython3",
   "version": "3.8.3"
  }
 },
 "nbformat": 4,
 "nbformat_minor": 4
}
